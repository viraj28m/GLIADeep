{
 "cells": [
  {
   "cell_type": "code",
   "execution_count": 1,
   "metadata": {},
   "outputs": [],
   "source": [
    "import pandas as pd\n",
    "import matplotlib\n",
    "matplotlib.use('Agg')\n",
    "import matplotlib.pyplot as plt\n",
    "import cv2\n",
    "import os\n",
    "import pydicom\n",
    "import numpy as np\n",
    "from pathlib import Path\n",
    "from sklearn.metrics import precision_score, roc_curve as roc, auc"
   ]
  },
  {
   "cell_type": "markdown",
   "metadata": {},
   "source": [
    "**DEFINE PATHS AND LOAD PATIENT INFO CSVS**"
   ]
  },
  {
   "cell_type": "code",
   "execution_count": 2,
   "metadata": {},
   "outputs": [],
   "source": [
    "patient_info_t1 = pd.read_pickle(str(Path('Methylation/patient_info_t1.pickle').absolute()))"
   ]
  },
  {
   "cell_type": "code",
   "execution_count": 3,
   "metadata": {},
   "outputs": [
    {
     "data": {
      "text/html": [
       "<div>\n",
       "<style scoped>\n",
       "    .dataframe tbody tr th:only-of-type {\n",
       "        vertical-align: middle;\n",
       "    }\n",
       "\n",
       "    .dataframe tbody tr th {\n",
       "        vertical-align: top;\n",
       "    }\n",
       "\n",
       "    .dataframe thead th {\n",
       "        text-align: right;\n",
       "    }\n",
       "</style>\n",
       "<table border=\"1\" class=\"dataframe\">\n",
       "  <thead>\n",
       "    <tr style=\"text-align: right;\">\n",
       "      <th></th>\n",
       "      <th>Patient ID</th>\n",
       "      <th>modality_path</th>\n",
       "      <th>GivenModalityForThisStudy</th>\n",
       "      <th>count</th>\n",
       "      <th>frames_with_tumour</th>\n",
       "    </tr>\n",
       "  </thead>\n",
       "  <tbody>\n",
       "    <tr>\n",
       "      <th>2</th>\n",
       "      <td>TCGA-02-0003</td>\n",
       "      <td>/external_drive/MRI_methylation/Methylation/da...</td>\n",
       "      <td>t1</td>\n",
       "      <td>25</td>\n",
       "      <td>[000000.dcm, 000001.dcm, 000002.dcm, 000003.dc...</td>\n",
       "    </tr>\n",
       "    <tr>\n",
       "      <th>6</th>\n",
       "      <td>TCGA-02-0006</td>\n",
       "      <td>/external_drive/MRI_methylation/Methylation/da...</td>\n",
       "      <td>t1</td>\n",
       "      <td>23</td>\n",
       "      <td>[000000.dcm, 000001.dcm, 000002.dcm, 000003.dc...</td>\n",
       "    </tr>\n",
       "    <tr>\n",
       "      <th>10</th>\n",
       "      <td>TCGA-02-0009</td>\n",
       "      <td>/external_drive/MRI_methylation/Methylation/da...</td>\n",
       "      <td>t1</td>\n",
       "      <td>23</td>\n",
       "      <td>[000000.dcm, 000001.dcm, 000002.dcm, 000003.dc...</td>\n",
       "    </tr>\n",
       "    <tr>\n",
       "      <th>14</th>\n",
       "      <td>TCGA-02-0011</td>\n",
       "      <td>/external_drive/MRI_methylation/Methylation/da...</td>\n",
       "      <td>t1</td>\n",
       "      <td>23</td>\n",
       "      <td>[000000.dcm, 000001.dcm, 000002.dcm, 000003.dc...</td>\n",
       "    </tr>\n",
       "    <tr>\n",
       "      <th>18</th>\n",
       "      <td>TCGA-02-0033</td>\n",
       "      <td>/external_drive/MRI_methylation/Methylation/da...</td>\n",
       "      <td>t1</td>\n",
       "      <td>23</td>\n",
       "      <td>[000000.dcm, 000001.dcm, 000002.dcm, 000003.dc...</td>\n",
       "    </tr>\n",
       "  </tbody>\n",
       "</table>\n",
       "</div>"
      ],
      "text/plain": [
       "      Patient ID                                      modality_path  \\\n",
       "2   TCGA-02-0003  /external_drive/MRI_methylation/Methylation/da...   \n",
       "6   TCGA-02-0006  /external_drive/MRI_methylation/Methylation/da...   \n",
       "10  TCGA-02-0009  /external_drive/MRI_methylation/Methylation/da...   \n",
       "14  TCGA-02-0011  /external_drive/MRI_methylation/Methylation/da...   \n",
       "18  TCGA-02-0033  /external_drive/MRI_methylation/Methylation/da...   \n",
       "\n",
       "   GivenModalityForThisStudy  count  \\\n",
       "2                         t1     25   \n",
       "6                         t1     23   \n",
       "10                        t1     23   \n",
       "14                        t1     23   \n",
       "18                        t1     23   \n",
       "\n",
       "                                   frames_with_tumour  \n",
       "2   [000000.dcm, 000001.dcm, 000002.dcm, 000003.dc...  \n",
       "6   [000000.dcm, 000001.dcm, 000002.dcm, 000003.dc...  \n",
       "10  [000000.dcm, 000001.dcm, 000002.dcm, 000003.dc...  \n",
       "14  [000000.dcm, 000001.dcm, 000002.dcm, 000003.dc...  \n",
       "18  [000000.dcm, 000001.dcm, 000002.dcm, 000003.dc...  "
      ]
     },
     "execution_count": 3,
     "metadata": {},
     "output_type": "execute_result"
    }
   ],
   "source": [
    "patient_info_t1.head()"
   ]
  },
  {
   "cell_type": "markdown",
   "metadata": {},
   "source": [
    "**PREPROCESS INPUT DATA**"
   ]
  },
  {
   "cell_type": "code",
   "execution_count": 4,
   "metadata": {},
   "outputs": [
    {
     "name": "stderr",
     "output_type": "stream",
     "text": [
      "/home/ec2-user/anaconda3/envs/tensorflow_p36/lib/python3.6/site-packages/matplotlib/pyplot.py:537: RuntimeWarning: More than 20 figures have been opened. Figures created through the pyplot interface (`matplotlib.pyplot.figure`) are retained until explicitly closed and may consume too much memory. (To control this warning, see the rcParam `figure.max_open_warning`).\n",
      "  max_open_warning, RuntimeWarning)\n",
      "/home/ec2-user/anaconda3/envs/tensorflow_p36/lib/python3.6/site-packages/pydicom/filereader.py:313: UserWarning: Expected explicit VR, but found implicit VR - using implicit VR for reading\n",
      "  warnings.warn(message, UserWarning)\n"
     ]
    }
   ],
   "source": [
    "for index, row in patient_info_t1.iterrows():\n",
    "    for brain_slice in os.listdir(row['modality_path']):\n",
    "        if str(brain_slice) in row['frames_with_tumour']:\n",
    "            try:\n",
    "                #Load Raw Dicoms\n",
    "                dcm = pydicom.dcmread(os.path.join(row['modality_path'],brain_slice))\n",
    "                img = dcm.pixel_array\n",
    "                original_img = img.copy()\n",
    "                #If the meta data has a slope and intercept, use it to rescale the pixel values to Hounsfield Units\n",
    "                try:\n",
    "                    img = img*dcm.RescaleSlope+dcm.RescaleIntercept\n",
    "                except:\n",
    "                    pass\n",
    "                 #If the meta data has a window parameter use it to define the window in which relevant pixels are found\n",
    "                try:\n",
    "                    min_value, max_value = dcm.WindowCenter - dcm.WindowWidth/2, dcm.WindowCenter + dcm.WindowWidth/2\n",
    "                    img[img < min_value] = min_value\n",
    "                    img[img > max_value] = max_value\n",
    "                except:\n",
    "                    pass\n",
    "                #Filter out noisy images as defined by low mean and standard deviation of pixel vaues\n",
    "                if (np.mean(img)<20) & (np.std(img)<20):\n",
    "                    noisy_images.append(os.path.join(row['modality_path'],brain_slice))\n",
    "                else:\n",
    "#                     img = (img - np.mean(img))/np.std(img)\n",
    "                    plt.figure(figsize=(10, 6.67))\n",
    "                    plt.subplot(1, 2, 1)\n",
    "                    plt.imshow(original_img, cmap=\"bone\", origin=\"lower\")\n",
    "                    plt.title(\"Original Image\")\n",
    "                    plt.axis(\"off\")\n",
    "                    plt.subplot(1, 2, 2)\n",
    "                    plt.imshow(img, cmap=\"bone\", origin=\"lower\")\n",
    "                    plt.title(\"Preprocessed Image\")\n",
    "                    plt.axis(\"off\")\n",
    "                    os.makedirs(row['modality_path'].replace('TCGA-GBM','TCGA-GBM-pre-post_process'),exist_ok=True)\n",
    "                    plt.savefig(os.path.join(row['modality_path'].replace('TCGA-GBM','TCGA-GBM-pre-post_process'),\n",
    "                                         brain_slice.replace('dcm','jpg')), bbox_inches='tight')                  \n",
    "            except Exception as e:\n",
    "                print('****')\n",
    "                print(e)\n",
    "                print(os.path.join(row['modality_path'],brain_slice))\n",
    "                print('****')"
   ]
  },
  {
   "cell_type": "code",
   "execution_count": null,
   "metadata": {},
   "outputs": [],
   "source": []
  }
 ],
 "metadata": {
  "kernelspec": {
   "display_name": "Environment (conda_tensorflow_p36)",
   "language": "python",
   "name": "conda_tensorflow_p36"
  },
  "language_info": {
   "codemirror_mode": {
    "name": "ipython",
    "version": 3
   },
   "file_extension": ".py",
   "mimetype": "text/x-python",
   "name": "python",
   "nbconvert_exporter": "python",
   "pygments_lexer": "ipython3",
   "version": "3.6.5"
  }
 },
 "nbformat": 4,
 "nbformat_minor": 2
}
