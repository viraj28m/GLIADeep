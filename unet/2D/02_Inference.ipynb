{
 "cells": [
  {
   "cell_type": "markdown",
   "metadata": {},
   "source": [
    "# Inference example for trained 2D U-Net model on BraTS.\n",
    "Takes a trained model and performs inference on a few validation examples."
   ]
  },
  {
   "cell_type": "code",
   "execution_count": null,
   "metadata": {},
   "outputs": [],
   "source": [
    "import sys\n",
    "import platform\n",
    "print(\"Python version:\\n\", sys.version)\n",
    "print (\"Path to the python executable:\\n\", sys.executable)"
   ]
  },
  {
   "cell_type": "code",
   "execution_count": null,
   "metadata": {},
   "outputs": [],
   "source": [
    "%matplotlib inline\n",
    "import os\n",
    "import psutil\n",
    "import numpy as np\n",
    "import keras as K\n",
    "import h5py\n",
    "import time\n",
    "import tensorflow as tf \n",
    "import sys; sys.argv=['']; del sys\n",
    "\n",
    "from argparser import args\n",
    "from model import unet\n",
    "\n",
    "if args.keras_api:\n",
    "    import keras as K\n",
    "else:\n",
    "    from tensorflow import keras as K\n",
    "\n",
    "import matplotlib.pyplot as plt\n",
    "\n",
    "onnx=False\n",
    "plot_result = True\n",
    "#TODO - Enable nGraph Bridge - Switch to (decathlon) venv!\n",
    "# import ngraph_bridge\n",
    "\n",
    "if onnx:\n",
    "    #TODO - Include ngraph onnx backend\n",
    "    import onnx\n",
    "    from ngraph_onnx.onnx_importer.importer import import_onnx_model\n",
    "    import ngraph as ng\n",
    "\n",
    "print (\"We are using Tensorflow version\", tf.__version__,\\\n",
    "       \"with Intel(R) MKL\", \"enabled\" if tf.pywrap_tensorflow.IsMklEnabled() else \"disabled\",)"
   ]
  },
  {
   "cell_type": "code",
   "execution_count": null,
   "metadata": {},
   "outputs": [],
   "source": [
    "# Create output directory for images\n",
    "png_directory = \"inference_examples\"\n",
    "if not os.path.exists(png_directory):\n",
    "    os.makedirs(png_directory)\n",
    "    \n",
    "data_filename = os.path.join(args.data_path, args.data_filename)\n",
    "model_filename = os.path.join(args.output_path, args.inference_filename)"
   ]
  },
  {
   "cell_type": "markdown",
   "metadata": {},
   "source": [
    "#### Define the DICE coefficient and loss function"
   ]
  },
  {
   "cell_type": "markdown",
   "metadata": {},
   "source": [
    "The Sørensen–Dice coefficient is a statistic used for comparing the similarity of two samples. Given two sets, X and Y, it is defined as\n",
    "\n",
    "\\begin{equation}\n",
    "dice = \\frac{2|X\\cap Y|}{|X|+|Y|}\n",
    "\\end{equation}"
   ]
  },
  {
   "cell_type": "code",
   "execution_count": null,
   "metadata": {},
   "outputs": [],
   "source": [
    "def calc_dice(target, prediction, smooth=0.01):\n",
    "    \"\"\"\n",
    "    Sorensen Dice coefficient\n",
    "    \"\"\"\n",
    "    prediction = np.round(prediction)\n",
    "\n",
    "    numerator = 2.0 * np.sum(target * prediction) + smooth\n",
    "    denominator = np.sum(target) + np.sum(prediction) + smooth\n",
    "    coef = numerator / denominator\n",
    "\n",
    "    return coef\n",
    "\n",
    "def calc_soft_dice(target, prediction, smooth=0.01):\n",
    "    \"\"\"\n",
    "    Sorensen (Soft) Dice coefficient - Don't round preictions\n",
    "    \"\"\"\n",
    "    numerator = 2.0 * np.sum(target * prediction) + smooth\n",
    "    denominator = np.sum(target) + np.sum(prediction) + smooth\n",
    "    coef = numerator / denominator\n",
    "\n",
    "    return coef"
   ]
  },
  {
   "cell_type": "markdown",
   "metadata": {},
   "source": [
    "## Inference Time!"
   ]
  },
  {
   "cell_type": "markdown",
   "metadata": {},
   "source": [
    "Inferencing in this example can be done in 3 simple steps:\n",
    "1. Load the data\n",
    "1. Load the Keras model \n",
    "1. Perform a `model.predict` on an input image (or set of images)"
   ]
  },
  {
   "cell_type": "markdown",
   "metadata": {},
   "source": [
    "#### Step 1 : Load data"
   ]
  },
  {
   "cell_type": "code",
   "execution_count": null,
   "metadata": {},
   "outputs": [],
   "source": [
    "df = h5py.File(data_filename, \"r\")\n",
    "imgs_testing = df[\"imgs_testing\"]\n",
    "msks_testing = df[\"msks_testing\"]\n",
    "files_testing = df[\"testing_input_files\"]"
   ]
  },
  {
   "cell_type": "markdown",
   "metadata": {},
   "source": [
    "#### Step 2 : Load the model"
   ]
  },
  {
   "cell_type": "code",
   "execution_count": null,
   "metadata": {},
   "outputs": [],
   "source": [
    "unet_model = unet()\n",
    "model = unet_model. ... # TODO: Check load_model definition, i.e explore model.py"
   ]
  },
  {
   "cell_type": "markdown",
   "metadata": {},
   "source": [
    "#### Step 3 (final step): Perform prediction with `model.predict`\n",
    "\n",
    "We first define a convenience function that performs a prediction on one image. This function takes an image ID and a flag `plot_result` which we can use to toggle displaying the results graphically. \n",
    "\n",
    "After we have performed a prediction, we calculate the dice score to analyze how good out prediction was compared to the ground truth. "
   ]
  },
  {
   "cell_type": "code",
   "execution_count": null,
   "metadata": {},
   "outputs": [],
   "source": [
    "def plot_results(model, imgs_validation, msks_validation, img_no, png_directory):\n",
    "\n",
    "    img = imgs_validation[[img_no], ]\n",
    "    msk = msks_validation[[img_no], ]\n",
    "    \n",
    "    #TODO load onnx model in ngraph\n",
    "    if onnx:\n",
    "        onnx_protobuf = onnx.load('./output/unet_model_for_decathlon_100_iter.onnx')\n",
    "        ng_models = import_onnx_model(onnx_protobuf)\n",
    "        ng_model = ng_models[0]\n",
    "        runtime = ng.runtime(backend_name='CPU')\n",
    "        unet = runtime.computation(ng_model['output'], *ng_model['inputs'])\n",
    "        \n",
    "        start_time = time.time()\n",
    "        pred_mask= unet(img)[0]\n",
    "        print (\"Time for prediction ngraph: \", '%.0f'%((time.time()-start_time)*1000),\"ms\")\n",
    "\n",
    "    else:\n",
    "        start_time = time.time()\n",
    "        pred_mask = ... # TODO: How do I use Keras to perform predicitons/inferencing? Params: (img, verbose=0, steps=None)\n",
    "        print (\"Time for prediction TF: \", '%.0f'%((time.time()-start_time)*1000),\"ms\")\n",
    "        \n",
    "    if args.plot:\n",
    "        plt.figure(figsize=(10, 10))\n",
    "        plt.subplot(1, 3, 1)\n",
    "        plt.imshow(img[0, :, :, 0], cmap=\"bone\", origin=\"lower\")\n",
    "        plt.title(\"MRI\")\n",
    "        plt.axis(\"off\")\n",
    "        plt.subplot(1, 3, 2)\n",
    "        plt.imshow(msk[0, :, :, 0], origin=\"lower\")\n",
    "        plt.title(\"Ground Truth\")\n",
    "        plt.axis(\"off\")\n",
    "        plt.subplot(1, 3, 3)\n",
    "        plt.imshow(pred_mask[0, :, :, 0], origin=\"lower\")\n",
    "        plt.title(\"Prediction\\n(Dice = {:.4f})\".format(calc_dice(msk, pred_mask)))\n",
    "        plt.axis(\"off\")\n",
    "\n",
    "        png_filename = os.path.join(png_directory, \"pred_{}.png\".format(img_no))\n",
    "        plt.savefig(png_filename, bbox_inches=\"tight\", pad_inches=0)\n",
    "        print(\"Dice {:.4f}, Soft Dice {:.4f}, Saved png file to: {}\".format(\n",
    "            calc_dice(msk, pred_mask), calc_soft_dice(msk, pred_mask), png_filename))"
   ]
  },
  {
   "cell_type": "markdown",
   "metadata": {},
   "source": [
    "#### Step 3 (continued) : Perform prediction on some images. \n",
    "Use `plot_result=True/False` to toggle plotting the results. If `plot_result=True`, the prediction results will be saved in the output directory for images, which is defined by the `png_directory` variable."
   ]
  },
  {
   "cell_type": "code",
   "execution_count": null,
   "metadata": {},
   "outputs": [],
   "source": [
    "indicies_validation = [40, 63, 43, 55, 99, 101, 19, 46, ] #[40]\n",
    "\n",
    "for idx in indicies_validation:\n",
    "    plot_results(model, imgs_testing, msks_testing,\n",
    "                 idx, args.output_pngs)"
   ]
  },
  {
   "cell_type": "markdown",
   "metadata": {},
   "source": [
    "# Can we perform inference even faster? Hmm.."
   ]
  },
  {
   "cell_type": "markdown",
   "metadata": {},
   "source": [
    "Let's find out. Move on the the next tutorial section."
   ]
  },
  {
   "cell_type": "markdown",
   "metadata": {},
   "source": [
    "`Licensed under the Apache License, Version 2.0 (the \"License\"); you may not use this file except in compliance with the License. You may obtain a copy of the License at http://www.apache.org/licenses/LICENSE-2.0 Unless required by applicable law or agreed to in writing, software distributed under the License is distributed on an \"AS IS\" BASIS, WITHOUT WARRANTIES OR CONDITIONS OF ANY KIND, either express or implied. See the License for the specific language governing permissions and limitations under the License. SPDX-License-Identifier: EPL-2.0`"
   ]
  },
  {
   "cell_type": "markdown",
   "metadata": {},
   "source": [
    "`Copyright (c) 2019 Intel Corporation`"
   ]
  }
 ],
 "metadata": {
  "kernelspec": {
   "display_name": "Python 3.6 (IDP2)",
   "language": "python",
   "name": "idp"
  },
  "language_info": {
   "codemirror_mode": {
    "name": "ipython",
    "version": 3
   },
   "file_extension": ".py",
   "mimetype": "text/x-python",
   "name": "python",
   "nbconvert_exporter": "python",
   "pygments_lexer": "ipython3",
   "version": "3.6.3"
  }
 },
 "nbformat": 4,
 "nbformat_minor": 2
}
