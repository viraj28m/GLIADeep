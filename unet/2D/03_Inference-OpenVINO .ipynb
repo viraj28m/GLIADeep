{
 "cells": [
  {
   "cell_type": "markdown",
   "metadata": {},
   "source": [
    "# Inference example for trained 2D U-Net model on BraTS.\n",
    "In this tutorial, we will use the Intel® Distribution of OpenVINO™ Toolkit to perform inference. We will load the OpenVINO version of the model (IR) and perform inference on a few validation samples from the Decathlon dataset.\n",
    "\n",
    "This tutorial assumes that you have already downloaded and installed [Intel&reg; OpenVINO&trade;](https://software.intel.com/en-us/openvino-toolkit/choose-download) on your computer. These instructions assume version R5 2018."
   ]
  },
  {
   "cell_type": "markdown",
   "metadata": {},
   "source": [
    "### Inferencing with the Intel® Distribution of OpenVINO™ Toolkit"
   ]
  },
  {
   "cell_type": "markdown",
   "metadata": {},
   "source": [
    "In order to use Intel® OpenVINO™, we need to do a few steps:\n",
    "\n",
    "1. Convert our Keras model to a Tensorflow model. \n",
    "1. Freeze the Tensorflow saved format model\n",
    "1. Use the OpenVINO Model Optimizer to convert the above freezed-model to the OpenVINO Intermediate Representation (IR) format\n",
    "1. Validation\n",
    "1. Inference time :)"
   ]
  },
  {
   "cell_type": "code",
   "execution_count": 6,
   "metadata": {},
   "outputs": [
    {
     "name": "stdout",
     "output_type": "stream",
     "text": [
      "The autoreload extension is already loaded. To reload it, use:\n",
      "  %reload_ext autoreload\n"
     ]
    }
   ],
   "source": [
    "%load_ext autoreload\n",
    "%autoreload 1\n",
    "from distutils.sysconfig import get_python_lib\n",
    "from tensorflow.contrib.session_bundle import exporter\n",
    "from time import time\n",
    "import keras\n",
    "import tensorflow as tf\n",
    "import h5py\n",
    "import logging as log\n",
    "import numpy as np\n",
    "import sys; sys.argv=['']; del sys # Make argsparser work\n",
    "%aimport argparser, settings\n",
    "import os\n",
    "\n",
    "import sys, shutil\n",
    "\n",
    "sess = keras.backend.get_session()"
   ]
  },
  {
   "cell_type": "markdown",
   "metadata": {},
   "source": [
    "Since we are going to make changes to `argparser` and `settings` throughout this tutorial, we marked the `argparser` module as autoreload. Everytime we make changes, we will re-import `args` to refresh the cached data."
   ]
  },
  {
   "cell_type": "code",
   "execution_count": 8,
   "metadata": {},
   "outputs": [
    {
     "name": "stdout",
     "output_type": "stream",
     "text": [
      "test1\n"
     ]
    }
   ],
   "source": [
    "from argparser import args\n",
    "print(args.test)"
   ]
  },
  {
   "cell_type": "markdown",
   "metadata": {},
   "source": [
    "Like we have seen in the training tutorial, we define the Sorensen Dice score coefficient, to measure of the overlap between the prediction and ground truth masks:"
   ]
  },
  {
   "cell_type": "code",
   "execution_count": 2,
   "metadata": {},
   "outputs": [],
   "source": [
    "# def dice_coef(y_true, y_pred, axis=(1, 2), smooth=1.):\n",
    "#     \"\"\"\n",
    "#     Sorenson (Soft) Dice\n",
    "#     2 * |TP| / |T|*|P|\n",
    "#     where T is ground truth mask and P is the prediction mask\n",
    "#     \"\"\"\n",
    "#     intersection = tf.reduce_sum(y_true * y_pred, axis=axis)\n",
    "#     union = tf.reduce_sum(y_true + y_pred, axis=axis)\n",
    "#     numerator = tf.constant(2.) * intersection + smooth\n",
    "#     denominator = union + smooth\n",
    "#     coef = numerator / denominator\n",
    "\n",
    "#     return tf.reduce_mean(coef)\n",
    "\n",
    "def dice_score(pred, truth):\n",
    "    \"\"\"\n",
    "    Sorensen Dice score\n",
    "    Measure of the overlap between the prediction and ground truth masks\n",
    "    \"\"\"\n",
    "    numerator = np.sum(pred * truth) * 2.0 + 1.0\n",
    "    denominator = np.sum(pred) + np.sum(truth) + 1.0\n",
    "\n",
    "    return numerator / denominator\n",
    "\n",
    "\n",
    "def dice_coef_loss(target, prediction, axis=(1, 2), smooth=1.):\n",
    "    \"\"\"\n",
    "    Sorenson (Soft) Dice loss\n",
    "    Using -log(Dice) as the loss since it is better behaved.\n",
    "    Also, the log allows avoidance of the division which\n",
    "    can help prevent underflow when the numbers are very small.\n",
    "    \"\"\"\n",
    "    intersection = tf.reduce_sum(prediction * target, axis=axis)\n",
    "    p = tf.reduce_sum(prediction, axis=axis)\n",
    "    t = tf.reduce_sum(target, axis=axis)\n",
    "    numerator = tf.reduce_mean(intersection + smooth)\n",
    "    denominator = tf.reduce_mean(t + p + smooth)\n",
    "    dice_loss = -tf.log(2.*numerator) + tf.log(denominator)\n",
    "\n",
    "    return dice_loss\n",
    "\n",
    "\n",
    "def combined_dice_ce_loss(y_true, y_pred, axis=(1, 2), smooth=1., weight=.9):\n",
    "    \"\"\"\n",
    "    Combined Dice and Binary Cross Entropy Loss\n",
    "    \"\"\"\n",
    "    return weight*dice_coef_loss(y_true, y_pred, axis, smooth) + \\\n",
    "        (1-weight)*keras.losses.binary_crossentropy(y_true, y_pred)"
   ]
  },
  {
   "cell_type": "markdown",
   "metadata": {},
   "source": [
    "Additionally, we define two new parameters, namely `sensitivity` and `specificity`. You can have more information from [Wikipdia]( https://en.wikipedia.org/wiki/Sensitivity_and_specificity)"
   ]
  },
  {
   "cell_type": "code",
   "execution_count": 3,
   "metadata": {},
   "outputs": [],
   "source": [
    "def sensitivity(y_true, y_pred, axis=(1, 2, 3), smooth=1.):\n",
    "    return 1\n",
    "\n",
    "\n",
    "def specificity(y_true, y_pred, axis=(1, 2, 3), smooth=1.):\n",
    "    return 1"
   ]
  },
  {
   "cell_type": "markdown",
   "metadata": {},
   "source": [
    "#### Step1 : Convert our Keras model to a Tensorflow* saved model format"
   ]
  },
  {
   "cell_type": "markdown",
   "metadata": {},
   "source": [
    "If there are other custom loss and metric functions you'll need to specify them and add them to the dictionary below."
   ]
  },
  {
   "cell_type": "code",
   "execution_count": 4,
   "metadata": {},
   "outputs": [],
   "source": [
    "model = keras.models.load_model(args.input_filename, custom_objects={\n",
    "                                \"dice_coef\": dice_score,\n",
    "                                \"sensitivity\": sensitivity,\n",
    "                                \"specificity\": specificity,\n",
    "                                \"combined_dice_ce_loss\": combined_dice_ce_loss,\n",
    "                                \"dice_coef_loss\": dice_coef_loss})"
   ]
  },
  {
   "cell_type": "code",
   "execution_count": 5,
   "metadata": {},
   "outputs": [
    {
     "name": "stdout",
     "output_type": "stream",
     "text": [
      "Freezing the graph.\n",
      "output/saved_2dunet_model_protobuf exists already. Deleting the folder\n",
      "INFO:tensorflow:No assets to save.\n",
      "INFO:tensorflow:No assets to write.\n",
      "INFO:tensorflow:SavedModel written to: output/saved_2dunet_model_protobuf/saved_model.pb\n",
      "TensorFlow protobuf version of model is saved in: output/saved_2dunet_model_protobuf\n",
      "Model input name =  MRImages\n",
      "Model input shape =  (?, 144, 144, 4)\n",
      "Model output name =  PredictionMask/Sigmoid\n",
      "Model output shape =  (?, 144, 144, 1)\n"
     ]
    }
   ],
   "source": [
    "print(\"Freezing the graph.\")\n",
    "keras.backend.set_learning_phase(0)\n",
    "\n",
    "signature = tf.saved_model.signature_def_utils.predict_signature_def(\n",
    "    inputs={'input': model.input}, outputs={'output': model.output})\n",
    "\n",
    "#If directory exists, delete it and let builder rebuild the TF model.\n",
    "if os.path.isdir(args.output_directory):\n",
    "    print (args.output_directory, \"exists already. Deleting the folder\")\n",
    "    shutil.rmtree(args.output_directory)\n",
    "\n",
    "builder = tf.saved_model.builder.SavedModelBuilder(args.output_directory)\n",
    "builder.add_meta_graph_and_variables(sess=sess,    \n",
    "                                     tags=[tf.saved_model.tag_constants.SERVING],    \n",
    "                                     signature_def_map={\n",
    "                                         tf.saved_model.signature_constants.DEFAULT_SERVING_SIGNATURE_DEF_KEY:signature\n",
    "                                     })\n",
    "builder.save() \n",
    "print(\"TensorFlow protobuf version of model is saved in:\", args.output_directory)\n",
    "\n",
    "print(\"Model input name = \", model.input.op.name)\n",
    "print(\"Model input shape = \", model.input.shape)\n",
    "print(\"Model output name = \", model.output.op.name)\n",
    "print(\"Model output shape = \", model.output.shape)"
   ]
  },
  {
   "cell_type": "markdown",
   "metadata": {},
   "source": [
    "#### Step 2: Freeze the Tensorflow saved format model"
   ]
  },
  {
   "cell_type": "markdown",
   "metadata": {},
   "source": [
    "To freeze the mode, we create a folder `frozel_model` and use Tensorflow's `freeze_graph.py`. This process strips any remaining training nodes and turns variables into constants.\n",
    "\n",
    "More info: https://blog.metaflow.fr/tensorflow-how-to-freeze-a-model-and-serve-it-with-a-python-api-d4f3596b3adc\n"
   ]
  },
  {
   "cell_type": "code",
   "execution_count": 6,
   "metadata": {},
   "outputs": [
    {
     "name": "stdout",
     "output_type": "stream",
     "text": [
      "Directory output/frozen_model already exists. Deleting it and re-creating it\n"
     ]
    }
   ],
   "source": [
    "if not os.path.isdir(args.output_frozen_model_dir):\n",
    "    os.mkdir(args.output_frozen_model_dir)\n",
    "else:\n",
    "    print('Directory', args.output_frozen_model_dir, 'already exists. Deleting it and re-creating it')\n",
    "    shutil.rmtree(args.output_frozen_model_dir)\n",
    "    os.mkdir(args.output_frozen_model_dir)"
   ]
  },
  {
   "cell_type": "code",
   "execution_count": 7,
   "metadata": {},
   "outputs": [
    {
     "name": "stdout",
     "output_type": "stream",
     "text": [
      "/home/user01/miniconda3/lib/python3.6/site-packages\n",
      "output/saved_2dunet_model_protobuf\n",
      "PredictionMask/Sigmoid\n"
     ]
    }
   ],
   "source": [
    "packages_directory = get_python_lib()\n",
    "\n",
    "print(packages_directory)\n",
    "print(args.output_directory)\n",
    "print(model.output.op.name)\n",
    "od = args.output_directory"
   ]
  },
  {
   "cell_type": "code",
   "execution_count": 8,
   "metadata": {},
   "outputs": [],
   "source": [
    "from tensorflow.python.tools.freeze_graph import freeze_graph "
   ]
  },
  {
   "cell_type": "code",
   "execution_count": 9,
   "metadata": {},
   "outputs": [
    {
     "name": "stdout",
     "output_type": "stream",
     "text": [
      "INFO:tensorflow:Restoring parameters from output/saved_2dunet_model_protobuf/variables/variables\n",
      "INFO:tensorflow:Froze 46 variables.\n",
      "INFO:tensorflow:Converted 46 variables to const ops.\n"
     ]
    }
   ],
   "source": [
    "freeze_graph(input_graph=\"\", \n",
    "             input_saver=\"\", \n",
    "             input_binary=False, \n",
    "             input_checkpoint=\"\", \n",
    "             restore_op_name=\"save/restore_all\", \n",
    "             filename_tensor_name=\"save/Const:0\", \n",
    "             clear_devices=True, \n",
    "             initializer_nodes=\"\",\n",
    "             input_saved_model_dir='output/saved_2dunet_model_protobuf',\n",
    "             output_node_names='PredictionMask/Sigmoid',\n",
    "             output_graph='output/frozen_model/saved_model_frozen.pb')"
   ]
  },
  {
   "cell_type": "markdown",
   "metadata": {},
   "source": [
    "#### Step 3: Convert the Tensorflow* saved model to the Intermediate Representation (IR) with Intel® OpenVINO™"
   ]
  },
  {
   "cell_type": "markdown",
   "metadata": {},
   "source": [
    "In this step, we will use the Intel® OpenVINO™'s `model optimizer` to convert the frozen TensorFlow* model to Intel® OpenVINO™ IR format. Once you have a frozen model, you can use the Intel® OpenVINO™ `model optimizer` to create the Intel® OpenVINO™ version."
   ]
  },
  {
   "cell_type": "markdown",
   "metadata": {},
   "source": [
    "Let's first set up a few environment variables for the bash code snippet to work. The code below will create a **FP32** precision model. "
   ]
  },
  {
   "cell_type": "markdown",
   "metadata": {},
   "source": [
    "In order to call `mo_ty.py` directly from this script, it is advisable to source the OpenVINO vars in your `.bashrc` script:\n",
    "`source /opt/intel/openvino/bin/setupvars.sh`"
   ]
  },
  {
   "cell_type": "code",
   "execution_count": 10,
   "metadata": {
    "scrolled": true
   },
   "outputs": [
    {
     "name": "stdout",
     "output_type": "stream",
     "text": [
      "Model Optimizer arguments:\n",
      "Common parameters:\n",
      "\t- Path to the Input Model: \t/home/user01/workshop/medical-decathlon/2D/output/frozen_model/saved_model_frozen.pb\n",
      "\t- Path for generated IR: \t/home/user01/workshop/medical-decathlon/2D/output/IR_models/FP32\n",
      "\t- IR output name: \tsaved_model\n",
      "\t- Log level: \tERROR\n",
      "\t- Batch: \tNot specified, inherited from the model\n",
      "\t- Input layers: \tNot specified, inherited from the model\n",
      "\t- Output layers: \tNot specified, inherited from the model\n",
      "\t- Input shapes: \t[1,144,144,4]\n",
      "\t- Mean values: \tNot specified\n",
      "\t- Scale values: \tNot specified\n",
      "\t- Scale factor: \tNot specified\n",
      "\t- Precision of IR: \tFP32\n",
      "\t- Enable fusing: \tTrue\n",
      "\t- Enable grouped convolutions fusing: \tTrue\n",
      "\t- Move mean values to preprocess section: \tFalse\n",
      "\t- Reverse input channels: \tFalse\n",
      "TensorFlow specific parameters:\n",
      "\t- Input model in text protobuf format: \tFalse\n",
      "\t- Path to model dump for TensorBoard: \tNone\n",
      "\t- List of shared libraries with TensorFlow custom layers implementation: \tNone\n",
      "\t- Update the configuration file with input/output node names: \tNone\n",
      "\t- Use configuration file used to generate the model with Object Detection API: \tNone\n",
      "\t- Operations to offload: \tNone\n",
      "\t- Patterns to offload: \tNone\n",
      "\t- Use the config file: \tNone\n",
      "Model Optimizer version: \t2019.1.1-83-g28dfbfd\n",
      "[ WARNING ]  \n",
      "Detected not satisfied dependencies:\n",
      "\ttest-generator: installed: 0.1.2, required: 0.1.1\n",
      "\n",
      "Please install required versions of components or use install_prerequisites script\n",
      "/opt/intel/openvino_2019.1.144/deployment_tools/model_optimizer/install_prerequisites/install_prerequisites_tf.sh\n",
      "Note that install_prerequisites scripts may install additional components.\n",
      "\n",
      "[ SUCCESS ] Generated IR model.\n",
      "[ SUCCESS ] XML file: /home/user01/workshop/medical-decathlon/2D/output/IR_models/FP32/saved_model.xml\n",
      "[ SUCCESS ] BIN file: /home/user01/workshop/medical-decathlon/2D/output/IR_models/FP32/saved_model.bin\n",
      "[ SUCCESS ] Total execution time: 9.42 seconds. \n"
     ]
    }
   ],
   "source": [
    "if not os.path.exists('output/frozen_model/saved_model_frozen.pb'):\n",
    "    print('File output/frozen_model/saved_model_frozen.pb doesn\\'t exist. Please make sure you have a trained keras to TF frozen model')\n",
    "\n",
    "!mo_tf.py \\\n",
    "      --input_model 'output/frozen_model/saved_model_frozen.pb' \\\n",
    "      --input_shape=[1,144,144,4] \\\n",
    "      --data_type FP32  \\\n",
    "      --output_dir output/IR_models/FP32  \\\n",
    "      --model_name saved_model"
   ]
  },
  {
   "cell_type": "markdown",
   "metadata": {},
   "source": [
    "If you would like to infer on a Neural Compute Stick, you will need to output a **FP16** precision model. The code snippet below will do this for you."
   ]
  },
  {
   "cell_type": "markdown",
   "metadata": {},
   "source": [
    "#### Step 4: Validation"
   ]
  },
  {
   "cell_type": "markdown",
   "metadata": {},
   "source": [
    "In the validation step, we will select a few samples from the HDF5 datafile and save them to a separate NumPy datafile called `validation_data.npz`. The inference scripts will use this NumPy file."
   ]
  },
  {
   "cell_type": "code",
   "execution_count": 12,
   "metadata": {},
   "outputs": [],
   "source": [
    "if not os.path.exists('output/validation_data'):\n",
    "    os.makedirs('output/validation_data') # TODO: all openvino-related into an openvino-specific folder"
   ]
  },
  {
   "cell_type": "code",
   "execution_count": 13,
   "metadata": {},
   "outputs": [
    {
     "name": "stdout",
     "output_type": "stream",
     "text": [
      "Created validation_data.npz for sample inference.\n",
      "You may now run `python inference_keras.py`\n"
     ]
    }
   ],
   "source": [
    "with h5py.File(args.hdf5_datafile, \"r\") as df:\n",
    "\n",
    "    indicies_validation = [40,61,101,203,309,400,1100,1509,1790,1876,2309,3678,3898,4385]\n",
    "    imgs_validation = df[\"imgs_validation\"][indicies_validation,]\n",
    "    msks_validation = df[\"msks_validation\"][indicies_validation,]\n",
    "\n",
    "    np.savez(\"output/validation_data/validation_data.npz\",\n",
    "             imgs_validation=imgs_validation,\n",
    "             msks_validation=msks_validation,\n",
    "             indicies_validation=indicies_validation)\n",
    "\n",
    "    print(\"Created validation_data.npz for sample inference.\")\n",
    "    print(\"You may now run `python inference_keras.py`\")"
   ]
  },
  {
   "cell_type": "markdown",
   "metadata": {},
   "source": [
    "### Inferencing with Intel® OpenVINO™\n",
    "\n",
    "Now, we will load the OpenVINO version of the model (IR) and perform inference on a few validation samples from the Decathlon dataset. You will need the extension library (`libcpu_extension_avx2.so`)to handle the `Resize_Bilinear` operations.\n",
    "\n",
    "Typically, the path will be (for CentOS): `${INTEL_CVSDK_DIR}/inference_engine/lib/centos_7.4/intel64/libcpu_extension_avx2.so`"
   ]
  },
  {
   "cell_type": "code",
   "execution_count": 14,
   "metadata": {},
   "outputs": [],
   "source": [
    "from openvino.inference_engine import IENetwork, IEPlugin"
   ]
  },
  {
   "cell_type": "markdown",
   "metadata": {},
   "source": [
    "The `print_stats` prints layer by layer inference times. This is good for profiling which ops are most costly in your model."
   ]
  },
  {
   "cell_type": "code",
   "execution_count": 15,
   "metadata": {},
   "outputs": [],
   "source": [
    "def print_stats(exec_net, input_data, n_channels, batch_size, input_blob, out_blob, args):\n",
    "    # Start sync inference\n",
    "    log.info(\"Starting inference ({} iterations)\".format(args.number_iter))\n",
    "    infer_time = []\n",
    "\n",
    "    for i in range(args.number_iter):\n",
    "        t0 = time()\n",
    "        res = exec_net.infer(inputs={input_blob: input_data[0:batch_size,:n_channels]})\n",
    "        infer_time.append((time() - t0) * 1000)\n",
    "        \n",
    "#         start_time = time.time()\n",
    "#         pred_mask= unet(img)[0]\n",
    "#         print (\"Time for prediction ngraph: \", '%.0f'%((time.time()-start_time)*1000),\"ms\")\n",
    "\n",
    "\n",
    "    average_inference = np.average(np.asarray(infer_time))\n",
    "    log.info(\"Average running time of one batch: {:.5f} ms\".format(average_inference))\n",
    "    log.info(\"Images per second = {:.3f}\".format(batch_size * 1000.0 / average_inference))\n",
    "\n",
    "    perf_counts = exec_net.requests[0].get_perf_counts()\n",
    "    log.info(\"Performance counters:\")\n",
    "    log.info(\"{:<70} {:<15} {:<15} {:<15} {:<10}\".format(\"name\",\n",
    "                                                         \"layer_type\",\n",
    "                                                         \"exec_type\",\n",
    "                                                         \"status\",\n",
    "                                                         \"real_time, us\"))\n",
    "    for layer, stats in perf_counts.items():\n",
    "        log.info(\"{:<70} {:<15} {:<15} {:<15} {:<10}\".format(layer,\n",
    "                                                             stats[\"layer_type\"],\n",
    "                                                             stats[\"exec_type\"],\n",
    "                                                             stats[\"status\"],\n",
    "                                                             stats[\"real_time\"]))"
   ]
  },
  {
   "cell_type": "markdown",
   "metadata": {},
   "source": [
    "Plot the predictions with Matplotlib and save to PNG files"
   ]
  },
  {
   "cell_type": "code",
   "execution_count": 16,
   "metadata": {},
   "outputs": [],
   "source": [
    "def plot_predictions(predictions, input_data, label_data, img_indicies, args):\n",
    "    png_directory = \"inference_examples_openvino\"\n",
    "    if not os.path.exists(png_directory):\n",
    "        os.makedirs(png_directory)\n",
    "\n",
    "    import matplotlib.pyplot as plt\n",
    "\n",
    "    # Processing output blob\n",
    "    log.info(\"Plotting the predictions and saving to png files. Please wait...\")\n",
    "    number_imgs = predictions.shape[0]\n",
    "    num_rows_per_image = args.rows_per_image\n",
    "    row = 0\n",
    "    print(number_imgs,num_rows_per_image,row)\n",
    "    for idx in range(number_imgs):\n",
    "        \n",
    "\n",
    "        if row==0:  plt.figure(figsize=(15,15))\n",
    "\n",
    "        plt.subplot(num_rows_per_image, 3, 1+row*3)\n",
    "        plt.imshow(input_data[idx,0,:,:], cmap=\"bone\", origin=\"lower\")\n",
    "        plt.axis(\"off\")\n",
    "        if row==0: plt.title(\"MRI\")\n",
    "\n",
    "        plt.subplot(num_rows_per_image, 3, 2+row*3)\n",
    "        plt.imshow(label_data[idx,0,:,:], origin=\"lower\")\n",
    "        plt.axis(\"off\")\n",
    "        if row==0: plt.title(\"Ground truth\")\n",
    "\n",
    "        plt.subplot(num_rows_per_image, 3, 3+row*3)\n",
    "        plt.imshow(predictions[idx,0,:,:], origin=\"lower\")\n",
    "        plt.axis(\"off\")\n",
    "        if row ==0:  plt.title(\"Prediction\")\n",
    "\n",
    "        plt.tight_layout()\n",
    "\n",
    "#         if (row == (num_rows_per_image-1)) or (idx == (number_imgs-1)):\n",
    "\n",
    "#             if num_rows_per_image==1:\n",
    "#                 fileidx = \"pred{}.png\".format(img_indicies[idx])\n",
    "#             else:\n",
    "#                 fileidx = \"pred_group{}\".format(idx // num_rows_per_image)\n",
    "#             filename = os.path.join(png_directory, fileidx)\n",
    "#             plt.savefig(filename,\n",
    "#                         bbox_inches=\"tight\", pad_inches=0)\n",
    "#             print(\"Saved file: {}\".format(filename))\n",
    "#             row = 0\n",
    "#         else:\n",
    "#             row += 1\n",
    "        \n",
    "        plt.show()"
   ]
  },
  {
   "cell_type": "code",
   "execution_count": 17,
   "metadata": {},
   "outputs": [],
   "source": [
    "def load_data():\n",
    "    # Load data\n",
    "    # You can create this Numpy datafile by running the create_validation_sample.py script\n",
    "    data_file = np.load(\"output/validation_data/validation_data.npz\")\n",
    "    imgs_validation = data_file[\"imgs_validation\"]\n",
    "    msks_validation = data_file[\"msks_validation\"]\n",
    "    img_indicies = data_file[\"indicies_validation\"]\n",
    "\n",
    "    \n",
    "    # OpenVINO uses channels first tensors (NCHW). TensorFlow usually does channels last (NHWC).\n",
    "    # So we need to transpose the axes.\n",
    "    \n",
    "    input_data = imgs_validation.transpose((0,3,1,2))\n",
    "    msks_data = msks_validation.transpose((0,3,1,2))\n",
    "\n",
    "    return input_data, msks_data, img_indicies"
   ]
  },
  {
   "cell_type": "markdown",
   "metadata": {},
   "source": [
    "#### Step : Load OpenVINO model"
   ]
  },
  {
   "cell_type": "code",
   "execution_count": 18,
   "metadata": {},
   "outputs": [],
   "source": [
    "def load_model(fp16=False):\n",
    "    \"\"\"\n",
    "    Load the OpenVINO model.\n",
    "    \"\"\"\n",
    "    log.info(\"Loading U-Net model to the plugin\")\n",
    "\n",
    "    if fp16:  # Floating point 16 is for Myriad X\n",
    "        model_xml = \"output/IR_models/FP16/saved_model.xml\"\n",
    "    else:     # FP32 for most devices\n",
    "        model_xml = \"output/IR_models/FP32/saved_model.xml\"\n",
    "\n",
    "    model_bin = os.path.splitext(model_xml)[0] + \".bin\"\n",
    "\n",
    "    return model_xml, model_bin"
   ]
  },
  {
   "cell_type": "code",
   "execution_count": 19,
   "metadata": {},
   "outputs": [
    {
     "name": "stdout",
     "output_type": "stream",
     "text": [
      "Device in use: CPU\n",
      "[ INFO ] Loading U-Net model to the plugin\n",
      "[ INFO ] Loading network files:\n",
      "\toutput/IR_models/FP32/saved_model.xml\n",
      "\toutput/IR_models/FP32/saved_model.bin\n"
     ]
    }
   ],
   "source": [
    "log.basicConfig(format=\"[ %(levelname)s ] %(message)s\", level=log.INFO, stream=sys.stdout)\n",
    "\n",
    "# Plugin initialization for specified device and load extensions library if specified\n",
    "plugin = IEPlugin(device=args.device, plugin_dirs=args.plugin_dir)\n",
    "print(\"Device in use:\",args.device)\n",
    "args.cpu_extension=\"/opt/intel/openvino/inference_engine/lib/intel64/libcpu_extension_avx2.so\"\n",
    "if args.cpu_extension and \"CPU\" in args.device:\n",
    "    plugin.add_cpu_extension(args.cpu_extension)\n",
    "\n",
    "# Read IR\n",
    "# If using MYRIAD then we need to load FP16 model version\n",
    "model_xml, model_bin = load_model(args.device == \"MYRIAD\")\n",
    "\n",
    "log.info(\"Loading network files:\\n\\t{}\\n\\t{}\".format(model_xml, model_bin))\n",
    "net = IENetwork(model=model_xml, weights=model_bin)\n"
   ]
  },
  {
   "cell_type": "markdown",
   "metadata": {},
   "source": [
    "The code below checks to see if all of the graphs in the IR are compatible with OpenVINO. If not, then you'll need to probably try to load in an extension library from `${INTEL_CVSDK_DIR}/inference_engine/lib`"
   ]
  },
  {
   "cell_type": "code",
   "execution_count": 20,
   "metadata": {},
   "outputs": [
    {
     "name": "stdout",
     "output_type": "stream",
     "text": [
      "List of supported layers: {'poolD/MaxPool', 'decodeAb/convolution', 'convOuta/Relu', 'transconvA/conv2d_transpose', 'decodeAa/convolution', 'encodeCa/convolution', 'encodeAb/Relu', 'encodeBa/convolution', 'encodeCb/convolution', 'MRImages', 'concatB/concat', 'encodeBb/convolution', 'decodeCb/Relu', 'concatD/concat', 'encodeEb/Relu', 'decodeCa/Relu', 'decodeCa/convolution', 'decodeCb/convolution', 'encodeCa/Relu', 'encodeCb/Relu', 'PredictionMask/convolution', 'poolC/MaxPool', 'transconvE/conv2d_transpose', 'encodeBa/Relu', 'encodeDb/Relu', 'convOutb/Relu', 'decodeBb/convolution', 'poolB/MaxPool', 'encodeAa/convolution', 'transconvC/conv2d_transpose', 'PredictionMask/Sigmoid', 'poolA/MaxPool', 'convOutb/convolution', 'convOuta/convolution', 'decodeBa/Relu', 'encodeAb/convolution', 'encodeDa/convolution', 'decodeAb/Relu', 'concatC/concat', 'encodeEa/convolution', 'encodeBb/Relu', 'encodeEb/convolution', 'decodeBb/Relu', 'decodeBa/convolution', 'encodeDa/Relu', 'decodeAa/Relu', 'encodeAa/Relu', 'transconvB/conv2d_transpose', 'encodeEa/Relu', 'concatA/concat', 'encodeDb/convolution'}\n",
      "List of layers not supported: []\n"
     ]
    }
   ],
   "source": [
    "if \"CPU\" in plugin.device:\n",
    "    supported_layers = plugin.get_supported_layers(net)\n",
    "    print(\"List of supported layers:\", supported_layers)\n",
    "    not_supported_layers = [l for l in net.layers.keys() if l not in supported_layers]\n",
    "    print(\"List of layers not supported:\", not_supported_layers)\n",
    "    if len(not_supported_layers) != 0:\n",
    "        log.error(\"Following layers are not supported by the plugin for specified device {}:\\n {}\"\\\n",
    "                  .format(plugin.device, \", \".join(not_supported_layers)))\n",
    "        log.error(\"Please try to specify cpu extensions library path in sample's command line parameters using -l \"\\\n",
    "                  \"or --cpu_extension command line argument\")\n",
    "        log.error(\"On CPU this is usually -l ${INTEL_CVSDK_DIR}/inference_engine/lib/centos_7.4/intel64/libcpu_extension_avx2.so\")\n",
    "        log.error(\"You may need to build the OpenVINO samples directory for this library to be created on your system.\")\n",
    "        log.error(\"e.g. bash ${INTEL_CVSDK_DIR}/inference_engine/samples/build_samples.sh will trigger the library to be built.\")\n",
    "        log.error(\"Replace 'centos_7.4' with the pathname on your computer e.g. ('ubuntu_16.04')\")\n",
    "        sys.exit(1)\n",
    "\n",
    "assert len(net.inputs.keys()) == 1, \"Sample supports only single input topologies\"\n",
    "assert len(net.outputs) == 1, \"Sample supports only single output topologies\""
   ]
  },
  {
   "cell_type": "markdown",
   "metadata": {},
   "source": [
    "Ask OpenVINO for input and output tensor names and sizes"
   ]
  },
  {
   "cell_type": "code",
   "execution_count": 21,
   "metadata": {},
   "outputs": [
    {
     "name": "stdout",
     "output_type": "stream",
     "text": [
      "(<openvino.inference_engine.ie_api.ExecutableNetwork object at 0x7fbac59177c8>, array([[[[-0.86455375, -0.86455375, -0.86455375, ..., -0.86455375,\n",
      "          -0.86455375, -0.86455375],\n",
      "         [-0.86455375, -0.86455375, -0.86455375, ..., -0.86455375,\n",
      "          -0.86455375, -0.86455375],\n",
      "         [-0.86455375, -0.86455375, -0.86455375, ..., -0.86455375,\n",
      "          -0.86455375, -0.86455375],\n",
      "         ...,\n",
      "         [-0.86455375, -0.86455375, -0.86455375, ..., -0.86455375,\n",
      "          -0.86455375, -0.86455375],\n",
      "         [-0.86455375, -0.86455375, -0.86455375, ..., -0.86455375,\n",
      "          -0.86455375, -0.86455375],\n",
      "         [-0.86455375, -0.86455375, -0.86455375, ..., -0.86455375,\n",
      "          -0.86455375, -0.86455375]],\n",
      "\n",
      "        [[-0.93150562, -0.93150562, -0.93150562, ..., -0.93150562,\n",
      "          -0.93150562, -0.93150562],\n",
      "         [-0.93150562, -0.93150562, -0.93150562, ..., -0.93150562,\n",
      "          -0.93150562, -0.93150562],\n",
      "         [-0.93150562, -0.93150562, -0.93150562, ..., -0.93150562,\n",
      "          -0.93150562, -0.93150562],\n",
      "         ...,\n",
      "         [-0.93150562, -0.93150562, -0.93150562, ..., -0.93150562,\n",
      "          -0.93150562, -0.93150562],\n",
      "         [-0.93150562, -0.93150562, -0.93150562, ..., -0.93150562,\n",
      "          -0.93150562, -0.93150562],\n",
      "         [-0.93150562, -0.93150562, -0.93150562, ..., -0.93150562,\n",
      "          -0.93150562, -0.93150562]],\n",
      "\n",
      "        [[-0.90372157, -0.90372157, -0.90372157, ..., -0.90372157,\n",
      "          -0.90372157, -0.90372157],\n",
      "         [-0.90372157, -0.90372157, -0.90372157, ..., -0.90372157,\n",
      "          -0.90372157, -0.90372157],\n",
      "         [-0.90372157, -0.90372157, -0.90372157, ..., -0.90372157,\n",
      "          -0.90372157, -0.90372157],\n",
      "         ...,\n",
      "         [-0.90372157, -0.90372157, -0.90372157, ..., -0.90372157,\n",
      "          -0.90372157, -0.90372157],\n",
      "         [-0.90372157, -0.90372157, -0.90372157, ..., -0.90372157,\n",
      "          -0.90372157, -0.90372157],\n",
      "         [-0.90372157, -0.90372157, -0.90372157, ..., -0.90372157,\n",
      "          -0.90372157, -0.90372157]],\n",
      "\n",
      "        [[-0.8482843 , -0.8482843 , -0.8482843 , ..., -0.8482843 ,\n",
      "          -0.8482843 , -0.8482843 ],\n",
      "         [-0.8482843 , -0.8482843 , -0.8482843 , ..., -0.8482843 ,\n",
      "          -0.8482843 , -0.8482843 ],\n",
      "         [-0.8482843 , -0.8482843 , -0.8482843 , ..., -0.8482843 ,\n",
      "          -0.8482843 , -0.8482843 ],\n",
      "         ...,\n",
      "         [-0.8482843 , -0.8482843 , -0.8482843 , ..., -0.8482843 ,\n",
      "          -0.8482843 , -0.8482843 ],\n",
      "         [-0.8482843 , -0.8482843 , -0.8482843 , ..., -0.8482843 ,\n",
      "          -0.8482843 , -0.8482843 ],\n",
      "         [-0.8482843 , -0.8482843 , -0.8482843 , ..., -0.8482843 ,\n",
      "          -0.8482843 , -0.8482843 ]]],\n",
      "\n",
      "\n",
      "       [[[-0.86455375, -0.86455375, -0.86455375, ..., -0.86455375,\n",
      "          -0.86455375, -0.86455375],\n",
      "         [-0.86455375, -0.86455375, -0.86455375, ..., -0.86455375,\n",
      "          -0.86455375, -0.86455375],\n",
      "         [-0.86455375, -0.86455375, -0.86455375, ..., -0.86455375,\n",
      "          -0.86455375, -0.86455375],\n",
      "         ...,\n",
      "         [-0.86455375, -0.86455375, -0.86455375, ..., -0.86455375,\n",
      "          -0.86455375, -0.86455375],\n",
      "         [-0.86455375, -0.86455375, -0.86455375, ..., -0.86455375,\n",
      "          -0.86455375, -0.86455375],\n",
      "         [-0.86455375, -0.86455375, -0.86455375, ..., -0.86455375,\n",
      "          -0.86455375, -0.86455375]],\n",
      "\n",
      "        [[-0.93150562, -0.93150562, -0.93150562, ..., -0.93150562,\n",
      "          -0.93150562, -0.93150562],\n",
      "         [-0.93150562, -0.93150562, -0.93150562, ..., -0.93150562,\n",
      "          -0.93150562, -0.93150562],\n",
      "         [-0.93150562, -0.93150562, -0.93150562, ..., -0.93150562,\n",
      "          -0.93150562, -0.93150562],\n",
      "         ...,\n",
      "         [-0.93150562, -0.93150562, -0.93150562, ..., -0.93150562,\n",
      "          -0.93150562, -0.93150562],\n",
      "         [-0.93150562, -0.93150562, -0.93150562, ..., -0.93150562,\n",
      "          -0.93150562, -0.93150562],\n",
      "         [-0.93150562, -0.93150562, -0.93150562, ..., -0.93150562,\n",
      "          -0.93150562, -0.93150562]],\n",
      "\n",
      "        [[-0.90372157, -0.90372157, -0.90372157, ..., -0.90372157,\n",
      "          -0.90372157, -0.90372157],\n",
      "         [-0.90372157, -0.90372157, -0.90372157, ..., -0.90372157,\n",
      "          -0.90372157, -0.90372157],\n",
      "         [-0.90372157, -0.90372157, -0.90372157, ..., -0.90372157,\n",
      "          -0.90372157, -0.90372157],\n",
      "         ...,\n",
      "         [-0.90372157, -0.90372157, -0.90372157, ..., -0.90372157,\n",
      "          -0.90372157, -0.90372157],\n",
      "         [-0.90372157, -0.90372157, -0.90372157, ..., -0.90372157,\n",
      "          -0.90372157, -0.90372157],\n",
      "         [-0.90372157, -0.90372157, -0.90372157, ..., -0.90372157,\n",
      "          -0.90372157, -0.90372157]],\n",
      "\n",
      "        [[-0.8482843 , -0.8482843 , -0.8482843 , ..., -0.8482843 ,\n",
      "          -0.8482843 , -0.8482843 ],\n",
      "         [-0.8482843 , -0.8482843 , -0.8482843 , ..., -0.8482843 ,\n",
      "          -0.8482843 , -0.8482843 ],\n",
      "         [-0.8482843 , -0.8482843 , -0.8482843 , ..., -0.8482843 ,\n",
      "          -0.8482843 , -0.8482843 ],\n",
      "         ...,\n",
      "         [-0.8482843 , -0.8482843 , -0.8482843 , ..., -0.8482843 ,\n",
      "          -0.8482843 , -0.8482843 ],\n",
      "         [-0.8482843 , -0.8482843 , -0.8482843 , ..., -0.8482843 ,\n",
      "          -0.8482843 , -0.8482843 ],\n",
      "         [-0.8482843 , -0.8482843 , -0.8482843 , ..., -0.8482843 ,\n",
      "          -0.8482843 , -0.8482843 ]]],\n",
      "\n",
      "\n",
      "       [[[-0.86455375, -0.86455375, -0.86455375, ..., -0.86455375,\n",
      "          -0.86455375, -0.86455375],\n",
      "         [-0.86455375, -0.86455375, -0.86455375, ..., -0.86455375,\n",
      "          -0.86455375, -0.86455375],\n",
      "         [-0.86455375, -0.86455375, -0.86455375, ..., -0.86455375,\n",
      "          -0.86455375, -0.86455375],\n",
      "         ...,\n",
      "         [-0.86455375, -0.86455375, -0.86455375, ..., -0.86455375,\n",
      "          -0.86455375, -0.86455375],\n",
      "         [-0.86455375, -0.86455375, -0.86455375, ..., -0.86455375,\n",
      "          -0.86455375, -0.86455375],\n",
      "         [-0.86455375, -0.86455375, -0.86455375, ..., -0.86455375,\n",
      "          -0.86455375, -0.86455375]],\n",
      "\n",
      "        [[-0.93150562, -0.93150562, -0.93150562, ..., -0.93150562,\n",
      "          -0.93150562, -0.93150562],\n",
      "         [-0.93150562, -0.93150562, -0.93150562, ..., -0.93150562,\n",
      "          -0.93150562, -0.93150562],\n",
      "         [-0.93150562, -0.93150562, -0.93150562, ..., -0.93150562,\n",
      "          -0.93150562, -0.93150562],\n",
      "         ...,\n",
      "         [-0.93150562, -0.93150562, -0.93150562, ..., -0.93150562,\n",
      "          -0.93150562, -0.93150562],\n",
      "         [-0.93150562, -0.93150562, -0.93150562, ..., -0.93150562,\n",
      "          -0.93150562, -0.93150562],\n",
      "         [-0.93150562, -0.93150562, -0.93150562, ..., -0.93150562,\n",
      "          -0.93150562, -0.93150562]],\n",
      "\n",
      "        [[-0.90372157, -0.90372157, -0.90372157, ..., -0.90372157,\n",
      "          -0.90372157, -0.90372157],\n",
      "         [-0.90372157, -0.90372157, -0.90372157, ..., -0.90372157,\n",
      "          -0.90372157, -0.90372157],\n",
      "         [-0.90372157, -0.90372157, -0.90372157, ..., -0.90372157,\n",
      "          -0.90372157, -0.90372157],\n",
      "         ...,\n",
      "         [-0.90372157, -0.90372157, -0.90372157, ..., -0.90372157,\n",
      "          -0.90372157, -0.90372157],\n",
      "         [-0.90372157, -0.90372157, -0.90372157, ..., -0.90372157,\n",
      "          -0.90372157, -0.90372157],\n",
      "         [-0.90372157, -0.90372157, -0.90372157, ..., -0.90372157,\n",
      "          -0.90372157, -0.90372157]],\n",
      "\n",
      "        [[-0.8482843 , -0.8482843 , -0.8482843 , ..., -0.8482843 ,\n",
      "          -0.8482843 , -0.8482843 ],\n",
      "         [-0.8482843 , -0.8482843 , -0.8482843 , ..., -0.8482843 ,\n",
      "          -0.8482843 , -0.8482843 ],\n",
      "         [-0.8482843 , -0.8482843 , -0.8482843 , ..., -0.8482843 ,\n",
      "          -0.8482843 , -0.8482843 ],\n",
      "         ...,\n",
      "         [-0.8482843 , -0.8482843 , -0.8482843 , ..., -0.8482843 ,\n",
      "          -0.8482843 , -0.8482843 ],\n",
      "         [-0.8482843 , -0.8482843 , -0.8482843 , ..., -0.8482843 ,\n",
      "          -0.8482843 , -0.8482843 ],\n",
      "         [-0.8482843 , -0.8482843 , -0.8482843 , ..., -0.8482843 ,\n",
      "          -0.8482843 , -0.8482843 ]]],\n",
      "\n",
      "\n",
      "       ...,\n",
      "\n",
      "\n",
      "       [[[-0.90573728, -0.90573728, -0.90573728, ..., -0.90573728,\n",
      "          -0.90573728, -0.90573728],\n",
      "         [-0.90573728, -0.90573728, -0.90573728, ..., -0.90573728,\n",
      "          -0.90573728, -0.90573728],\n",
      "         [-0.90573728, -0.90573728, -0.90573728, ..., -0.90573728,\n",
      "          -0.90573728, -0.90573728],\n",
      "         ...,\n",
      "         [-0.90573728, -0.90573728, -0.90573728, ..., -0.90573728,\n",
      "          -0.90573728, -0.90573728],\n",
      "         [-0.90573728, -0.90573728, -0.90573728, ..., -0.90573728,\n",
      "          -0.90573728, -0.90573728],\n",
      "         [-0.90573728, -0.90573728, -0.90573728, ..., -0.90573728,\n",
      "          -0.90573728, -0.90573728]],\n",
      "\n",
      "        [[-0.89333463, -0.89333463, -0.89333463, ..., -0.89333463,\n",
      "          -0.89333463, -0.89333463],\n",
      "         [-0.89333463, -0.89333463, -0.89333463, ..., -0.89333463,\n",
      "          -0.89333463, -0.89333463],\n",
      "         [-0.89333463, -0.89333463, -0.89333463, ..., -0.89333463,\n",
      "          -0.89333463, -0.89333463],\n",
      "         ...,\n",
      "         [-0.89333463, -0.89333463, -0.89333463, ..., -0.89333463,\n",
      "          -0.89333463, -0.89333463],\n",
      "         [-0.89333463, -0.89333463, -0.89333463, ..., -0.89333463,\n",
      "          -0.89333463, -0.89333463],\n",
      "         [-0.89333463, -0.89333463, -0.89333463, ..., -0.89333463,\n",
      "          -0.89333463, -0.89333463]],\n",
      "\n",
      "        [[-0.87408566, -0.87408566, -0.87408566, ..., -0.87408566,\n",
      "          -0.87408566, -0.87408566],\n",
      "         [-0.87408566, -0.87408566, -0.87408566, ..., -0.87408566,\n",
      "          -0.87408566, -0.87408566],\n",
      "         [-0.87408566, -0.87408566, -0.87408566, ..., -0.87408566,\n",
      "          -0.87408566, -0.87408566],\n",
      "         ...,\n",
      "         [-0.87408566, -0.87408566, -0.87408566, ..., -0.87408566,\n",
      "          -0.87408566, -0.87408566],\n",
      "         [-0.87408566, -0.87408566, -0.87408566, ..., -0.87408566,\n",
      "          -0.87408566, -0.87408566],\n",
      "         [-0.87408566, -0.87408566, -0.87408566, ..., -0.87408566,\n",
      "          -0.87408566, -0.87408566]],\n",
      "\n",
      "        [[-0.87269592, -0.87269592, -0.87269592, ..., -0.87269592,\n",
      "          -0.87269592, -0.87269592],\n",
      "         [-0.87269592, -0.87269592, -0.87269592, ..., -0.87269592,\n",
      "          -0.87269592, -0.87269592],\n",
      "         [-0.87269592, -0.87269592, -0.87269592, ..., -0.87269592,\n",
      "          -0.87269592, -0.87269592],\n",
      "         ...,\n",
      "         [-0.87269592, -0.87269592, -0.87269592, ..., -0.87269592,\n",
      "          -0.87269592, -0.87269592],\n",
      "         [-0.87269592, -0.87269592, -0.87269592, ..., -0.87269592,\n",
      "          -0.87269592, -0.87269592],\n",
      "         [-0.87269592, -0.87269592, -0.87269592, ..., -0.87269592,\n",
      "          -0.87269592, -0.87269592]]],\n",
      "\n",
      "\n",
      "       [[[-0.85748214, -0.85748214, -0.85748214, ..., -0.85748214,\n",
      "          -0.85748214, -0.85748214],\n",
      "         [-0.85748214, -0.85748214, -0.85748214, ..., -0.85748214,\n",
      "          -0.85748214, -0.85748214],\n",
      "         [-0.85748214, -0.85748214, -0.85748214, ..., -0.85748214,\n",
      "          -0.85748214, -0.85748214],\n",
      "         ...,\n",
      "         [-0.85748214, -0.85748214, -0.85748214, ..., -0.85748214,\n",
      "          -0.85748214, -0.85748214],\n",
      "         [-0.85748214, -0.85748214, -0.85748214, ..., -0.85748214,\n",
      "          -0.85748214, -0.85748214],\n",
      "         [-0.85748214, -0.85748214, -0.85748214, ..., -0.85748214,\n",
      "          -0.85748214, -0.85748214]],\n",
      "\n",
      "        [[-0.8735919 , -0.8735919 , -0.8735919 , ..., -0.8735919 ,\n",
      "          -0.8735919 , -0.8735919 ],\n",
      "         [-0.8735919 , -0.8735919 , -0.8735919 , ..., -0.8735919 ,\n",
      "          -0.8735919 , -0.8735919 ],\n",
      "         [-0.8735919 , -0.8735919 , -0.8735919 , ..., -0.8735919 ,\n",
      "          -0.8735919 , -0.8735919 ],\n",
      "         ...,\n",
      "         [-0.8735919 , -0.8735919 , -0.8735919 , ..., -0.8735919 ,\n",
      "          -0.8735919 , -0.8735919 ],\n",
      "         [-0.8735919 , -0.8735919 , -0.8735919 , ..., -0.8735919 ,\n",
      "          -0.8735919 , -0.8735919 ],\n",
      "         [-0.8735919 , -0.8735919 , -0.8735919 , ..., -0.8735919 ,\n",
      "          -0.8735919 , -0.8735919 ]],\n",
      "\n",
      "        [[-0.85750961, -0.85750961, -0.85750961, ..., -0.85750961,\n",
      "          -0.85750961, -0.85750961],\n",
      "         [-0.85750961, -0.85750961, -0.85750961, ..., -0.85750961,\n",
      "          -0.85750961, -0.85750961],\n",
      "         [-0.85750961, -0.85750961, -0.85750961, ..., -0.85750961,\n",
      "          -0.85750961, -0.85750961],\n",
      "         ...,\n",
      "         [-0.85750961, -0.85750961, -0.85750961, ..., -0.85750961,\n",
      "          -0.85750961, -0.85750961],\n",
      "         [-0.85750961, -0.85750961, -0.85750961, ..., -0.85750961,\n",
      "          -0.85750961, -0.85750961],\n",
      "         [-0.85750961, -0.85750961, -0.85750961, ..., -0.85750961,\n",
      "          -0.85750961, -0.85750961]],\n",
      "\n",
      "        [[-0.85913026, -0.85913026, -0.85913026, ..., -0.85913026,\n",
      "          -0.85913026, -0.85913026],\n",
      "         [-0.85913026, -0.85913026, -0.85913026, ..., -0.85913026,\n",
      "          -0.85913026, -0.85913026],\n",
      "         [-0.85913026, -0.85913026, -0.85913026, ..., -0.85913026,\n",
      "          -0.85913026, -0.85913026],\n",
      "         ...,\n",
      "         [-0.85913026, -0.85913026, -0.85913026, ..., -0.85913026,\n",
      "          -0.85913026, -0.85913026],\n",
      "         [-0.85913026, -0.85913026, -0.85913026, ..., -0.85913026,\n",
      "          -0.85913026, -0.85913026],\n",
      "         [-0.85913026, -0.85913026, -0.85913026, ..., -0.85913026,\n",
      "          -0.85913026, -0.85913026]]],\n",
      "\n",
      "\n",
      "       [[[-0.83501172, -0.83501172, -0.83501172, ..., -0.83501172,\n",
      "          -0.83501172, -0.83501172],\n",
      "         [-0.83501172, -0.83501172, -0.83501172, ..., -0.83501172,\n",
      "          -0.83501172, -0.83501172],\n",
      "         [-0.83501172, -0.83501172, -0.83501172, ..., -0.83501172,\n",
      "          -0.83501172, -0.83501172],\n",
      "         ...,\n",
      "         [-0.83501172, -0.83501172, -0.83501172, ..., -0.83501172,\n",
      "          -0.83501172, -0.83501172],\n",
      "         [-0.83501172, -0.83501172, -0.83501172, ..., -0.83501172,\n",
      "          -0.83501172, -0.83501172],\n",
      "         [-0.83501172, -0.83501172, -0.83501172, ..., -0.83501172,\n",
      "          -0.83501172, -0.83501172]],\n",
      "\n",
      "        [[-0.8363089 , -0.8363089 , -0.8363089 , ..., -0.8363089 ,\n",
      "          -0.8363089 , -0.8363089 ],\n",
      "         [-0.8363089 , -0.8363089 , -0.8363089 , ..., -0.8363089 ,\n",
      "          -0.8363089 , -0.8363089 ],\n",
      "         [-0.8363089 , -0.8363089 , -0.8363089 , ..., -0.8363089 ,\n",
      "          -0.8363089 , -0.8363089 ],\n",
      "         ...,\n",
      "         [-0.8363089 , -0.8363089 , -0.8363089 , ..., -0.8363089 ,\n",
      "          -0.8363089 , -0.8363089 ],\n",
      "         [-0.8363089 , -0.8363089 , -0.8363089 , ..., -0.8363089 ,\n",
      "          -0.8363089 , -0.8363089 ],\n",
      "         [-0.8363089 , -0.8363089 , -0.8363089 , ..., -0.8363089 ,\n",
      "          -0.8363089 , -0.8363089 ]],\n",
      "\n",
      "        [[-0.83866394, -0.83866394, -0.83866394, ..., -0.83866394,\n",
      "          -0.83866394, -0.83866394],\n",
      "         [-0.83866394, -0.83866394, -0.83866394, ..., -0.83866394,\n",
      "          -0.83866394, -0.83866394],\n",
      "         [-0.83866394, -0.83866394, -0.83866394, ..., -0.83866394,\n",
      "          -0.83866394, -0.83866394],\n",
      "         ...,\n",
      "         [-0.83866394, -0.83866394, -0.83866394, ..., -0.83866394,\n",
      "          -0.83866394, -0.83866394],\n",
      "         [-0.83866394, -0.83866394, -0.83866394, ..., -0.83866394,\n",
      "          -0.83866394, -0.83866394],\n",
      "         [-0.83866394, -0.83866394, -0.83866394, ..., -0.83866394,\n",
      "          -0.83866394, -0.83866394]],\n",
      "\n",
      "        [[-0.78850192, -0.78850192, -0.78850192, ..., -0.78850192,\n",
      "          -0.78850192, -0.78850192],\n",
      "         [-0.78850192, -0.78850192, -0.78850192, ..., -0.78850192,\n",
      "          -0.78850192, -0.78850192],\n",
      "         [-0.78850192, -0.78850192, -0.78850192, ..., -0.78850192,\n",
      "          -0.78850192, -0.78850192],\n",
      "         ...,\n",
      "         [-0.78850192, -0.78850192, -0.78850192, ..., -0.78850192,\n",
      "          -0.78850192, -0.78850192],\n",
      "         [-0.78850192, -0.78850192, -0.78850192, ..., -0.78850192,\n",
      "          -0.78850192, -0.78850192],\n",
      "         [-0.78850192, -0.78850192, -0.78850192, ..., -0.78850192,\n",
      "          -0.78850192, -0.78850192]]]]), 4, 1, 'MRImages', 'PredictionMask/Sigmoid', Namespace(batch_size=128, blocktime=1, channels_first=False, cpu_extension='/opt/intel/openvino/inference_engine/lib/intel64/libcpu_extension_avx2.so', crop_dim=-1, data_filename='Task01_BrainTumour.h5', data_path='../../data/decathlon/144x144/', device='CPU', epochs=30, featuremaps=32, hdf5_datafile='../../data/decathlon/144x144/Task01_BrainTumour.h5', inference_filename='unet_model_for_decathlon.hdf5', input_filename='output/unet_model_for_decathlon.hdf5', keras_api=True, learningrate=0.0001, num_inter_threads=1, num_threads=4, number_iter=5, output_directory='output/saved_2dunet_model_protobuf', output_frozen_model_dir='output/frozen_model', output_path='./output/', output_pngs='inference_examples', plot=True, plugin_dir=None, print_model=True, rows_per_image=4, stats=False, use_augmentation=True, use_dropout=True, use_upsampling=True, weight_dice_loss=0.9))\n",
      "[ INFO ] Starting inference (5 iterations)\n"
     ]
    },
    {
     "name": "stdout",
     "output_type": "stream",
     "text": [
      "[ INFO ] Average running time of one batch: 68.71672 ms\n",
      "[ INFO ] Images per second = 14.552\n",
      "[ INFO ] Performance counters:\n",
      "[ INFO ] name                                                                   layer_type      exec_type       status          real_time, us\n",
      "[ INFO ] MRImages_nchw_nChw8c_encodeAa/convolution                              Reorder         reorder_FP32    EXECUTED        221       \n",
      "[ INFO ] PredictionMask/Sigmoid                                                 sigmoid         undef           NOT_RUN         0         \n",
      "[ INFO ] PredictionMask/convolution                                             Convolution     jit_avx2_1x1_FP32 EXECUTED        448       \n",
      "[ INFO ] PredictionMask/convolution_nChw8c_nchw_out_PredictionMask/Sigmoid      Reorder         reorder_FP32    EXECUTED        149       \n",
      "[ INFO ] concatA/concat                                                         Concat          unknown_FP32    EXECUTED        5         \n",
      "[ INFO ] concatB/concat                                                         Concat          unknown_FP32    EXECUTED        5         \n",
      "[ INFO ] concatC/concat                                                         Concat          unknown_FP32    EXECUTED        5         \n",
      "[ INFO ] concatD/concat                                                         Concat          unknown_FP32    EXECUTED        5         \n",
      "[ INFO ] convOuta/Relu                                                          ReLU            undef           NOT_RUN         0         \n",
      "[ INFO ] convOuta/convolution                                                   Convolution     jit_avx2_FP32   EXECUTED        5582      \n",
      "[ INFO ] convOutb/Relu                                                          ReLU            undef           NOT_RUN         0         \n",
      "[ INFO ] convOutb/convolution                                                   Convolution     jit_avx2_FP32   EXECUTED        2807      \n",
      "[ INFO ] decodeAa/Relu                                                          ReLU            undef           NOT_RUN         0         \n",
      "[ INFO ] decodeAa/convolution                                                   Convolution     jit_avx2_FP32   EXECUTED        5776      \n",
      "[ INFO ] decodeAb/Relu                                                          ReLU            undef           NOT_RUN         0         \n",
      "[ INFO ] decodeAb/convolution                                                   Convolution     jit_avx2_FP32   EXECUTED        2900      \n",
      "[ INFO ] decodeBa/Relu                                                          ReLU            undef           NOT_RUN         0         \n",
      "[ INFO ] decodeBa/convolution                                                   Convolution     jit_avx2_FP32   EXECUTED        5753      \n",
      "[ INFO ] decodeBb/Relu                                                          ReLU            undef           NOT_RUN         0         \n",
      "[ INFO ] decodeBb/convolution                                                   Convolution     jit_avx2_FP32   EXECUTED        2887      \n",
      "[ INFO ] decodeCa/Relu                                                          ReLU            undef           NOT_RUN         0         \n",
      "[ INFO ] decodeCa/convolution                                                   Convolution     jit_avx2_FP32   EXECUTED        5824      \n",
      "[ INFO ] decodeCb/Relu                                                          ReLU            undef           NOT_RUN         0         \n",
      "[ INFO ] decodeCb/convolution                                                   Convolution     jit_avx2_FP32   EXECUTED        2996      \n",
      "[ INFO ] encodeAa/Relu                                                          ReLU            undef           NOT_RUN         0         \n",
      "[ INFO ] encodeAa/convolution                                                   Convolution     jit_sse42_FP32  EXECUTED        2848      \n",
      "[ INFO ] encodeAb/Relu                                                          ReLU            undef           NOT_RUN         0         \n",
      "[ INFO ] encodeAb/convolution                                                   Convolution     jit_avx2_FP32   EXECUTED        2736      \n",
      "[ INFO ] encodeAb/convolution___concatA/concat                                  Reorder         reorder_FP32    EXECUTED        428       \n",
      "[ INFO ] encodeBa/Relu                                                          ReLU            undef           NOT_RUN         0         \n",
      "[ INFO ] encodeBa/convolution                                                   Convolution     jit_avx2_FP32   EXECUTED        1509      \n",
      "[ INFO ] encodeBb/Relu                                                          ReLU            undef           NOT_RUN         0         \n",
      "[ INFO ] encodeBb/convolution                                                   Convolution     jit_avx2_FP32   EXECUTED        2971      \n",
      "[ INFO ] encodeBb/convolution___concatB/concat                                  Reorder         reorder_FP32    EXECUTED        142       \n",
      "[ INFO ] encodeCa/Relu                                                          ReLU            undef           NOT_RUN         0         \n",
      "[ INFO ] encodeCa/convolution                                                   Convolution     jit_avx2_FP32   EXECUTED        1477      \n",
      "[ INFO ] encodeCb/Relu                                                          ReLU            undef           NOT_RUN         0         \n",
      "[ INFO ] encodeCb/convolution                                                   Convolution     jit_avx2_FP32   EXECUTED        2967      \n",
      "[ INFO ] encodeCb/convolution___concatC/concat                                  Reorder         reorder_FP32    EXECUTED        77        \n",
      "[ INFO ] encodeDa/Relu                                                          ReLU            undef           NOT_RUN         0         \n",
      "[ INFO ] encodeDa/convolution                                                   Convolution     jit_avx2_FP32   EXECUTED        1443      \n",
      "[ INFO ] encodeDb/Relu                                                          ReLU            undef           NOT_RUN         0         \n",
      "[ INFO ] encodeDb/convolution                                                   Convolution     jit_avx2_FP32   EXECUTED        2883      \n",
      "[ INFO ] encodeDb/convolution___concatD/concat                                  Reorder         reorder_FP32    EXECUTED        45        \n",
      "[ INFO ] encodeEa/Relu                                                          ReLU            undef           NOT_RUN         0         \n",
      "[ INFO ] encodeEa/convolution                                                   Convolution     jit_avx2_FP32   EXECUTED        1682      \n",
      "[ INFO ] encodeEb/Relu                                                          ReLU            undef           NOT_RUN         0         \n",
      "[ INFO ] encodeEb/convolution                                                   Convolution     jit_avx2_FP32   EXECUTED        3543      \n",
      "[ INFO ] out_PredictionMask/Sigmoid                                             Output          unknown_FP32    EXECUTED        1         \n",
      "[ INFO ] poolA/MaxPool                                                          Pooling         jit_avx_FP32    EXECUTED        183       \n",
      "[ INFO ] poolB/MaxPool                                                          Pooling         jit_avx_FP32    EXECUTED        68        \n",
      "[ INFO ] poolC/MaxPool                                                          Pooling         jit_avx_FP32    EXECUTED        32        \n",
      "[ INFO ] poolD/MaxPool                                                          Pooling         jit_avx_FP32    EXECUTED        25        \n",
      "[ INFO ] transconvA/conv2d_transpose                                            Deconvolution   jit_avx2_FP32   EXECUTED        2453      \n",
      "[ INFO ] transconvB/conv2d_transpose                                            Deconvolution   jit_avx2_FP32   EXECUTED        1664      \n",
      "[ INFO ] transconvC/conv2d_transpose                                            Deconvolution   jit_avx2_FP32   EXECUTED        1369      \n",
      "[ INFO ] transconvE/conv2d_transpose                                            Deconvolution   jit_avx2_FP32   EXECUTED        1452      \n"
     ]
    }
   ],
   "source": [
    "input_blob = next(iter(net.inputs))  # Name of the input layer\n",
    "out_blob = next(iter(net.outputs))   # Name of the output layer\n",
    "\n",
    "batch_size, n_channels, height, width = net.inputs[input_blob].shape\n",
    "batch_size, n_out_channels, height_out, width_out = net.outputs[out_blob].shape\n",
    "net.batch_size = batch_size\n",
    "\n",
    "# Load data\n",
    "input_data, label_data, img_indicies = load_data()\n",
    "\n",
    "# Loading model to the plugin\n",
    "exec_net = plugin.load(network=net)\n",
    "# del net\n",
    "print ((exec_net, input_data, n_channels, batch_size, input_blob, out_blob, args))\n",
    "args.stats = True\n",
    "if args.stats:\n",
    "    # Print the latency and throughput for inference\n",
    "    print_stats(exec_net, input_data, n_channels, batch_size, input_blob, out_blob, args)\n",
    "\n"
   ]
  },
  {
   "cell_type": "markdown",
   "metadata": {},
   "source": [
    "#### Lastly: OpenVINO inference code\n",
    "\n",
    "`input_blob` is the name (string) of the input tensor in the graph  \n",
    "`out_blob` is the name (string) of the output tensor in the graph  \n",
    "Essentially, this looks exactly like a `feed_dict` for TensorFlow inference"
   ]
  },
  {
   "cell_type": "code",
   "execution_count": 22,
   "metadata": {},
   "outputs": [
    {
     "name": "stdout",
     "output_type": "stream",
     "text": [
      "MRImages\n"
     ]
    }
   ],
   "source": [
    "# Go through the sample validation dataset to plot predictions\n",
    "predictions = np.zeros((img_indicies.shape[0], n_out_channels,height_out, width_out))\n",
    "\n",
    "print(input_blob)\n",
    "for idx in range(0, img_indicies.shape[0], batch_size):\n",
    "    res = exec_net.infer(inputs={input_blob:input_data[idx:(idx+batch_size),:n_channels]})\n",
    "\n",
    "    # Save the predictions to array\n",
    "    predictions[idx:(idx+batch_size),] = res[out_blob]\n",
    "\n",
    "if idx != (len(img_indicies)-1):  # Partial batch left in data\n",
    "    log.info(\"Partial batch left over in dataset.\")"
   ]
  },
  {
   "cell_type": "markdown",
   "metadata": {},
   "source": [
    "Evaluate model with Dice metric"
   ]
  },
  {
   "cell_type": "code",
   "execution_count": 23,
   "metadata": {},
   "outputs": [
    {
     "name": "stdout",
     "output_type": "stream",
     "text": [
      "[ INFO ] Image #40: Dice score = 0.8796\n",
      "[ INFO ] Plotting the predictions and saving to png files. Please wait...\n",
      "14 4 0\n"
     ]
    },
    {
     "data": {
      "text/plain": [
       "<Figure size 1500x1500 with 3 Axes>"
      ]
     },
     "metadata": {},
     "output_type": "display_data"
    },
    {
     "data": {
      "text/plain": [
       "<Figure size 1500x1500 with 3 Axes>"
      ]
     },
     "metadata": {},
     "output_type": "display_data"
    },
    {
     "data": {
      "text/plain": [
       "<Figure size 1500x1500 with 3 Axes>"
      ]
     },
     "metadata": {},
     "output_type": "display_data"
    },
    {
     "data": {
      "text/plain": [
       "<Figure size 1500x1500 with 3 Axes>"
      ]
     },
     "metadata": {},
     "output_type": "display_data"
    },
    {
     "data": {
      "text/plain": [
       "<Figure size 1500x1500 with 3 Axes>"
      ]
     },
     "metadata": {},
     "output_type": "display_data"
    },
    {
     "data": {
      "text/plain": [
       "<Figure size 1500x1500 with 3 Axes>"
      ]
     },
     "metadata": {},
     "output_type": "display_data"
    },
    {
     "data": {
      "text/plain": [
       "<Figure size 1500x1500 with 3 Axes>"
      ]
     },
     "metadata": {},
     "output_type": "display_data"
    },
    {
     "data": {
      "text/plain": [
       "<Figure size 1500x1500 with 3 Axes>"
      ]
     },
     "metadata": {},
     "output_type": "display_data"
    },
    {
     "data": {
      "text/plain": [
       "<Figure size 1500x1500 with 3 Axes>"
      ]
     },
     "metadata": {},
     "output_type": "display_data"
    },
    {
     "data": {
      "text/plain": [
       "<Figure size 1500x1500 with 3 Axes>"
      ]
     },
     "metadata": {},
     "output_type": "display_data"
    },
    {
     "data": {
      "text/plain": [
       "<Figure size 1500x1500 with 3 Axes>"
      ]
     },
     "metadata": {},
     "output_type": "display_data"
    },
    {
     "data": {
      "text/plain": [
       "<Figure size 1500x1500 with 3 Axes>"
      ]
     },
     "metadata": {},
     "output_type": "display_data"
    },
    {
     "data": {
      "text/plain": [
       "<Figure size 1500x1500 with 3 Axes>"
      ]
     },
     "metadata": {},
     "output_type": "display_data"
    },
    {
     "data": {
      "text/plain": [
       "<Figure size 1500x1500 with 3 Axes>"
      ]
     },
     "metadata": {},
     "output_type": "display_data"
    },
    {
     "name": "stdout",
     "output_type": "stream",
     "text": [
      "[ INFO ] Image #61: Dice score = 0.3859\n",
      "[ INFO ] Plotting the predictions and saving to png files. Please wait...\n",
      "14 4 0\n"
     ]
    },
    {
     "data": {
      "text/plain": [
       "<Figure size 1500x1500 with 3 Axes>"
      ]
     },
     "metadata": {},
     "output_type": "display_data"
    },
    {
     "data": {
      "text/plain": [
       "<Figure size 1500x1500 with 3 Axes>"
      ]
     },
     "metadata": {},
     "output_type": "display_data"
    },
    {
     "data": {
      "text/plain": [
       "<Figure size 1500x1500 with 3 Axes>"
      ]
     },
     "metadata": {},
     "output_type": "display_data"
    },
    {
     "data": {
      "text/plain": [
       "<Figure size 1500x1500 with 3 Axes>"
      ]
     },
     "metadata": {},
     "output_type": "display_data"
    },
    {
     "data": {
      "text/plain": [
       "<Figure size 1500x1500 with 3 Axes>"
      ]
     },
     "metadata": {},
     "output_type": "display_data"
    },
    {
     "data": {
      "text/plain": [
       "<Figure size 1500x1500 with 3 Axes>"
      ]
     },
     "metadata": {},
     "output_type": "display_data"
    },
    {
     "data": {
      "text/plain": [
       "<Figure size 1500x1500 with 3 Axes>"
      ]
     },
     "metadata": {},
     "output_type": "display_data"
    },
    {
     "data": {
      "text/plain": [
       "<Figure size 1500x1500 with 3 Axes>"
      ]
     },
     "metadata": {},
     "output_type": "display_data"
    },
    {
     "data": {
      "text/plain": [
       "<Figure size 1500x1500 with 3 Axes>"
      ]
     },
     "metadata": {},
     "output_type": "display_data"
    },
    {
     "data": {
      "text/plain": [
       "<Figure size 1500x1500 with 3 Axes>"
      ]
     },
     "metadata": {},
     "output_type": "display_data"
    },
    {
     "data": {
      "text/plain": [
       "<Figure size 1500x1500 with 3 Axes>"
      ]
     },
     "metadata": {},
     "output_type": "display_data"
    },
    {
     "data": {
      "text/plain": [
       "<Figure size 1500x1500 with 3 Axes>"
      ]
     },
     "metadata": {},
     "output_type": "display_data"
    },
    {
     "data": {
      "text/plain": [
       "<Figure size 1500x1500 with 3 Axes>"
      ]
     },
     "metadata": {},
     "output_type": "display_data"
    },
    {
     "data": {
      "text/plain": [
       "<Figure size 1500x1500 with 3 Axes>"
      ]
     },
     "metadata": {},
     "output_type": "display_data"
    },
    {
     "name": "stdout",
     "output_type": "stream",
     "text": [
      "[ INFO ] Image #101: Dice score = 0.8540\n",
      "[ INFO ] Plotting the predictions and saving to png files. Please wait...\n",
      "14 4 0\n"
     ]
    },
    {
     "data": {
      "text/plain": [
       "<Figure size 1500x1500 with 3 Axes>"
      ]
     },
     "metadata": {},
     "output_type": "display_data"
    },
    {
     "data": {
      "text/plain": [
       "<Figure size 1500x1500 with 3 Axes>"
      ]
     },
     "metadata": {},
     "output_type": "display_data"
    },
    {
     "data": {
      "text/plain": [
       "<Figure size 1500x1500 with 3 Axes>"
      ]
     },
     "metadata": {},
     "output_type": "display_data"
    },
    {
     "data": {
      "text/plain": [
       "<Figure size 1500x1500 with 3 Axes>"
      ]
     },
     "metadata": {},
     "output_type": "display_data"
    },
    {
     "data": {
      "text/plain": [
       "<Figure size 1500x1500 with 3 Axes>"
      ]
     },
     "metadata": {},
     "output_type": "display_data"
    },
    {
     "data": {
      "text/plain": [
       "<Figure size 1500x1500 with 3 Axes>"
      ]
     },
     "metadata": {},
     "output_type": "display_data"
    },
    {
     "data": {
      "text/plain": [
       "<Figure size 1500x1500 with 3 Axes>"
      ]
     },
     "metadata": {},
     "output_type": "display_data"
    },
    {
     "data": {
      "text/plain": [
       "<Figure size 1500x1500 with 3 Axes>"
      ]
     },
     "metadata": {},
     "output_type": "display_data"
    },
    {
     "data": {
      "text/plain": [
       "<Figure size 1500x1500 with 3 Axes>"
      ]
     },
     "metadata": {},
     "output_type": "display_data"
    },
    {
     "data": {
      "text/plain": [
       "<Figure size 1500x1500 with 3 Axes>"
      ]
     },
     "metadata": {},
     "output_type": "display_data"
    },
    {
     "data": {
      "text/plain": [
       "<Figure size 1500x1500 with 3 Axes>"
      ]
     },
     "metadata": {},
     "output_type": "display_data"
    },
    {
     "data": {
      "text/plain": [
       "<Figure size 1500x1500 with 3 Axes>"
      ]
     },
     "metadata": {},
     "output_type": "display_data"
    },
    {
     "data": {
      "text/plain": [
       "<Figure size 1500x1500 with 3 Axes>"
      ]
     },
     "metadata": {},
     "output_type": "display_data"
    },
    {
     "data": {
      "text/plain": [
       "<Figure size 1500x1500 with 3 Axes>"
      ]
     },
     "metadata": {},
     "output_type": "display_data"
    },
    {
     "name": "stdout",
     "output_type": "stream",
     "text": [
      "[ INFO ] Image #203: Dice score = 0.7110\n",
      "[ INFO ] Plotting the predictions and saving to png files. Please wait...\n",
      "14 4 0\n"
     ]
    },
    {
     "data": {
      "text/plain": [
       "<Figure size 1500x1500 with 3 Axes>"
      ]
     },
     "metadata": {},
     "output_type": "display_data"
    },
    {
     "data": {
      "text/plain": [
       "<Figure size 1500x1500 with 3 Axes>"
      ]
     },
     "metadata": {},
     "output_type": "display_data"
    },
    {
     "data": {
      "text/plain": [
       "<Figure size 1500x1500 with 3 Axes>"
      ]
     },
     "metadata": {},
     "output_type": "display_data"
    },
    {
     "data": {
      "text/plain": [
       "<Figure size 1500x1500 with 3 Axes>"
      ]
     },
     "metadata": {},
     "output_type": "display_data"
    },
    {
     "data": {
      "text/plain": [
       "<Figure size 1500x1500 with 3 Axes>"
      ]
     },
     "metadata": {},
     "output_type": "display_data"
    },
    {
     "data": {
      "text/plain": [
       "<Figure size 1500x1500 with 3 Axes>"
      ]
     },
     "metadata": {},
     "output_type": "display_data"
    },
    {
     "data": {
      "text/plain": [
       "<Figure size 1500x1500 with 3 Axes>"
      ]
     },
     "metadata": {},
     "output_type": "display_data"
    },
    {
     "data": {
      "text/plain": [
       "<Figure size 1500x1500 with 3 Axes>"
      ]
     },
     "metadata": {},
     "output_type": "display_data"
    },
    {
     "data": {
      "text/plain": [
       "<Figure size 1500x1500 with 3 Axes>"
      ]
     },
     "metadata": {},
     "output_type": "display_data"
    },
    {
     "data": {
      "text/plain": [
       "<Figure size 1500x1500 with 3 Axes>"
      ]
     },
     "metadata": {},
     "output_type": "display_data"
    },
    {
     "data": {
      "text/plain": [
       "<Figure size 1500x1500 with 3 Axes>"
      ]
     },
     "metadata": {},
     "output_type": "display_data"
    },
    {
     "data": {
      "text/plain": [
       "<Figure size 1500x1500 with 3 Axes>"
      ]
     },
     "metadata": {},
     "output_type": "display_data"
    },
    {
     "data": {
      "text/plain": [
       "<Figure size 1500x1500 with 3 Axes>"
      ]
     },
     "metadata": {},
     "output_type": "display_data"
    },
    {
     "data": {
      "text/plain": [
       "<Figure size 1500x1500 with 3 Axes>"
      ]
     },
     "metadata": {},
     "output_type": "display_data"
    },
    {
     "name": "stdout",
     "output_type": "stream",
     "text": [
      "[ INFO ] Image #309: Dice score = 0.5390\n",
      "[ INFO ] Plotting the predictions and saving to png files. Please wait...\n",
      "14 4 0\n"
     ]
    },
    {
     "data": {
      "text/plain": [
       "<Figure size 1500x1500 with 3 Axes>"
      ]
     },
     "metadata": {},
     "output_type": "display_data"
    },
    {
     "data": {
      "text/plain": [
       "<Figure size 1500x1500 with 3 Axes>"
      ]
     },
     "metadata": {},
     "output_type": "display_data"
    },
    {
     "data": {
      "text/plain": [
       "<Figure size 1500x1500 with 3 Axes>"
      ]
     },
     "metadata": {},
     "output_type": "display_data"
    },
    {
     "data": {
      "text/plain": [
       "<Figure size 1500x1500 with 3 Axes>"
      ]
     },
     "metadata": {},
     "output_type": "display_data"
    },
    {
     "data": {
      "text/plain": [
       "<Figure size 1500x1500 with 3 Axes>"
      ]
     },
     "metadata": {},
     "output_type": "display_data"
    },
    {
     "data": {
      "text/plain": [
       "<Figure size 1500x1500 with 3 Axes>"
      ]
     },
     "metadata": {},
     "output_type": "display_data"
    },
    {
     "data": {
      "text/plain": [
       "<Figure size 1500x1500 with 3 Axes>"
      ]
     },
     "metadata": {},
     "output_type": "display_data"
    },
    {
     "data": {
      "text/plain": [
       "<Figure size 1500x1500 with 3 Axes>"
      ]
     },
     "metadata": {},
     "output_type": "display_data"
    },
    {
     "data": {
      "text/plain": [
       "<Figure size 1500x1500 with 3 Axes>"
      ]
     },
     "metadata": {},
     "output_type": "display_data"
    },
    {
     "data": {
      "text/plain": [
       "<Figure size 1500x1500 with 3 Axes>"
      ]
     },
     "metadata": {},
     "output_type": "display_data"
    },
    {
     "data": {
      "text/plain": [
       "<Figure size 1500x1500 with 3 Axes>"
      ]
     },
     "metadata": {},
     "output_type": "display_data"
    },
    {
     "data": {
      "text/plain": [
       "<Figure size 1500x1500 with 3 Axes>"
      ]
     },
     "metadata": {},
     "output_type": "display_data"
    },
    {
     "data": {
      "text/plain": [
       "<Figure size 1500x1500 with 3 Axes>"
      ]
     },
     "metadata": {},
     "output_type": "display_data"
    },
    {
     "data": {
      "text/plain": [
       "<Figure size 1500x1500 with 3 Axes>"
      ]
     },
     "metadata": {},
     "output_type": "display_data"
    },
    {
     "name": "stdout",
     "output_type": "stream",
     "text": [
      "[ INFO ] Image #400: Dice score = 0.8492\n",
      "[ INFO ] Plotting the predictions and saving to png files. Please wait...\n",
      "14 4 0\n"
     ]
    },
    {
     "data": {
      "text/plain": [
       "<Figure size 1500x1500 with 3 Axes>"
      ]
     },
     "metadata": {},
     "output_type": "display_data"
    },
    {
     "data": {
      "text/plain": [
       "<Figure size 1500x1500 with 3 Axes>"
      ]
     },
     "metadata": {},
     "output_type": "display_data"
    },
    {
     "data": {
      "text/plain": [
       "<Figure size 1500x1500 with 3 Axes>"
      ]
     },
     "metadata": {},
     "output_type": "display_data"
    },
    {
     "data": {
      "text/plain": [
       "<Figure size 1500x1500 with 3 Axes>"
      ]
     },
     "metadata": {},
     "output_type": "display_data"
    },
    {
     "data": {
      "text/plain": [
       "<Figure size 1500x1500 with 3 Axes>"
      ]
     },
     "metadata": {},
     "output_type": "display_data"
    },
    {
     "data": {
      "text/plain": [
       "<Figure size 1500x1500 with 3 Axes>"
      ]
     },
     "metadata": {},
     "output_type": "display_data"
    },
    {
     "data": {
      "text/plain": [
       "<Figure size 1500x1500 with 3 Axes>"
      ]
     },
     "metadata": {},
     "output_type": "display_data"
    },
    {
     "data": {
      "text/plain": [
       "<Figure size 1500x1500 with 3 Axes>"
      ]
     },
     "metadata": {},
     "output_type": "display_data"
    },
    {
     "data": {
      "text/plain": [
       "<Figure size 1500x1500 with 3 Axes>"
      ]
     },
     "metadata": {},
     "output_type": "display_data"
    },
    {
     "data": {
      "text/plain": [
       "<Figure size 1500x1500 with 3 Axes>"
      ]
     },
     "metadata": {},
     "output_type": "display_data"
    },
    {
     "data": {
      "text/plain": [
       "<Figure size 1500x1500 with 3 Axes>"
      ]
     },
     "metadata": {},
     "output_type": "display_data"
    },
    {
     "data": {
      "text/plain": [
       "<Figure size 1500x1500 with 3 Axes>"
      ]
     },
     "metadata": {},
     "output_type": "display_data"
    },
    {
     "data": {
      "text/plain": [
       "<Figure size 1500x1500 with 3 Axes>"
      ]
     },
     "metadata": {},
     "output_type": "display_data"
    },
    {
     "data": {
      "text/plain": [
       "<Figure size 1500x1500 with 3 Axes>"
      ]
     },
     "metadata": {},
     "output_type": "display_data"
    },
    {
     "name": "stdout",
     "output_type": "stream",
     "text": [
      "[ INFO ] Image #1100: Dice score = 0.9197\n",
      "[ INFO ] Plotting the predictions and saving to png files. Please wait...\n",
      "14 4 0\n"
     ]
    },
    {
     "data": {
      "text/plain": [
       "<Figure size 1500x1500 with 3 Axes>"
      ]
     },
     "metadata": {},
     "output_type": "display_data"
    },
    {
     "data": {
      "text/plain": [
       "<Figure size 1500x1500 with 3 Axes>"
      ]
     },
     "metadata": {},
     "output_type": "display_data"
    },
    {
     "data": {
      "text/plain": [
       "<Figure size 1500x1500 with 3 Axes>"
      ]
     },
     "metadata": {},
     "output_type": "display_data"
    },
    {
     "data": {
      "text/plain": [
       "<Figure size 1500x1500 with 3 Axes>"
      ]
     },
     "metadata": {},
     "output_type": "display_data"
    },
    {
     "data": {
      "text/plain": [
       "<Figure size 1500x1500 with 3 Axes>"
      ]
     },
     "metadata": {},
     "output_type": "display_data"
    },
    {
     "data": {
      "text/plain": [
       "<Figure size 1500x1500 with 3 Axes>"
      ]
     },
     "metadata": {},
     "output_type": "display_data"
    },
    {
     "data": {
      "text/plain": [
       "<Figure size 1500x1500 with 3 Axes>"
      ]
     },
     "metadata": {},
     "output_type": "display_data"
    },
    {
     "data": {
      "text/plain": [
       "<Figure size 1500x1500 with 3 Axes>"
      ]
     },
     "metadata": {},
     "output_type": "display_data"
    },
    {
     "data": {
      "text/plain": [
       "<Figure size 1500x1500 with 3 Axes>"
      ]
     },
     "metadata": {},
     "output_type": "display_data"
    },
    {
     "data": {
      "text/plain": [
       "<Figure size 1500x1500 with 3 Axes>"
      ]
     },
     "metadata": {},
     "output_type": "display_data"
    },
    {
     "data": {
      "text/plain": [
       "<Figure size 1500x1500 with 3 Axes>"
      ]
     },
     "metadata": {},
     "output_type": "display_data"
    },
    {
     "data": {
      "text/plain": [
       "<Figure size 1500x1500 with 3 Axes>"
      ]
     },
     "metadata": {},
     "output_type": "display_data"
    },
    {
     "data": {
      "text/plain": [
       "<Figure size 1500x1500 with 3 Axes>"
      ]
     },
     "metadata": {},
     "output_type": "display_data"
    },
    {
     "data": {
      "text/plain": [
       "<Figure size 1500x1500 with 3 Axes>"
      ]
     },
     "metadata": {},
     "output_type": "display_data"
    },
    {
     "name": "stdout",
     "output_type": "stream",
     "text": [
      "[ INFO ] Image #1509: Dice score = 0.6381\n",
      "[ INFO ] Plotting the predictions and saving to png files. Please wait...\n",
      "14 4 0\n"
     ]
    },
    {
     "data": {
      "text/plain": [
       "<Figure size 1500x1500 with 3 Axes>"
      ]
     },
     "metadata": {},
     "output_type": "display_data"
    },
    {
     "data": {
      "text/plain": [
       "<Figure size 1500x1500 with 3 Axes>"
      ]
     },
     "metadata": {},
     "output_type": "display_data"
    },
    {
     "data": {
      "text/plain": [
       "<Figure size 1500x1500 with 3 Axes>"
      ]
     },
     "metadata": {},
     "output_type": "display_data"
    },
    {
     "data": {
      "text/plain": [
       "<Figure size 1500x1500 with 3 Axes>"
      ]
     },
     "metadata": {},
     "output_type": "display_data"
    },
    {
     "data": {
      "text/plain": [
       "<Figure size 1500x1500 with 3 Axes>"
      ]
     },
     "metadata": {},
     "output_type": "display_data"
    },
    {
     "data": {
      "text/plain": [
       "<Figure size 1500x1500 with 3 Axes>"
      ]
     },
     "metadata": {},
     "output_type": "display_data"
    },
    {
     "data": {
      "text/plain": [
       "<Figure size 1500x1500 with 3 Axes>"
      ]
     },
     "metadata": {},
     "output_type": "display_data"
    },
    {
     "data": {
      "text/plain": [
       "<Figure size 1500x1500 with 3 Axes>"
      ]
     },
     "metadata": {},
     "output_type": "display_data"
    },
    {
     "data": {
      "text/plain": [
       "<Figure size 1500x1500 with 3 Axes>"
      ]
     },
     "metadata": {},
     "output_type": "display_data"
    },
    {
     "data": {
      "text/plain": [
       "<Figure size 1500x1500 with 3 Axes>"
      ]
     },
     "metadata": {},
     "output_type": "display_data"
    },
    {
     "data": {
      "text/plain": [
       "<Figure size 1500x1500 with 3 Axes>"
      ]
     },
     "metadata": {},
     "output_type": "display_data"
    },
    {
     "data": {
      "text/plain": [
       "<Figure size 1500x1500 with 3 Axes>"
      ]
     },
     "metadata": {},
     "output_type": "display_data"
    },
    {
     "data": {
      "text/plain": [
       "<Figure size 1500x1500 with 3 Axes>"
      ]
     },
     "metadata": {},
     "output_type": "display_data"
    },
    {
     "data": {
      "text/plain": [
       "<Figure size 1500x1500 with 3 Axes>"
      ]
     },
     "metadata": {},
     "output_type": "display_data"
    },
    {
     "name": "stdout",
     "output_type": "stream",
     "text": [
      "[ INFO ] Image #1790: Dice score = 0.9020\n",
      "[ INFO ] Plotting the predictions and saving to png files. Please wait...\n",
      "14 4 0\n"
     ]
    },
    {
     "data": {
      "text/plain": [
       "<Figure size 1500x1500 with 3 Axes>"
      ]
     },
     "metadata": {},
     "output_type": "display_data"
    },
    {
     "data": {
      "text/plain": [
       "<Figure size 1500x1500 with 3 Axes>"
      ]
     },
     "metadata": {},
     "output_type": "display_data"
    },
    {
     "data": {
      "text/plain": [
       "<Figure size 1500x1500 with 3 Axes>"
      ]
     },
     "metadata": {},
     "output_type": "display_data"
    },
    {
     "data": {
      "text/plain": [
       "<Figure size 1500x1500 with 3 Axes>"
      ]
     },
     "metadata": {},
     "output_type": "display_data"
    },
    {
     "data": {
      "text/plain": [
       "<Figure size 1500x1500 with 3 Axes>"
      ]
     },
     "metadata": {},
     "output_type": "display_data"
    },
    {
     "data": {
      "text/plain": [
       "<Figure size 1500x1500 with 3 Axes>"
      ]
     },
     "metadata": {},
     "output_type": "display_data"
    },
    {
     "data": {
      "text/plain": [
       "<Figure size 1500x1500 with 3 Axes>"
      ]
     },
     "metadata": {},
     "output_type": "display_data"
    },
    {
     "data": {
      "text/plain": [
       "<Figure size 1500x1500 with 3 Axes>"
      ]
     },
     "metadata": {},
     "output_type": "display_data"
    },
    {
     "data": {
      "text/plain": [
       "<Figure size 1500x1500 with 3 Axes>"
      ]
     },
     "metadata": {},
     "output_type": "display_data"
    },
    {
     "data": {
      "text/plain": [
       "<Figure size 1500x1500 with 3 Axes>"
      ]
     },
     "metadata": {},
     "output_type": "display_data"
    },
    {
     "data": {
      "text/plain": [
       "<Figure size 1500x1500 with 3 Axes>"
      ]
     },
     "metadata": {},
     "output_type": "display_data"
    },
    {
     "data": {
      "text/plain": [
       "<Figure size 1500x1500 with 3 Axes>"
      ]
     },
     "metadata": {},
     "output_type": "display_data"
    },
    {
     "data": {
      "text/plain": [
       "<Figure size 1500x1500 with 3 Axes>"
      ]
     },
     "metadata": {},
     "output_type": "display_data"
    },
    {
     "data": {
      "text/plain": [
       "<Figure size 1500x1500 with 3 Axes>"
      ]
     },
     "metadata": {},
     "output_type": "display_data"
    },
    {
     "name": "stdout",
     "output_type": "stream",
     "text": [
      "[ INFO ] Image #1876: Dice score = 0.0289\n",
      "[ INFO ] Plotting the predictions and saving to png files. Please wait...\n",
      "14 4 0\n"
     ]
    },
    {
     "data": {
      "text/plain": [
       "<Figure size 1500x1500 with 3 Axes>"
      ]
     },
     "metadata": {},
     "output_type": "display_data"
    },
    {
     "data": {
      "text/plain": [
       "<Figure size 1500x1500 with 3 Axes>"
      ]
     },
     "metadata": {},
     "output_type": "display_data"
    },
    {
     "data": {
      "text/plain": [
       "<Figure size 1500x1500 with 3 Axes>"
      ]
     },
     "metadata": {},
     "output_type": "display_data"
    },
    {
     "data": {
      "text/plain": [
       "<Figure size 1500x1500 with 3 Axes>"
      ]
     },
     "metadata": {},
     "output_type": "display_data"
    },
    {
     "data": {
      "text/plain": [
       "<Figure size 1500x1500 with 3 Axes>"
      ]
     },
     "metadata": {},
     "output_type": "display_data"
    },
    {
     "data": {
      "text/plain": [
       "<Figure size 1500x1500 with 3 Axes>"
      ]
     },
     "metadata": {},
     "output_type": "display_data"
    },
    {
     "data": {
      "text/plain": [
       "<Figure size 1500x1500 with 3 Axes>"
      ]
     },
     "metadata": {},
     "output_type": "display_data"
    },
    {
     "data": {
      "text/plain": [
       "<Figure size 1500x1500 with 3 Axes>"
      ]
     },
     "metadata": {},
     "output_type": "display_data"
    },
    {
     "data": {
      "text/plain": [
       "<Figure size 1500x1500 with 3 Axes>"
      ]
     },
     "metadata": {},
     "output_type": "display_data"
    },
    {
     "data": {
      "text/plain": [
       "<Figure size 1500x1500 with 3 Axes>"
      ]
     },
     "metadata": {},
     "output_type": "display_data"
    },
    {
     "data": {
      "text/plain": [
       "<Figure size 1500x1500 with 3 Axes>"
      ]
     },
     "metadata": {},
     "output_type": "display_data"
    },
    {
     "data": {
      "text/plain": [
       "<Figure size 1500x1500 with 3 Axes>"
      ]
     },
     "metadata": {},
     "output_type": "display_data"
    },
    {
     "data": {
      "text/plain": [
       "<Figure size 1500x1500 with 3 Axes>"
      ]
     },
     "metadata": {},
     "output_type": "display_data"
    },
    {
     "data": {
      "text/plain": [
       "<Figure size 1500x1500 with 3 Axes>"
      ]
     },
     "metadata": {},
     "output_type": "display_data"
    },
    {
     "name": "stdout",
     "output_type": "stream",
     "text": [
      "[ INFO ] Image #2309: Dice score = 0.0598\n",
      "[ INFO ] Plotting the predictions and saving to png files. Please wait...\n",
      "14 4 0\n"
     ]
    },
    {
     "data": {
      "text/plain": [
       "<Figure size 1500x1500 with 3 Axes>"
      ]
     },
     "metadata": {},
     "output_type": "display_data"
    },
    {
     "data": {
      "text/plain": [
       "<Figure size 1500x1500 with 3 Axes>"
      ]
     },
     "metadata": {},
     "output_type": "display_data"
    },
    {
     "data": {
      "text/plain": [
       "<Figure size 1500x1500 with 3 Axes>"
      ]
     },
     "metadata": {},
     "output_type": "display_data"
    },
    {
     "data": {
      "text/plain": [
       "<Figure size 1500x1500 with 3 Axes>"
      ]
     },
     "metadata": {},
     "output_type": "display_data"
    },
    {
     "data": {
      "text/plain": [
       "<Figure size 1500x1500 with 3 Axes>"
      ]
     },
     "metadata": {},
     "output_type": "display_data"
    },
    {
     "data": {
      "text/plain": [
       "<Figure size 1500x1500 with 3 Axes>"
      ]
     },
     "metadata": {},
     "output_type": "display_data"
    },
    {
     "data": {
      "text/plain": [
       "<Figure size 1500x1500 with 3 Axes>"
      ]
     },
     "metadata": {},
     "output_type": "display_data"
    },
    {
     "data": {
      "text/plain": [
       "<Figure size 1500x1500 with 3 Axes>"
      ]
     },
     "metadata": {},
     "output_type": "display_data"
    },
    {
     "data": {
      "text/plain": [
       "<Figure size 1500x1500 with 3 Axes>"
      ]
     },
     "metadata": {},
     "output_type": "display_data"
    },
    {
     "data": {
      "text/plain": [
       "<Figure size 1500x1500 with 3 Axes>"
      ]
     },
     "metadata": {},
     "output_type": "display_data"
    },
    {
     "data": {
      "text/plain": [
       "<Figure size 1500x1500 with 3 Axes>"
      ]
     },
     "metadata": {},
     "output_type": "display_data"
    },
    {
     "data": {
      "text/plain": [
       "<Figure size 1500x1500 with 3 Axes>"
      ]
     },
     "metadata": {},
     "output_type": "display_data"
    },
    {
     "data": {
      "text/plain": [
       "<Figure size 1500x1500 with 3 Axes>"
      ]
     },
     "metadata": {},
     "output_type": "display_data"
    },
    {
     "data": {
      "text/plain": [
       "<Figure size 1500x1500 with 3 Axes>"
      ]
     },
     "metadata": {},
     "output_type": "display_data"
    },
    {
     "name": "stdout",
     "output_type": "stream",
     "text": [
      "[ INFO ] Image #3678: Dice score = 0.8530\n",
      "[ INFO ] Plotting the predictions and saving to png files. Please wait...\n",
      "14 4 0\n"
     ]
    },
    {
     "data": {
      "text/plain": [
       "<Figure size 1500x1500 with 3 Axes>"
      ]
     },
     "metadata": {},
     "output_type": "display_data"
    },
    {
     "data": {
      "text/plain": [
       "<Figure size 1500x1500 with 3 Axes>"
      ]
     },
     "metadata": {},
     "output_type": "display_data"
    },
    {
     "data": {
      "text/plain": [
       "<Figure size 1500x1500 with 3 Axes>"
      ]
     },
     "metadata": {},
     "output_type": "display_data"
    },
    {
     "data": {
      "text/plain": [
       "<Figure size 1500x1500 with 3 Axes>"
      ]
     },
     "metadata": {},
     "output_type": "display_data"
    },
    {
     "data": {
      "text/plain": [
       "<Figure size 1500x1500 with 3 Axes>"
      ]
     },
     "metadata": {},
     "output_type": "display_data"
    },
    {
     "data": {
      "text/plain": [
       "<Figure size 1500x1500 with 3 Axes>"
      ]
     },
     "metadata": {},
     "output_type": "display_data"
    },
    {
     "data": {
      "text/plain": [
       "<Figure size 1500x1500 with 3 Axes>"
      ]
     },
     "metadata": {},
     "output_type": "display_data"
    },
    {
     "data": {
      "text/plain": [
       "<Figure size 1500x1500 with 3 Axes>"
      ]
     },
     "metadata": {},
     "output_type": "display_data"
    },
    {
     "data": {
      "text/plain": [
       "<Figure size 1500x1500 with 3 Axes>"
      ]
     },
     "metadata": {},
     "output_type": "display_data"
    },
    {
     "data": {
      "text/plain": [
       "<Figure size 1500x1500 with 3 Axes>"
      ]
     },
     "metadata": {},
     "output_type": "display_data"
    },
    {
     "data": {
      "text/plain": [
       "<Figure size 1500x1500 with 3 Axes>"
      ]
     },
     "metadata": {},
     "output_type": "display_data"
    },
    {
     "data": {
      "text/plain": [
       "<Figure size 1500x1500 with 3 Axes>"
      ]
     },
     "metadata": {},
     "output_type": "display_data"
    },
    {
     "data": {
      "text/plain": [
       "<Figure size 1500x1500 with 3 Axes>"
      ]
     },
     "metadata": {},
     "output_type": "display_data"
    },
    {
     "data": {
      "text/plain": [
       "<Figure size 1500x1500 with 3 Axes>"
      ]
     },
     "metadata": {},
     "output_type": "display_data"
    },
    {
     "name": "stdout",
     "output_type": "stream",
     "text": [
      "[ INFO ] Image #3898: Dice score = 0.7659\n",
      "[ INFO ] Plotting the predictions and saving to png files. Please wait...\n",
      "14 4 0\n"
     ]
    },
    {
     "data": {
      "text/plain": [
       "<Figure size 1500x1500 with 3 Axes>"
      ]
     },
     "metadata": {},
     "output_type": "display_data"
    },
    {
     "data": {
      "text/plain": [
       "<Figure size 1500x1500 with 3 Axes>"
      ]
     },
     "metadata": {},
     "output_type": "display_data"
    },
    {
     "data": {
      "text/plain": [
       "<Figure size 1500x1500 with 3 Axes>"
      ]
     },
     "metadata": {},
     "output_type": "display_data"
    },
    {
     "data": {
      "text/plain": [
       "<Figure size 1500x1500 with 3 Axes>"
      ]
     },
     "metadata": {},
     "output_type": "display_data"
    },
    {
     "data": {
      "text/plain": [
       "<Figure size 1500x1500 with 3 Axes>"
      ]
     },
     "metadata": {},
     "output_type": "display_data"
    },
    {
     "data": {
      "text/plain": [
       "<Figure size 1500x1500 with 3 Axes>"
      ]
     },
     "metadata": {},
     "output_type": "display_data"
    },
    {
     "data": {
      "text/plain": [
       "<Figure size 1500x1500 with 3 Axes>"
      ]
     },
     "metadata": {},
     "output_type": "display_data"
    },
    {
     "data": {
      "text/plain": [
       "<Figure size 1500x1500 with 3 Axes>"
      ]
     },
     "metadata": {},
     "output_type": "display_data"
    },
    {
     "data": {
      "text/plain": [
       "<Figure size 1500x1500 with 3 Axes>"
      ]
     },
     "metadata": {},
     "output_type": "display_data"
    },
    {
     "data": {
      "text/plain": [
       "<Figure size 1500x1500 with 3 Axes>"
      ]
     },
     "metadata": {},
     "output_type": "display_data"
    },
    {
     "data": {
      "text/plain": [
       "<Figure size 1500x1500 with 3 Axes>"
      ]
     },
     "metadata": {},
     "output_type": "display_data"
    },
    {
     "data": {
      "text/plain": [
       "<Figure size 1500x1500 with 3 Axes>"
      ]
     },
     "metadata": {},
     "output_type": "display_data"
    },
    {
     "data": {
      "text/plain": [
       "<Figure size 1500x1500 with 3 Axes>"
      ]
     },
     "metadata": {},
     "output_type": "display_data"
    },
    {
     "data": {
      "text/plain": [
       "<Figure size 1500x1500 with 3 Axes>"
      ]
     },
     "metadata": {},
     "output_type": "display_data"
    },
    {
     "name": "stdout",
     "output_type": "stream",
     "text": [
      "[ INFO ] Image #4385: Dice score = 0.7540\n",
      "[ INFO ] Plotting the predictions and saving to png files. Please wait...\n",
      "14 4 0\n"
     ]
    },
    {
     "data": {
      "text/plain": [
       "<Figure size 1500x1500 with 3 Axes>"
      ]
     },
     "metadata": {},
     "output_type": "display_data"
    },
    {
     "data": {
      "text/plain": [
       "<Figure size 1500x1500 with 3 Axes>"
      ]
     },
     "metadata": {},
     "output_type": "display_data"
    },
    {
     "data": {
      "text/plain": [
       "<Figure size 1500x1500 with 3 Axes>"
      ]
     },
     "metadata": {},
     "output_type": "display_data"
    },
    {
     "data": {
      "text/plain": [
       "<Figure size 1500x1500 with 3 Axes>"
      ]
     },
     "metadata": {},
     "output_type": "display_data"
    },
    {
     "data": {
      "text/plain": [
       "<Figure size 1500x1500 with 3 Axes>"
      ]
     },
     "metadata": {},
     "output_type": "display_data"
    },
    {
     "data": {
      "text/plain": [
       "<Figure size 1500x1500 with 3 Axes>"
      ]
     },
     "metadata": {},
     "output_type": "display_data"
    },
    {
     "data": {
      "text/plain": [
       "<Figure size 1500x1500 with 3 Axes>"
      ]
     },
     "metadata": {},
     "output_type": "display_data"
    },
    {
     "data": {
      "text/plain": [
       "<Figure size 1500x1500 with 3 Axes>"
      ]
     },
     "metadata": {},
     "output_type": "display_data"
    },
    {
     "data": {
      "text/plain": [
       "<Figure size 1500x1500 with 3 Axes>"
      ]
     },
     "metadata": {},
     "output_type": "display_data"
    },
    {
     "data": {
      "text/plain": [
       "<Figure size 1500x1500 with 3 Axes>"
      ]
     },
     "metadata": {},
     "output_type": "display_data"
    },
    {
     "data": {
      "text/plain": [
       "<Figure size 1500x1500 with 3 Axes>"
      ]
     },
     "metadata": {},
     "output_type": "display_data"
    },
    {
     "data": {
      "text/plain": [
       "<Figure size 1500x1500 with 3 Axes>"
      ]
     },
     "metadata": {},
     "output_type": "display_data"
    },
    {
     "data": {
      "text/plain": [
       "<Figure size 1500x1500 with 3 Axes>"
      ]
     },
     "metadata": {},
     "output_type": "display_data"
    },
    {
     "data": {
      "text/plain": [
       "<Figure size 1500x1500 with 3 Axes>"
      ]
     },
     "metadata": {},
     "output_type": "display_data"
    }
   ],
   "source": [
    "for idx in range(img_indicies.shape[0]):\n",
    "    dice = dice_score(predictions[idx,0,:,:], label_data[idx,0,:,:])\n",
    "    log.info(\"Image #{}: Dice score = {:.4f}\".format(img_indicies[idx], dice))\n",
    "\n",
    "    if args.plot:\n",
    "        plot_predictions(predictions, input_data, label_data, img_indicies, args)"
   ]
  },
  {
   "cell_type": "markdown",
   "metadata": {},
   "source": [
    "`Licensed under the Apache License, Version 2.0 (the \"License\"); you may not use this file except in compliance with the License. You may obtain a copy of the License at http://www.apache.org/licenses/LICENSE-2.0 Unless required by applicable law or agreed to in writing, software distributed under the License is distributed on an \"AS IS\" BASIS, WITHOUT WARRANTIES OR CONDITIONS OF ANY KIND, either express or implied. See the License for the specific language governing permissions and limitations under the License. SPDX-License-Identifier: EPL-2.0`"
   ]
  },
  {
   "cell_type": "markdown",
   "metadata": {},
   "source": [
    "`Copyright (c) 2019 Intel Corporation`"
   ]
  }
 ],
 "metadata": {
  "kernelspec": {
   "display_name": "Python 3",
   "language": "python",
   "name": "python3"
  },
  "language_info": {
   "codemirror_mode": {
    "name": "ipython",
    "version": 3
   },
   "file_extension": ".py",
   "mimetype": "text/x-python",
   "name": "python",
   "nbconvert_exporter": "python",
   "pygments_lexer": "ipython3",
   "version": "3.6.8"
  }
 },
 "nbformat": 4,
 "nbformat_minor": 2
}
