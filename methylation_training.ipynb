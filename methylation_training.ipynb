{
 "cells": [
  {
   "cell_type": "code",
   "execution_count": 1,
   "metadata": {},
   "outputs": [
    {
     "name": "stderr",
     "output_type": "stream",
     "text": [
      "Using TensorFlow backend.\n"
     ]
    }
   ],
   "source": [
    "import os\n",
    "# os.environ[\"CUDA_DEVICE_ORDER\"]= \"PCI_BUS_ID\"\n",
    "# os.environ[\"CUDA_VISIBLE_DEVICES\"]= \"0\"\n",
    "\n",
    "import numpy as np\n",
    "import pandas as pd\n",
    "import cv2\n",
    "import matplotlib.pyplot as plt\n",
    "import pydicom\n",
    "from collections import Counter\n",
    "\n",
    "from PIL import Image as im\n",
    "from tqdm.notebook import tqdm\n",
    "from pathlib import Path\n",
    "from sklearn.model_selection import train_test_split\n",
    "from sklearn.utils import shuffle, class_weight\n",
    "from glob import glob\n",
    "from sklearn.metrics import precision_score, roc_curve as roc, auc\n",
    "\n",
    "from keras import backend as K\n",
    "from keras.applications.resnet50 import ResNet50\n",
    "# from keras.applications.resnet50 import ResNet50_lstm\n",
    "\n",
    "from keras.optimizers import Adam\n",
    "from keras.preprocessing.image import ImageDataGenerator\n",
    "from keras.layers import Input\n",
    "from keras.callbacks import ModelCheckpoint\n",
    "\n",
    "# import tensorflow as tf\n",
    "# tf.compat.v1.logging.set_verbosity(tf.compat.v1.logging.ERROR)"
   ]
  },
  {
   "cell_type": "markdown",
   "metadata": {},
   "source": [
    "**DEFINE PATHS AND LOAD PATIENT INFO CSVS**"
   ]
  },
  {
   "cell_type": "code",
   "execution_count": 2,
   "metadata": {},
   "outputs": [],
   "source": [
    "csv_path = \"Methylation/patients_db.csv\"\n",
    "# data_dir = \"Methylation/data/TCGA-GBM[axes-corrected_PNG]\"\n",
    "data_dir = \"Methylation/data/TCGA-GBM\"\n",
    "model_dir = \"Methylation/data/TCGA_models\""
   ]
  },
  {
   "cell_type": "code",
   "execution_count": 3,
   "metadata": {},
   "outputs": [],
   "source": [
    "#Load patient data detailing methylation status\n",
    "patient_data = pd.read_csv(str(Path(csv_path).absolute()), sep='\\t+',header=None,engine='python').replace('\"','', regex=True)\n",
    "patient_data.columns = patient_data.iloc[0]\n",
    "patient_data = patient_data.drop(index=0)"
   ]
  },
  {
   "cell_type": "code",
   "execution_count": 4,
   "metadata": {},
   "outputs": [],
   "source": [
    "patient_data = patient_data[['patient_id', 'methylation_status']]\n",
    "#one hot encode methylation status\n",
    "patient_data['methylation_one_hot'] = pd.get_dummies(patient_data['methylation_status']).values.tolist()\n",
    "#have 1 represent methylation present, 0 not present\n",
    "patient_data['methylation_one_hot'] = patient_data.apply(lambda x: x['methylation_one_hot'][::-1], axis=1)"
   ]
  },
  {
   "cell_type": "code",
   "execution_count": 5,
   "metadata": {},
   "outputs": [
    {
     "data": {
      "text/html": [
       "<div>\n",
       "<style scoped>\n",
       "    .dataframe tbody tr th:only-of-type {\n",
       "        vertical-align: middle;\n",
       "    }\n",
       "\n",
       "    .dataframe tbody tr th {\n",
       "        vertical-align: top;\n",
       "    }\n",
       "\n",
       "    .dataframe thead th {\n",
       "        text-align: right;\n",
       "    }\n",
       "</style>\n",
       "<table border=\"1\" class=\"dataframe\">\n",
       "  <thead>\n",
       "    <tr style=\"text-align: right;\">\n",
       "      <th></th>\n",
       "      <th>patient_id</th>\n",
       "      <th>methylation_status</th>\n",
       "      <th>methylation_one_hot</th>\n",
       "    </tr>\n",
       "  </thead>\n",
       "  <tbody>\n",
       "    <tr>\n",
       "      <th>1</th>\n",
       "      <td>TCGA-06-1806</td>\n",
       "      <td>False</td>\n",
       "      <td>[0, 1]</td>\n",
       "    </tr>\n",
       "    <tr>\n",
       "      <th>2</th>\n",
       "      <td>TCGA-06-0141</td>\n",
       "      <td>False</td>\n",
       "      <td>[0, 1]</td>\n",
       "    </tr>\n",
       "    <tr>\n",
       "      <th>3</th>\n",
       "      <td>TCGA-14-1821</td>\n",
       "      <td>True</td>\n",
       "      <td>[1, 0]</td>\n",
       "    </tr>\n",
       "    <tr>\n",
       "      <th>4</th>\n",
       "      <td>TCGA-27-2519</td>\n",
       "      <td>False</td>\n",
       "      <td>[0, 1]</td>\n",
       "    </tr>\n",
       "    <tr>\n",
       "      <th>5</th>\n",
       "      <td>TCGA-02-0011</td>\n",
       "      <td>True</td>\n",
       "      <td>[1, 0]</td>\n",
       "    </tr>\n",
       "  </tbody>\n",
       "</table>\n",
       "</div>"
      ],
      "text/plain": [
       "0    patient_id methylation_status methylation_one_hot\n",
       "1  TCGA-06-1806              False              [0, 1]\n",
       "2  TCGA-06-0141              False              [0, 1]\n",
       "3  TCGA-14-1821               True              [1, 0]\n",
       "4  TCGA-27-2519              False              [0, 1]\n",
       "5  TCGA-02-0011               True              [1, 0]"
      ]
     },
     "execution_count": 5,
     "metadata": {},
     "output_type": "execute_result"
    }
   ],
   "source": [
    "patient_data.head()"
   ]
  },
  {
   "cell_type": "code",
   "execution_count": 6,
   "metadata": {},
   "outputs": [
    {
     "data": {
      "text/plain": [
       "(138, 138)"
      ]
     },
     "execution_count": 6,
     "metadata": {},
     "output_type": "execute_result"
    }
   ],
   "source": [
    "len(patient_data), len(np.unique(patient_data['patient_id']))"
   ]
  },
  {
   "cell_type": "code",
   "execution_count": 7,
   "metadata": {},
   "outputs": [],
   "source": [
    "#Load patient data detailing frames that contain tumour\n",
    "patient_info_t1 = pd.read_pickle(str(Path('Methylation/patient_info_t1.pickle').absolute()))"
   ]
  },
  {
   "cell_type": "code",
   "execution_count": 8,
   "metadata": {},
   "outputs": [
    {
     "data": {
      "text/plain": [
       "(131, 131)"
      ]
     },
     "execution_count": 8,
     "metadata": {},
     "output_type": "execute_result"
    }
   ],
   "source": [
    "len(patient_info_t1), len(np.unique(patient_info_t1['modality_path']))"
   ]
  },
  {
   "cell_type": "code",
   "execution_count": 9,
   "metadata": {},
   "outputs": [],
   "source": [
    "#Merge methylation info and patient info\n",
    "training_df = pd.merge(patient_data,patient_info_t1,how='inner',left_on='patient_id',right_on='Patient ID').drop('Patient ID',axis=1)"
   ]
  },
  {
   "cell_type": "code",
   "execution_count": 10,
   "metadata": {},
   "outputs": [
    {
     "data": {
      "text/plain": [
       "(71, 71)"
      ]
     },
     "execution_count": 10,
     "metadata": {},
     "output_type": "execute_result"
    }
   ],
   "source": [
    "len(training_df), len(np.unique(training_df['modality_path']))"
   ]
  },
  {
   "cell_type": "code",
   "execution_count": 11,
   "metadata": {},
   "outputs": [
    {
     "data": {
      "text/plain": [
       "53"
      ]
     },
     "execution_count": 11,
     "metadata": {},
     "output_type": "execute_result"
    }
   ],
   "source": [
    "patients = np.unique(training_df['patient_id'])\n",
    "len(patients)"
   ]
  },
  {
   "cell_type": "code",
   "execution_count": 12,
   "metadata": {},
   "outputs": [
    {
     "data": {
      "text/plain": [
       "True     37\n",
       "False    34\n",
       "Name: methylation_status, dtype: int64"
      ]
     },
     "execution_count": 12,
     "metadata": {},
     "output_type": "execute_result"
    }
   ],
   "source": [
    "#Distribution of training/validation set\n",
    "training_df['methylation_status'].value_counts()"
   ]
  },
  {
   "cell_type": "markdown",
   "metadata": {},
   "source": [
    "**SET UP TRAINING CONFIG PARAMETERS**"
   ]
  },
  {
   "cell_type": "code",
   "execution_count": 13,
   "metadata": {},
   "outputs": [],
   "source": [
    "model_save_dir = str(Path('methylation_models/dicom_t1_axials_windowed_tumour_seg_noaug').absolute())\n",
    "os.makedirs(model_save_dir, exist_ok=True)"
   ]
  },
  {
   "cell_type": "code",
   "execution_count": 14,
   "metadata": {},
   "outputs": [],
   "source": [
    "image_shape = (128,128,1)\n",
    "# input_tensor = Input(shape=(20,)+image_shape)\n",
    "input_tensor = Input(image_shape)\n",
    "resnet50 = ResNet50(input_tensor=input_tensor, weights=None, include_top=True, classes=2)"
   ]
  },
  {
   "cell_type": "code",
   "execution_count": 15,
   "metadata": {},
   "outputs": [],
   "source": [
    "#batch size\n",
    "train_batch_size = 16\n",
    "val_batch_size = 16\n",
    "nepochs = 50\n",
    "#model optimizer\n",
    "optimizer = Adam(beta_1=0.99,beta_2=0.99,lr=1.0e-4,decay=1.0e-6)\n",
    "#loss\n",
    "loss= 'categorical_crossentropy'\n",
    "#create checkpoint callback to save model on epochs that have best validation accuracy\n",
    "checkpoint = ModelCheckpoint(model_save_dir + '/weights-improvement-{epoch:02d}-{val_categorical_accuracy:.2f}.hdf5', monitor='val_categorical_accuracy', verbose=1, save_best_only=True, mode='max')\n",
    "callbacks_list = [checkpoint]"
   ]
  },
  {
   "cell_type": "code",
   "execution_count": 16,
   "metadata": {},
   "outputs": [],
   "source": [
    "resnet50.compile(loss=loss, optimizer=optimizer, metrics = ['categorical_accuracy'])      "
   ]
  },
  {
   "cell_type": "markdown",
   "metadata": {},
   "source": [
    "**LOAD DATA**"
   ]
  },
  {
   "cell_type": "markdown",
   "metadata": {},
   "source": [
    "**Frame Level**"
   ]
  },
  {
   "cell_type": "code",
   "execution_count": 17,
   "metadata": {},
   "outputs": [],
   "source": [
    "#Frame level\n",
    "def get_xy_data(fmatrix):\n",
    "\n",
    "    x_input = []\n",
    "    y_output = []\n",
    "    noisy_images = []\n",
    "            \n",
    "    for index, row in fmatrix.iterrows():\n",
    "        print('loading sequence : {}'.format(row['modality_path']))\n",
    "        for brain_slice in os.listdir(row['modality_path']):\n",
    "            if str(brain_slice) in row['frames_with_tumour']:\n",
    "                try:\n",
    "                    dcm = pydicom.dcmread(os.path.join(row['modality_path'],brain_slice))\n",
    "                    img = dcm.pixel_array\n",
    "                    try:\n",
    "                        img = dcm.pixel_array*dcm.RescaleSlope+dcm.RescaleIntercept\n",
    "                    except:\n",
    "                        pass\n",
    "                    try:\n",
    "                        min_value, max_value = dcm.WindowCenter - dcm.WindowWidth/2, dcm.WindowCenter + dcm.WindowWidth/2\n",
    "                        img[img < min_value] = min_value\n",
    "                        img[img > max_value] = max_value\n",
    "                    except:\n",
    "                        pass\n",
    "                    img = cv2.resize(img,(128,128))\n",
    "                    #If there are more than 90% black pixels in the image, don't use the slice for training\n",
    "                    if (np.mean(img)<20) & (np.std(img)<20):\n",
    "                        noisy_images.append(os.path.join(row['modality_path'],brain_slice))\n",
    "                    else:\n",
    "                        img = img/np.std(img)\n",
    "#                         img = (img - np.mean(img))/np.std(img)\n",
    "                        x_input.append(img.reshape(img.shape + (1,)))\n",
    "                        y_output.append(row['methylation_one_hot'])\n",
    "                except Exception as e:\n",
    "                    print('****')\n",
    "                    print(e)\n",
    "                    print(os.path.join(row['modality_path'],brain_slice))\n",
    "                    print('****')\n",
    "\n",
    "    return np.array(x_input), np.array(y_output), noisy_images"
   ]
  },
  {
   "cell_type": "markdown",
   "metadata": {},
   "source": [
    "**Video Level**"
   ]
  },
  {
   "cell_type": "code",
   "execution_count": null,
   "metadata": {},
   "outputs": [],
   "source": [
    "# def get_xy_data(fmatrix):\n",
    "\n",
    "#     x_input = []\n",
    "#     y_output = []\n",
    "            \n",
    "#     for index, row in fmatrix.iterrows():\n",
    "#         print('loading study : {}'.format(row['path_to_study']))\n",
    "#         for study in os.listdir(row['path_to_study']):\n",
    "#             for sequence in os.listdir(os.path.join(row['path_to_study'],study)):\n",
    "# #                 print('sequence',sequence)\n",
    "#                 if 'AX' in sequence:\n",
    "# #                     print('directory length-->', len(os.listdir(os.path.join(row['path_to_study'],study,sequence))))\n",
    "#                     video_input = []\n",
    "#                     try:\n",
    "#                         for brain_slice in os.listdir(os.path.join(row['path_to_study'],study,sequence)):\n",
    "# #                             img = cv2.imread(os.path.join(row['path_to_study'],study,sequence,brain_slice),cv2.IMREAD_GRAYSCALE)\n",
    "#                             dcm = pydicom.dcmread(os.path.join(row['path_to_study'],study,sequence,brain_slice))\n",
    "#                             try:\n",
    "#                                 img = dcm.pixel_array*dcm.RescaleSlope+dcm.RescaleIntercept\n",
    "#                             except:\n",
    "#                                 img = dcm.pixel_array\n",
    "#                             if (np.mean(img)<20) & (np.std(img)<20):\n",
    "#                                 print('noisy image', os.path.join(row['path_to_study'],study,sequence,brain_slice))\n",
    "#                             else:                                \n",
    "#                                 img = cv2.resize(img,(128,128))\n",
    "#                                 video_input.append(img.reshape(img.shape + (1,)))\n",
    "#                         video_input = np.array(video_input)\n",
    "#                         number_of_frames = video_input.shape[0]\n",
    "# #                         print('number of frames-->', number_of_frames)\n",
    "#                         resample_ratio = 20/number_of_frames\n",
    "#                         # resample video:\n",
    "#                         video_input = zoom(video_input, (resample_ratio, 1, 1, 1))                       \n",
    "#                         x_input.append(video_input)\n",
    "#                         y_output.append(row['methylation_one_hot'])\n",
    "#                     except Exception as e:\n",
    "#                         print('****')\n",
    "#                         print(e)\n",
    "#                         print(os.path.join(row['path_to_study'],study,sequence,brain_slice))\n",
    "#                         print('****')\n",
    "\n",
    "#     return np.array(x_input), np.array(y_output)"
   ]
  },
  {
   "cell_type": "code",
   "execution_count": 18,
   "metadata": {},
   "outputs": [],
   "source": [
    "train_set, val_set = train_test_split(training_df, test_size=0.2, stratify=training_df['methylation_status'], random_state=9)\n"
   ]
  },
  {
   "cell_type": "code",
   "execution_count": 19,
   "metadata": {},
   "outputs": [
    {
     "name": "stdout",
     "output_type": "stream",
     "text": [
      "***build training set***\n",
      "loading sequence : /external_drive/MRI_Deep_Learning/Methylation/data/TCGA-GBM/TCGA-19-0963/10-12-2001-NR MRI BRAIN WWO-55607/6-MRHG T1 AX-65851\n",
      "loading sequence : /external_drive/MRI_Deep_Learning/Methylation/data/TCGA-GBM/TCGA-12-1093/09-20-1999-MRI BRAIN WWO C-34026/8-AX T1-46830\n",
      "loading sequence : /external_drive/MRI_Deep_Learning/Methylation/data/TCGA-GBM/TCGA-14-0789/11-19-1997-MRI BRAIN WWO-81594/701-BRAIN      T1 AX PRE-65003\n",
      "loading sequence : /external_drive/MRI_Deep_Learning/Methylation/data/TCGA-GBM/TCGA-76-6657/06-11-2001-MRI BRAIN WITH STRYKER-72697/901-T1 AX  SE-00914\n",
      "loading sequence : /external_drive/MRI_Deep_Learning/Methylation/data/TCGA-GBM/TCGA-06-0190/12-10-2004-41856/6-AXIAL T1-88313\n",
      "loading sequence : /external_drive/MRI_Deep_Learning/Methylation/data/TCGA-GBM/TCGA-76-4935/01-22-2001-MRI BRAIN COMBO-10861/1101-T1 AX  SE-88216\n",
      "loading sequence : /external_drive/MRI_Deep_Learning/Methylation/data/TCGA-GBM/TCGA-02-0047/12-15-1998-MRI BRAIN WWO CONTR-70492/5-AX T1-38756\n",
      "loading sequence : /external_drive/MRI_Deep_Learning/Methylation/data/TCGA-GBM/TCGA-76-6285/12-19-1998-MRI STRYKER W  JHN-32999/3-BRAINSTRYKERT1AXIAL-24370\n",
      "loading sequence : /external_drive/MRI_Deep_Learning/Methylation/data/TCGA-GBM/TCGA-12-1094/11-15-1999-BRAIN-48421/6-AX T1-05978\n"
     ]
    },
    {
     "name": "stderr",
     "output_type": "stream",
     "text": [
      "/home/ec2-user/anaconda3/envs/tensorflow_p36/lib/python3.6/site-packages/pydicom/filereader.py:313: UserWarning: Expected explicit VR, but found implicit VR - using implicit VR for reading\n",
      "  warnings.warn(message, UserWarning)\n"
     ]
    },
    {
     "name": "stdout",
     "output_type": "stream",
     "text": [
      "loading sequence : /external_drive/MRI_Deep_Learning/Methylation/data/TCGA-GBM/TCGA-06-0128/02-18-1999-TUMOR VOL  SI-35909/7-AXIAL T1 PRE GD-49350\n",
      "loading sequence : /external_drive/MRI_Deep_Learning/Methylation/data/TCGA-GBM/TCGA-19-5960/03-15-2004-NR MRI BRAIN WWO-30388/8-TIR T1 AX-02076\n",
      "loading sequence : /external_drive/MRI_Deep_Learning/Methylation/data/TCGA-GBM/TCGA-02-0006/08-23-1996-MRI BRAIN W WO CONTRAMR-42545/5-AX T1-62419\n",
      "loading sequence : /external_drive/MRI_Deep_Learning/Methylation/data/TCGA-GBM/TCGA-12-1098/07-23-2000-MRI BRAIN-99313/9-T1 AXIAL-25337\n",
      "loading sequence : /external_drive/MRI_Deep_Learning/Methylation/data/TCGA-GBM/TCGA-06-2570/07-26-2007-MRI BRAIN WWO CONTRAST-42847/8-AX T1 pre gd-51584\n",
      "loading sequence : /external_drive/MRI_Deep_Learning/Methylation/data/TCGA-GBM/TCGA-06-5408/01-11-2008-34135/7-AXIAL T1-26418\n",
      "loading sequence : /external_drive/MRI_Deep_Learning/Methylation/data/TCGA-GBM/TCGA-06-0130/09-11-2001-93062/8-AX T1 pre gd-26039\n",
      "loading sequence : /external_drive/MRI_Deep_Learning/Methylation/data/TCGA-GBM/TCGA-06-5413/06-17-2008-18002/9-AX T1 pre gd-06881\n",
      "loading sequence : /external_drive/MRI_Deep_Learning/Methylation/data/TCGA-GBM/TCGA-06-1084/01-15-2007-24760/6-AXIAL T1-76708\n",
      "loading sequence : /external_drive/MRI_Deep_Learning/Methylation/data/TCGA-GBM/TCGA-06-0133/05-10-2005-27867/8-AX T1 pre gd-69119\n",
      "loading sequence : /external_drive/MRI_Deep_Learning/Methylation/data/TCGA-GBM/TCGA-02-0037/01-13-1998-MRI BRAIN WWO CONTRAMR-61567/5-AX T1-92259\n",
      "loading sequence : /external_drive/MRI_Deep_Learning/Methylation/data/TCGA-GBM/TCGA-06-1084/08-07-2007-57158/6-AXIAL T1-57984\n",
      "loading sequence : /external_drive/MRI_Deep_Learning/Methylation/data/TCGA-GBM/TCGA-06-1802/04-03-2007-28642/7-AX T1 pre GD FLAIR-18562\n",
      "loading sequence : /external_drive/MRI_Deep_Learning/Methylation/data/TCGA-GBM/TCGA-06-0130/06-18-2002-52263/9-AX T1 pre gd-78853\n",
      "loading sequence : /external_drive/MRI_Deep_Learning/Methylation/data/TCGA-GBM/TCGA-02-0116/03-22-1997-MRI BRAIN WWO CONTRAMR-70515/5-AX T1-19335\n",
      "loading sequence : /external_drive/MRI_Deep_Learning/Methylation/data/TCGA-GBM/TCGA-06-0128/02-18-1999-TUMOR VOL  SI-36438/7-AXIAL T1 PRE GD-75220\n",
      "loading sequence : /external_drive/MRI_Deep_Learning/Methylation/data/TCGA-GBM/TCGA-19-2624/12-10-2002-NR MRI BRAIN WWO-21815/11-MRHR T1 AX-84384\n",
      "loading sequence : /external_drive/MRI_Deep_Learning/Methylation/data/TCGA-GBM/TCGA-06-6389/04-04-2009-MRI BRAIN WWO CONTRAST-34431/8-AX T1 pre gd-10183\n",
      "loading sequence : /external_drive/MRI_Deep_Learning/Methylation/data/TCGA-GBM/TCGA-02-0085/01-30-1999-MRI BRAIN WWO CONTR-29853/5-AX T1-84008\n",
      "loading sequence : /external_drive/MRI_Deep_Learning/Methylation/data/TCGA-GBM/TCGA-76-6663/12-27-2001-MRI BRAIN WITH STRYKER-65499/801-T1 AX  SE-74602\n",
      "loading sequence : /external_drive/MRI_Deep_Learning/Methylation/data/TCGA-GBM/TCGA-06-0145/11-06-2000-TVPSPECTOSCOPTIC-46751/8-AXIAL T1-14022\n",
      "loading sequence : /external_drive/MRI_Deep_Learning/Methylation/data/TCGA-GBM/TCGA-76-6656/06-02-2001-MRI BRAIN IP-02901/901-T1 AX  SE-25444\n",
      "loading sequence : /external_drive/MRI_Deep_Learning/Methylation/data/TCGA-GBM/TCGA-06-0139/03-24-2005-19928/8-AX T1 pre gd-76768\n",
      "loading sequence : /external_drive/MRI_Deep_Learning/Methylation/data/TCGA-GBM/TCGA-76-6662/12-13-2001-MRI BRAIN WITH-86043/801-T1 AX  SE-29186\n",
      "loading sequence : /external_drive/MRI_Deep_Learning/Methylation/data/TCGA-GBM/TCGA-76-6663/12-27-2001-MRI BRAIN WITH STRYKER-65499/1001-T1 AX SE-79698\n",
      "loading sequence : /external_drive/MRI_Deep_Learning/Methylation/data/TCGA-GBM/TCGA-76-6282/08-24-1998-JHN BRAIN COMBO IP-22866/4-BRAINSTRYKERT1AXIAL-28304\n",
      "loading sequence : /external_drive/MRI_Deep_Learning/Methylation/data/TCGA-GBM/TCGA-06-1084/05-14-2007-55702/6-AXIAL T1-69134\n",
      "loading sequence : /external_drive/MRI_Deep_Learning/Methylation/data/TCGA-GBM/TCGA-19-1390/03-20-2001-NR MRI BRAIN WWO-90326/4-MRHG T1 AX-77114\n",
      "loading sequence : /external_drive/MRI_Deep_Learning/Methylation/data/TCGA-GBM/TCGA-06-0122/09-14-2004-55494/8-AX T1 pre gd-55071\n",
      "loading sequence : /external_drive/MRI_Deep_Learning/Methylation/data/TCGA-GBM/TCGA-02-0033/05-26-1997-MRI BRAIN WWO CONTR-89744/5-AX T1-46836\n",
      "loading sequence : /external_drive/MRI_Deep_Learning/Methylation/data/TCGA-GBM/TCGA-06-0128/02-18-1999-TUMOR VOL  SI-36438/5-AXIAL T1 PRE GD-38830\n",
      "loading sequence : /external_drive/MRI_Deep_Learning/Methylation/data/TCGA-GBM/TCGA-02-0003/06-08-1997-MRI BRAIN WWO CONTRAMR-81239/12-AX T1-90444\n",
      "loading sequence : /external_drive/MRI_Deep_Learning/Methylation/data/TCGA-GBM/TCGA-76-6661/12-08-2001-MRIA  BRAIN CONTRAST JHN-34840/1101-T1 AX  SE-45423\n",
      "loading sequence : /external_drive/MRI_Deep_Learning/Methylation/data/TCGA-GBM/TCGA-02-0009/06-14-1997-MRI BRAIN WWO CONTRAMR-13452/5-AX T1-38458\n",
      "loading sequence : /external_drive/MRI_Deep_Learning/Methylation/data/TCGA-GBM/TCGA-06-0190/12-10-2004-MRI BRAIN WWO CONTRAS-69767/6-AXIAL T1-05580\n",
      "loading sequence : /external_drive/MRI_Deep_Learning/Methylation/data/TCGA-GBM/TCGA-06-5412/06-03-2008-71272/11-AX T1 pre gd-98139\n",
      "loading sequence : /external_drive/MRI_Deep_Learning/Methylation/data/TCGA-GBM/TCGA-12-0829/06-02-1999-BRAIN-09460/5-T1 AX PRE-23096\n",
      "loading sequence : /external_drive/MRI_Deep_Learning/Methylation/data/TCGA-GBM/TCGA-06-0139/06-10-2004-06150/8-AX T1 pre gd-64705\n",
      "loading sequence : /external_drive/MRI_Deep_Learning/Methylation/data/TCGA-GBM/TCGA-76-6657/06-11-2001-MRI BRAIN WITH STRYKER-72697/1301-T1 AX SE-33803\n",
      "loading sequence : /external_drive/MRI_Deep_Learning/Methylation/data/TCGA-GBM/TCGA-06-0128/02-18-1999-TUMOR VOL  SI-35909/5-AXIAL T1 PRE GD-02649\n",
      "loading sequence : /external_drive/MRI_Deep_Learning/Methylation/data/TCGA-GBM/TCGA-12-1094/11-15-1999-BRAIN-48421/9-AX T1-97684\n",
      "loading sequence : /external_drive/MRI_Deep_Learning/Methylation/data/TCGA-GBM/TCGA-02-0054/05-16-1999-MRI BRAIN WWO CONTR-68633/6-AX T1-67057\n",
      "loading sequence : /external_drive/MRI_Deep_Learning/Methylation/data/TCGA-GBM/TCGA-12-1094/11-15-1999-BRAIN-48421/10-AX T1-78859\n",
      "loading sequence : /external_drive/MRI_Deep_Learning/Methylation/data/TCGA-GBM/TCGA-12-3650/07-29-2001-BRAIN-95330/6-AX T1-94761\n",
      "loading sequence : /external_drive/MRI_Deep_Learning/Methylation/data/TCGA-GBM/TCGA-76-4932/03-16-1997-MRI BRAIN STRYKER-44803/3-BRAINSTRYKERT1AXIAL-83401\n",
      "loading sequence : /external_drive/MRI_Deep_Learning/Methylation/data/TCGA-GBM/TCGA-76-4934/10-08-2000-MRI BRAINSTRYKER IP-29203/901-T1 AX  SE-98910\n",
      "loading sequence : /external_drive/MRI_Deep_Learning/Methylation/data/TCGA-GBM/TCGA-02-0046/11-28-1998-MRI BRAIN WWO CONTR-34177/5-AX T1-73320\n",
      "***build val set***\n",
      "loading sequence : /external_drive/MRI_Deep_Learning/Methylation/data/TCGA-GBM/TCGA-02-0086/07-25-1999-MRI BRAIN WWO CONTR-49848/6-AX T1-94367\n",
      "loading sequence : /external_drive/MRI_Deep_Learning/Methylation/data/TCGA-GBM/TCGA-02-0034/07-27-1997-MRI BRAIN WWO CONTRAMR-39956/12-AX T1-46175\n",
      "loading sequence : /external_drive/MRI_Deep_Learning/Methylation/data/TCGA-GBM/TCGA-14-1794/04-11-1998-MRI BRAIN WWO CONT-42545/701-BRAIN      T1 AX PRE-53019\n",
      "loading sequence : /external_drive/MRI_Deep_Learning/Methylation/data/TCGA-GBM/TCGA-19-5951/09-14-2003-NR MRI BRAIN WWO-33278/6-TIR T1 AX-11679\n",
      "loading sequence : /external_drive/MRI_Deep_Learning/Methylation/data/TCGA-GBM/TCGA-12-1598/08-23-1999-MRI BRAIN-61414/5-T1AX-03736\n",
      "loading sequence : /external_drive/MRI_Deep_Learning/Methylation/data/TCGA-GBM/TCGA-06-0139/11-09-2004-53123/8-AX T1 pre gd-59524\n",
      "loading sequence : /external_drive/MRI_Deep_Learning/Methylation/data/TCGA-GBM/TCGA-02-0011/02-01-1998-MRI BRAIN WWO CONTRAMR-31709/5-AX T1-75594\n",
      "loading sequence : /external_drive/MRI_Deep_Learning/Methylation/data/TCGA-GBM/TCGA-06-0133/07-28-2005-41762/8-AX T1 pre gd-98773\n",
      "loading sequence : /external_drive/MRI_Deep_Learning/Methylation/data/TCGA-GBM/TCGA-06-5417/09-03-2008-MRI BRAIN WWO CONTRAST-20551/7-AX T1 pre gd-88614\n",
      "loading sequence : /external_drive/MRI_Deep_Learning/Methylation/data/TCGA-GBM/TCGA-76-6661/12-08-2001-MRIA  BRAIN CONTRAST JHN-34840/1301-T1 AX SE-53382\n",
      "loading sequence : /external_drive/MRI_Deep_Learning/Methylation/data/TCGA-GBM/TCGA-06-1084/09-17-2007-17434/7-AXIAL T1-60686\n"
     ]
    },
    {
     "name": "stdout",
     "output_type": "stream",
     "text": [
      "loading sequence : /external_drive/MRI_Deep_Learning/Methylation/data/TCGA-GBM/TCGA-12-1602/03-04-2001-MRI BRAIN-38341/6-AX SE T1-40804\n",
      "loading sequence : /external_drive/MRI_Deep_Learning/Methylation/data/TCGA-GBM/TCGA-06-0133/10-05-2005-89983/8-AX T1 pre gd-79321\n",
      "loading sequence : /external_drive/MRI_Deep_Learning/Methylation/data/TCGA-GBM/TCGA-76-6662/12-13-2001-MRI BRAIN WITH-86043/1001-T1 AX SE-51871\n",
      "loading sequence : /external_drive/MRI_Deep_Learning/Methylation/data/TCGA-GBM/TCGA-19-2631/03-02-2003-NR MRI BRAIN WWO-07216/7-MRHR T1 AX-30547\n"
     ]
    }
   ],
   "source": [
    "#Train Set\n",
    "print('***build training set***')\n",
    "x_train, y_train, noisy_images_train = get_xy_data(train_set)\n",
    "#Test Set\n",
    "print('***build val set***')\n",
    "x_val, y_val, noisy_images_test = get_xy_data(val_set)"
   ]
  },
  {
   "cell_type": "code",
   "execution_count": null,
   "metadata": {},
   "outputs": [],
   "source": [
    "noisy_images_train"
   ]
  },
  {
   "cell_type": "code",
   "execution_count": 20,
   "metadata": {},
   "outputs": [
    {
     "name": "stdout",
     "output_type": "stream",
     "text": [
      "training set shape-->\n",
      "(1653, 128, 128, 1)\n",
      "validation set shape-->\n",
      "(357, 128, 128, 1)\n",
      "\n",
      "training set percentage of frames with methylation-->\n",
      "0.45069570477918935\n",
      "validation set percentage of frames with methylation-->\n",
      "0.49299719887955185\n"
     ]
    }
   ],
   "source": [
    "#Training Set Distribution\n",
    "print('training set shape-->')\n",
    "print(x_train.shape)\n",
    "print('validation set shape-->')\n",
    "print(x_val.shape)\n",
    "print('')\n",
    "print('training set percentage of frames with methylation-->')\n",
    "print(np.unique([str(i) for i in y_train],return_counts=True)[1][1]/len(y_train))\n",
    "#Validation Set Distribution\n",
    "print('validation set percentage of frames with methylation-->')\n",
    "print(np.unique([str(i) for i in y_val],return_counts=True)[1][1]/len(y_val))"
   ]
  },
  {
   "cell_type": "code",
   "execution_count": 21,
   "metadata": {},
   "outputs": [],
   "source": [
    "#steps per epoch\n",
    "train_steps_per_epoch = int(np.ceil(len(x_train)/train_batch_size))\n",
    "val_steps_per_epoch = int(np.ceil(len(x_train)/val_batch_size))"
   ]
  },
  {
   "cell_type": "markdown",
   "metadata": {},
   "source": [
    "**Frame Level**"
   ]
  },
  {
   "cell_type": "code",
   "execution_count": 22,
   "metadata": {},
   "outputs": [],
   "source": [
    "#Generator for keras model\n",
    "seed = 9\n",
    "    \n",
    "# train_image_datagen = ImageDataGenerator(#samplewise_center=True,\n",
    "#     #samplewise_std_normalization=True,\n",
    "#     #rotation_range=5,\n",
    "#     vertical_flip=True)   \n",
    "train_image_datagen = ImageDataGenerator()   \n",
    "val_image_datagen = ImageDataGenerator()   \n",
    "\n",
    "training_set_generator = train_image_datagen.flow(x_train, y_train, batch_size=train_batch_size, shuffle=True,seed=seed)\n",
    "validation_set_generator = val_image_datagen.flow(x_val, y_val, batch_size=val_batch_size, shuffle=True, seed=seed)\n"
   ]
  },
  {
   "cell_type": "markdown",
   "metadata": {},
   "source": [
    "**Video Level**"
   ]
  },
  {
   "cell_type": "code",
   "execution_count": null,
   "metadata": {},
   "outputs": [],
   "source": [
    "# def batch_to(x, y, batch_size):\n",
    "    \n",
    "#     x_batch = []\n",
    "#     y_batch = []\n",
    "    \n",
    "#     up2 = 0\n",
    "#     for batch in np.array_split(x, int(np.ceil(len(x)/batch_size))):\n",
    "#         x_batch.append(batch)\n",
    "#         y_batch.append(y[up2:up2+len(batch)])\n",
    "#         up2 += len(batch)\n",
    "        \n",
    "#     return np.array(x_batch), np.array(y_batch)\n",
    "\n",
    "# def convert_generator(x, y, batch_size, noise=None):      \n",
    "#     x_batch, y_batch= batch_to(x, y, batch_size)        \n",
    "#     while True:\n",
    "#         x, y = shuffle(x, y)\n",
    "#         for bi in range(len(x_batch)):\n",
    "#             yield(x_batch[bi], y_batch[bi])\n",
    "\n",
    "\n",
    "# training_set_generator = convert_generator(x_train, y_train, train_batch_size)\n",
    "# validation_set_generator = convert_generator(x_val, y_val, val_batch_size)"
   ]
  },
  {
   "cell_type": "markdown",
   "metadata": {},
   "source": [
    "**TRAIN MODEL**"
   ]
  },
  {
   "cell_type": "code",
   "execution_count": 23,
   "metadata": {},
   "outputs": [
    {
     "name": "stdout",
     "output_type": "stream",
     "text": [
      "Epoch 1/50\n",
      "104/104 [==============================] - 57s 548ms/step - loss: 0.7433 - categorical_accuracy: 0.5856 - val_loss: 1.5859 - val_categorical_accuracy: 0.5123\n",
      "\n",
      "Epoch 00001: val_categorical_accuracy improved from -inf to 0.51235, saving model to /external_drive/MRI_Deep_Learning/methylation_models/dicom_t1_axials_windowed_tumour_seg_noaug/weights-improvement-01-0.51.hdf5\n",
      "Epoch 2/50\n",
      "104/104 [==============================] - 39s 378ms/step - loss: 0.5210 - categorical_accuracy: 0.7371 - val_loss: 0.8640 - val_categorical_accuracy: 0.5643\n",
      "\n",
      "Epoch 00002: val_categorical_accuracy improved from 0.51235 to 0.56433, saving model to /external_drive/MRI_Deep_Learning/methylation_models/dicom_t1_axials_windowed_tumour_seg_noaug/weights-improvement-02-0.56.hdf5\n",
      "Epoch 3/50\n",
      "104/104 [==============================] - 39s 375ms/step - loss: 0.3755 - categorical_accuracy: 0.8281 - val_loss: 1.0657 - val_categorical_accuracy: 0.5716\n",
      "\n",
      "Epoch 00003: val_categorical_accuracy improved from 0.56433 to 0.57160, saving model to /external_drive/MRI_Deep_Learning/methylation_models/dicom_t1_axials_windowed_tumour_seg_noaug/weights-improvement-03-0.57.hdf5\n",
      "Epoch 4/50\n",
      "104/104 [==============================] - 39s 374ms/step - loss: 0.2527 - categorical_accuracy: 0.8990 - val_loss: 1.1343 - val_categorical_accuracy: 0.5780\n",
      "\n",
      "Epoch 00004: val_categorical_accuracy improved from 0.57160 to 0.57800, saving model to /external_drive/MRI_Deep_Learning/methylation_models/dicom_t1_axials_windowed_tumour_seg_noaug/weights-improvement-04-0.58.hdf5\n",
      "Epoch 5/50\n",
      "104/104 [==============================] - 39s 374ms/step - loss: 0.1988 - categorical_accuracy: 0.9193 - val_loss: 2.0951 - val_categorical_accuracy: 0.5716\n",
      "\n",
      "Epoch 00005: val_categorical_accuracy did not improve from 0.57800\n",
      "Epoch 6/50\n",
      "104/104 [==============================] - 39s 374ms/step - loss: 0.2175 - categorical_accuracy: 0.9099 - val_loss: 1.0766 - val_categorical_accuracy: 0.5873\n",
      "\n",
      "Epoch 00006: val_categorical_accuracy improved from 0.57800 to 0.58732, saving model to /external_drive/MRI_Deep_Learning/methylation_models/dicom_t1_axials_windowed_tumour_seg_noaug/weights-improvement-06-0.59.hdf5\n",
      "Epoch 7/50\n",
      "104/104 [==============================] - 39s 374ms/step - loss: 0.1191 - categorical_accuracy: 0.9537 - val_loss: 1.1498 - val_categorical_accuracy: 0.6253\n",
      "\n",
      "Epoch 00007: val_categorical_accuracy improved from 0.58732 to 0.62531, saving model to /external_drive/MRI_Deep_Learning/methylation_models/dicom_t1_axials_windowed_tumour_seg_noaug/weights-improvement-07-0.63.hdf5\n",
      "Epoch 8/50\n",
      "104/104 [==============================] - 39s 374ms/step - loss: 0.1270 - categorical_accuracy: 0.9495 - val_loss: 1.5457 - val_categorical_accuracy: 0.5687\n",
      "\n",
      "Epoch 00008: val_categorical_accuracy did not improve from 0.62531\n",
      "Epoch 9/50\n",
      "104/104 [==============================] - 39s 374ms/step - loss: 0.1634 - categorical_accuracy: 0.9375 - val_loss: 1.2525 - val_categorical_accuracy: 0.5926\n",
      "\n",
      "Epoch 00009: val_categorical_accuracy did not improve from 0.62531\n",
      "Epoch 10/50\n",
      "104/104 [==============================] - 39s 374ms/step - loss: 0.1941 - categorical_accuracy: 0.9213 - val_loss: 1.4216 - val_categorical_accuracy: 0.5761\n",
      "\n",
      "Epoch 00010: val_categorical_accuracy did not improve from 0.62531\n",
      "Epoch 11/50\n",
      "104/104 [==============================] - 39s 374ms/step - loss: 0.1077 - categorical_accuracy: 0.9609 - val_loss: 1.5777 - val_categorical_accuracy: 0.5660\n",
      "\n",
      "Epoch 00011: val_categorical_accuracy did not improve from 0.62531\n",
      "Epoch 12/50\n",
      "104/104 [==============================] - 39s 374ms/step - loss: 0.1087 - categorical_accuracy: 0.9621 - val_loss: 1.3864 - val_categorical_accuracy: 0.6464\n",
      "\n",
      "Epoch 00012: val_categorical_accuracy improved from 0.62531 to 0.64636, saving model to /external_drive/MRI_Deep_Learning/methylation_models/dicom_t1_axials_windowed_tumour_seg_noaug/weights-improvement-12-0.65.hdf5\n",
      "Epoch 13/50\n",
      "104/104 [==============================] - 39s 375ms/step - loss: 0.0892 - categorical_accuracy: 0.9597 - val_loss: 1.3040 - val_categorical_accuracy: 0.6556\n",
      "\n",
      "Epoch 00013: val_categorical_accuracy improved from 0.64636 to 0.65556, saving model to /external_drive/MRI_Deep_Learning/methylation_models/dicom_t1_axials_windowed_tumour_seg_noaug/weights-improvement-13-0.66.hdf5\n",
      "Epoch 14/50\n",
      "104/104 [==============================] - 39s 376ms/step - loss: 0.0783 - categorical_accuracy: 0.9687 - val_loss: 1.4285 - val_categorical_accuracy: 0.5861\n",
      "\n",
      "Epoch 00014: val_categorical_accuracy did not improve from 0.65556\n",
      "Epoch 15/50\n",
      "104/104 [==============================] - 39s 374ms/step - loss: 0.0728 - categorical_accuracy: 0.9716 - val_loss: 1.2403 - val_categorical_accuracy: 0.6438\n",
      "\n",
      "Epoch 00015: val_categorical_accuracy did not improve from 0.65556\n",
      "Epoch 16/50\n",
      "104/104 [==============================] - 39s 374ms/step - loss: 0.0608 - categorical_accuracy: 0.9736 - val_loss: 1.4528 - val_categorical_accuracy: 0.5805\n",
      "\n",
      "Epoch 00016: val_categorical_accuracy did not improve from 0.65556\n",
      "Epoch 17/50\n",
      "104/104 [==============================] - 39s 374ms/step - loss: 0.0483 - categorical_accuracy: 0.9796 - val_loss: 1.7825 - val_categorical_accuracy: 0.6130\n",
      "\n",
      "Epoch 00017: val_categorical_accuracy did not improve from 0.65556\n",
      "Epoch 18/50\n",
      "104/104 [==============================] - 39s 374ms/step - loss: 0.0474 - categorical_accuracy: 0.9850 - val_loss: 2.2394 - val_categorical_accuracy: 0.6091\n",
      "\n",
      "Epoch 00018: val_categorical_accuracy did not improve from 0.65556\n",
      "Epoch 19/50\n",
      "104/104 [==============================] - 39s 374ms/step - loss: 0.0750 - categorical_accuracy: 0.9778 - val_loss: 1.6896 - val_categorical_accuracy: 0.5549\n",
      "\n",
      "Epoch 00019: val_categorical_accuracy did not improve from 0.65556\n",
      "Epoch 20/50\n",
      "104/104 [==============================] - 39s 374ms/step - loss: 0.0597 - categorical_accuracy: 0.9802 - val_loss: 1.6184 - val_categorical_accuracy: 0.6053\n",
      "\n",
      "Epoch 00020: val_categorical_accuracy did not improve from 0.65556\n",
      "Epoch 21/50\n",
      "104/104 [==============================] - 39s 374ms/step - loss: 0.0576 - categorical_accuracy: 0.9808 - val_loss: 1.8773 - val_categorical_accuracy: 0.5519\n",
      "\n",
      "Epoch 00021: val_categorical_accuracy did not improve from 0.65556\n",
      "Epoch 22/50\n",
      "104/104 [==============================] - 39s 374ms/step - loss: 0.0494 - categorical_accuracy: 0.9838 - val_loss: 1.7697 - val_categorical_accuracy: 0.6134\n",
      "\n",
      "Epoch 00022: val_categorical_accuracy did not improve from 0.65556\n",
      "Epoch 23/50\n",
      "104/104 [==============================] - 39s 374ms/step - loss: 0.0765 - categorical_accuracy: 0.9742 - val_loss: 1.7117 - val_categorical_accuracy: 0.5998\n",
      "\n",
      "Epoch 00023: val_categorical_accuracy did not improve from 0.65556\n",
      "Epoch 24/50\n",
      "104/104 [==============================] - 39s 374ms/step - loss: 0.0590 - categorical_accuracy: 0.9796 - val_loss: 1.8379 - val_categorical_accuracy: 0.6025\n",
      "\n",
      "Epoch 00024: val_categorical_accuracy did not improve from 0.65556\n",
      "Epoch 25/50\n",
      "104/104 [==============================] - 39s 374ms/step - loss: 0.0378 - categorical_accuracy: 0.9880 - val_loss: 1.9967 - val_categorical_accuracy: 0.5861\n",
      "\n",
      "Epoch 00025: val_categorical_accuracy did not improve from 0.65556\n",
      "Epoch 26/50\n",
      "104/104 [==============================] - 39s 375ms/step - loss: 0.0620 - categorical_accuracy: 0.9820 - val_loss: 1.8785 - val_categorical_accuracy: 0.6235\n",
      "\n",
      "Epoch 00026: val_categorical_accuracy did not improve from 0.65556\n",
      "Epoch 27/50\n",
      "104/104 [==============================] - 39s 374ms/step - loss: 0.0458 - categorical_accuracy: 0.9874 - val_loss: 1.4317 - val_categorical_accuracy: 0.6153\n",
      "\n",
      "Epoch 00027: val_categorical_accuracy did not improve from 0.65556\n",
      "Epoch 28/50\n",
      "104/104 [==============================] - 39s 374ms/step - loss: 0.0419 - categorical_accuracy: 0.9904 - val_loss: 2.0940 - val_categorical_accuracy: 0.6216\n",
      "\n",
      "Epoch 00028: val_categorical_accuracy did not improve from 0.65556\n",
      "Epoch 29/50\n",
      "104/104 [==============================] - 39s 374ms/step - loss: 0.0568 - categorical_accuracy: 0.9832 - val_loss: 1.9337 - val_categorical_accuracy: 0.6134\n",
      "\n",
      "Epoch 00029: val_categorical_accuracy did not improve from 0.65556\n",
      "Epoch 30/50\n",
      "104/104 [==============================] - 39s 374ms/step - loss: 0.0642 - categorical_accuracy: 0.9756 - val_loss: 2.3973 - val_categorical_accuracy: 0.5654\n"
     ]
    },
    {
     "name": "stdout",
     "output_type": "stream",
     "text": [
      "\n",
      "Epoch 00030: val_categorical_accuracy did not improve from 0.65556\n",
      "Epoch 31/50\n",
      "104/104 [==============================] - 39s 374ms/step - loss: 0.0727 - categorical_accuracy: 0.9759 - val_loss: 1.7068 - val_categorical_accuracy: 0.6091\n",
      "\n",
      "Epoch 00031: val_categorical_accuracy did not improve from 0.65556\n",
      "Epoch 32/50\n",
      "104/104 [==============================] - 39s 374ms/step - loss: 0.0406 - categorical_accuracy: 0.9850 - val_loss: 2.3121 - val_categorical_accuracy: 0.6315\n",
      "\n",
      "Epoch 00032: val_categorical_accuracy did not improve from 0.65556\n",
      "Epoch 33/50\n",
      "104/104 [==============================] - 39s 374ms/step - loss: 0.0201 - categorical_accuracy: 0.9916 - val_loss: 3.1266 - val_categorical_accuracy: 0.6147\n",
      "\n",
      "Epoch 00033: val_categorical_accuracy did not improve from 0.65556\n",
      "Epoch 34/50\n",
      "104/104 [==============================] - 39s 374ms/step - loss: 0.0247 - categorical_accuracy: 0.9921 - val_loss: 3.0074 - val_categorical_accuracy: 0.5790\n",
      "\n",
      "Epoch 00034: val_categorical_accuracy did not improve from 0.65556\n",
      "Epoch 35/50\n",
      "104/104 [==============================] - 39s 374ms/step - loss: 0.0318 - categorical_accuracy: 0.9868 - val_loss: 2.0776 - val_categorical_accuracy: 0.5842\n",
      "\n",
      "Epoch 00035: val_categorical_accuracy did not improve from 0.65556\n",
      "Epoch 36/50\n",
      "104/104 [==============================] - 39s 374ms/step - loss: 0.0365 - categorical_accuracy: 0.9850 - val_loss: 2.0878 - val_categorical_accuracy: 0.6444\n",
      "\n",
      "Epoch 00036: val_categorical_accuracy did not improve from 0.65556\n",
      "Epoch 37/50\n",
      "104/104 [==============================] - 39s 374ms/step - loss: 0.0118 - categorical_accuracy: 0.9946 - val_loss: 2.4714 - val_categorical_accuracy: 0.6047\n",
      "\n",
      "Epoch 00037: val_categorical_accuracy did not improve from 0.65556\n",
      "Epoch 38/50\n",
      "104/104 [==============================] - 39s 374ms/step - loss: 0.0240 - categorical_accuracy: 0.9934 - val_loss: 2.9201 - val_categorical_accuracy: 0.5747\n",
      "\n",
      "Epoch 00038: val_categorical_accuracy did not improve from 0.65556\n",
      "Epoch 39/50\n",
      "104/104 [==============================] - 39s 374ms/step - loss: 0.0365 - categorical_accuracy: 0.9933 - val_loss: 2.6851 - val_categorical_accuracy: 0.6128\n",
      "\n",
      "Epoch 00039: val_categorical_accuracy did not improve from 0.65556\n",
      "Epoch 40/50\n",
      "104/104 [==============================] - 39s 374ms/step - loss: 0.0517 - categorical_accuracy: 0.9850 - val_loss: 1.6284 - val_categorical_accuracy: 0.6790\n",
      "\n",
      "Epoch 00040: val_categorical_accuracy improved from 0.65556 to 0.67901, saving model to /external_drive/MRI_Deep_Learning/methylation_models/dicom_t1_axials_windowed_tumour_seg_noaug/weights-improvement-40-0.68.hdf5\n",
      "Epoch 41/50\n",
      "104/104 [==============================] - 39s 374ms/step - loss: 0.0501 - categorical_accuracy: 0.9850 - val_loss: 2.2536 - val_categorical_accuracy: 0.5823\n",
      "\n",
      "Epoch 00041: val_categorical_accuracy did not improve from 0.67901\n",
      "Epoch 42/50\n",
      "104/104 [==============================] - 39s 374ms/step - loss: 0.0379 - categorical_accuracy: 0.9880 - val_loss: 2.2640 - val_categorical_accuracy: 0.6389\n",
      "\n",
      "Epoch 00042: val_categorical_accuracy did not improve from 0.67901\n",
      "Epoch 43/50\n",
      "104/104 [==============================] - 39s 375ms/step - loss: 0.0217 - categorical_accuracy: 0.9928 - val_loss: 2.8987 - val_categorical_accuracy: 0.6532\n",
      "\n",
      "Epoch 00043: val_categorical_accuracy did not improve from 0.67901\n",
      "Epoch 44/50\n",
      "104/104 [==============================] - 39s 375ms/step - loss: 0.0257 - categorical_accuracy: 0.9928 - val_loss: 3.3442 - val_categorical_accuracy: 0.5648\n",
      "\n",
      "Epoch 00044: val_categorical_accuracy did not improve from 0.67901\n",
      "Epoch 45/50\n",
      "104/104 [==============================] - 39s 374ms/step - loss: 0.0235 - categorical_accuracy: 0.9940 - val_loss: 1.9538 - val_categorical_accuracy: 0.6408\n",
      "\n",
      "Epoch 00045: val_categorical_accuracy did not improve from 0.67901\n",
      "Epoch 46/50\n",
      "104/104 [==============================] - 39s 374ms/step - loss: 0.0229 - categorical_accuracy: 0.9922 - val_loss: 2.2444 - val_categorical_accuracy: 0.6047\n",
      "\n",
      "Epoch 00046: val_categorical_accuracy did not improve from 0.67901\n",
      "Epoch 47/50\n",
      "104/104 [==============================] - 39s 377ms/step - loss: 0.0211 - categorical_accuracy: 0.9910 - val_loss: 2.6645 - val_categorical_accuracy: 0.6191\n",
      "\n",
      "Epoch 00047: val_categorical_accuracy did not improve from 0.67901\n",
      "Epoch 48/50\n",
      "104/104 [==============================] - 39s 376ms/step - loss: 0.0251 - categorical_accuracy: 0.9940 - val_loss: 2.5615 - val_categorical_accuracy: 0.6283\n",
      "\n",
      "Epoch 00048: val_categorical_accuracy did not improve from 0.67901\n",
      "Epoch 49/50\n",
      "104/104 [==============================] - 39s 376ms/step - loss: 0.0340 - categorical_accuracy: 0.9910 - val_loss: 1.8294 - val_categorical_accuracy: 0.6543\n",
      "\n",
      "Epoch 00049: val_categorical_accuracy did not improve from 0.67901\n",
      "Epoch 50/50\n",
      "104/104 [==============================] - 39s 375ms/step - loss: 0.0213 - categorical_accuracy: 0.9916 - val_loss: 2.0802 - val_categorical_accuracy: 0.6103\n",
      "\n",
      "Epoch 00050: val_categorical_accuracy did not improve from 0.67901\n"
     ]
    }
   ],
   "source": [
    "history = resnet50.fit_generator(training_set_generator, validation_data = validation_set_generator, steps_per_epoch=train_steps_per_epoch, validation_steps=val_steps_per_epoch, epochs = nepochs, callbacks=callbacks_list, verbose=True)"
   ]
  },
  {
   "cell_type": "code",
   "execution_count": 25,
   "metadata": {},
   "outputs": [
    {
     "data": {
      "image/png": "[encoded data removed]",
      "text/plain": [
       "<Figure size 1152x288 with 2 Axes>"
      ]
     },
     "metadata": {},
     "output_type": "display_data"
    }
   ],
   "source": [
    "accuracy = list(history.history.get('categorical_accuracy'))\n",
    "val_accuracy = list(history.history.get('val_categorical_accuracy'))\n",
    "\n",
    "fig = plt.figure(figsize=(16,4))\n",
    "\n",
    "plt.subplot(1,2,1)\n",
    "plt.title('categorical_accuracy')\n",
    "plt.xlabel('epoch')\n",
    "plt.plot(accuracy)\n",
    "\n",
    "plt.subplot(1,2,2)\n",
    "plt.title('val_categorical_accuracy')\n",
    "plt.xlabel('epoch')\n",
    "plt.plot(val_accuracy)\n",
    "\n",
    "plt.show()"
   ]
  },
  {
   "cell_type": "code",
   "execution_count": 24,
   "metadata": {},
   "outputs": [],
   "source": [
    "from keras.models import load_model\n",
    "model = 'dicom_t1_axials_windowed_tumour_seg_noaug'\n",
    "model_name = 'weights-improvement-40-0.68.hdf5'\n",
    "             \n",
    "model_dir = str(Path('methylation_models/{}/{}'.format(model, model_name)).absolute())\n",
    "\n",
    "trained_methylation_model = load_model(model_dir)"
   ]
  },
  {
   "cell_type": "code",
   "execution_count": 27,
   "metadata": {},
   "outputs": [
    {
     "name": "stdout",
     "output_type": "stream",
     "text": [
      "predicting on sequence : /external_drive/MRI_Deep_Learning/Methylation/data/TCGA-GBM/TCGA-02-0086/07-25-1999-MRI BRAIN WWO CONTR-49848/6-AX T1-94367\n"
     ]
    },
    {
     "name": "stderr",
     "output_type": "stream",
     "text": [
      "/home/ec2-user/anaconda3/envs/tensorflow_p36/lib/python3.6/site-packages/pydicom/filereader.py:313: UserWarning: Expected explicit VR, but found implicit VR - using implicit VR for reading\n",
      "  warnings.warn(message, UserWarning)\n"
     ]
    },
    {
     "name": "stdout",
     "output_type": "stream",
     "text": [
      "predicting on sequence : /external_drive/MRI_Deep_Learning/Methylation/data/TCGA-GBM/TCGA-02-0034/07-27-1997-MRI BRAIN WWO CONTRAMR-39956/12-AX T1-46175\n",
      "predicting on sequence : /external_drive/MRI_Deep_Learning/Methylation/data/TCGA-GBM/TCGA-14-1794/04-11-1998-MRI BRAIN WWO CONT-42545/701-BRAIN      T1 AX PRE-53019\n",
      "predicting on sequence : /external_drive/MRI_Deep_Learning/Methylation/data/TCGA-GBM/TCGA-19-5951/09-14-2003-NR MRI BRAIN WWO-33278/6-TIR T1 AX-11679\n",
      "predicting on sequence : /external_drive/MRI_Deep_Learning/Methylation/data/TCGA-GBM/TCGA-12-1598/08-23-1999-MRI BRAIN-61414/5-T1AX-03736\n",
      "predicting on sequence : /external_drive/MRI_Deep_Learning/Methylation/data/TCGA-GBM/TCGA-06-0139/11-09-2004-53123/8-AX T1 pre gd-59524\n",
      "predicting on sequence : /external_drive/MRI_Deep_Learning/Methylation/data/TCGA-GBM/TCGA-02-0011/02-01-1998-MRI BRAIN WWO CONTRAMR-31709/5-AX T1-75594\n",
      "predicting on sequence : /external_drive/MRI_Deep_Learning/Methylation/data/TCGA-GBM/TCGA-06-0133/07-28-2005-41762/8-AX T1 pre gd-98773\n",
      "predicting on sequence : /external_drive/MRI_Deep_Learning/Methylation/data/TCGA-GBM/TCGA-06-5417/09-03-2008-MRI BRAIN WWO CONTRAST-20551/7-AX T1 pre gd-88614\n",
      "predicting on sequence : /external_drive/MRI_Deep_Learning/Methylation/data/TCGA-GBM/TCGA-76-6661/12-08-2001-MRIA  BRAIN CONTRAST JHN-34840/1301-T1 AX SE-53382\n",
      "predicting on sequence : /external_drive/MRI_Deep_Learning/Methylation/data/TCGA-GBM/TCGA-06-1084/09-17-2007-17434/7-AXIAL T1-60686\n",
      "predicting on sequence : /external_drive/MRI_Deep_Learning/Methylation/data/TCGA-GBM/TCGA-12-1602/03-04-2001-MRI BRAIN-38341/6-AX SE T1-40804\n",
      "predicting on sequence : /external_drive/MRI_Deep_Learning/Methylation/data/TCGA-GBM/TCGA-06-0133/10-05-2005-89983/8-AX T1 pre gd-79321\n",
      "predicting on sequence : /external_drive/MRI_Deep_Learning/Methylation/data/TCGA-GBM/TCGA-76-6662/12-13-2001-MRI BRAIN WITH-86043/1001-T1 AX SE-51871\n",
      "predicting on sequence : /external_drive/MRI_Deep_Learning/Methylation/data/TCGA-GBM/TCGA-19-2631/03-02-2003-NR MRI BRAIN WWO-07216/7-MRHR T1 AX-30547\n"
     ]
    }
   ],
   "source": [
    "##RESNET\n",
    "methylation_pred = []\n",
    "\n",
    "frame_lvl_conf = []\n",
    "video_lvl_conf = []\n",
    "\n",
    "frame_lvl_methylation_preds = []\n",
    "ground_truth = []\n",
    "\n",
    "methylation_status = ['True', 'False']\n",
    "\n",
    "idx = 0\n",
    "\n",
    "for index, row in val_set.iterrows():\n",
    "    print('predicting on sequence : {}'.format(row['modality_path']))\n",
    "    mri_vid = []\n",
    "    for brain_slice in os.listdir(row['modality_path']):\n",
    "        if str(brain_slice) in row['frames_with_tumour']:\n",
    "            dcm = pydicom.dcmread(os.path.join(row['modality_path'],brain_slice))\n",
    "            try:\n",
    "                img = dcm.pixel_array*dcm.RescaleSlope+dcm.RescaleIntercept\n",
    "            except:\n",
    "                img = dcm.pixel_array                    \n",
    "            if (np.mean(img)<20) & (np.std(img)<20):\n",
    "                pass\n",
    "            else:\n",
    "                img = cv2.resize(img,(128,128))\n",
    "                img = img/np.std(img)                \n",
    "#                 img = (img - np.mean(img))/np.std(img)\n",
    "                mri_vid.append(img.reshape(img.shape + (1,)))                \n",
    "    mri_vid = np.array(mri_vid)\n",
    "    preds = trained_methylation_model.predict(mri_vid)                 \n",
    "    frame_lvl_max_pred = []                   \n",
    "    frame_lvl_methylation_pred = []\n",
    "    for frame_lvl_preds in preds:\n",
    "        frame_lvl_max_pred.append(max(frame_lvl_preds))\n",
    "        frame_lvl_methylation_pred.append(methylation_status[np.where(frame_lvl_preds==max(frame_lvl_preds))[0][0]])  \n",
    "\n",
    "    frame_lvl_conf.append(frame_lvl_max_pred)\n",
    "    frame_lvl_methylation_preds.append(frame_lvl_methylation_pred)\n",
    "\n",
    "    ground_truth.append(row['methylation_status'])\n",
    "    methylation_pred.append(Counter(frame_lvl_methylation_pred).most_common(1)[0][0])\n",
    "#     if 'True' in frame_lvl_methylation_pred:\n",
    "#         methylation_pred.append('True')\n",
    "#     else:\n",
    "#         methylation_pred.append('False')\n",
    "    video_lvl_conf.append(Counter(frame_lvl_methylation_pred).most_common(1)[0][1]/len(frame_lvl_methylation_pred))\n",
    "    idx +=1\n",
    "    if idx%100==0:\n",
    "        print('predicted on {} vids'.format(idx))"
   ]
  },
  {
   "cell_type": "code",
   "execution_count": 28,
   "metadata": {},
   "outputs": [],
   "source": [
    "prediction_results = pd.DataFrame(columns=['methylation_pred','ground_truth','frame_lvl_conf','video_lvl_conf','max_probs','frame_lvl_methylation_preds'])\n",
    "\n",
    "prediction_results['methylation_pred'] =  methylation_pred \n",
    "prediction_results['ground_truth'] =  ground_truth \n",
    "\n",
    "prediction_results['frame_lvl_conf'] =  frame_lvl_conf \n",
    "prediction_results['video_lvl_conf'] =  video_lvl_conf \n",
    "\n",
    "prediction_results['frame_lvl_methylation_preds'] =  frame_lvl_methylation_preds \n"
   ]
  },
  {
   "cell_type": "code",
   "execution_count": 33,
   "metadata": {},
   "outputs": [
    {
     "name": "stdout",
     "output_type": "stream",
     "text": [
      "video level accuracy-->\n"
     ]
    },
    {
     "data": {
      "text/plain": [
       "0.8"
      ]
     },
     "execution_count": 33,
     "metadata": {},
     "output_type": "execute_result"
    }
   ],
   "source": [
    "print('video level accuracy-->')\n",
    "len(np.where(prediction_results['methylation_pred'] == prediction_results['ground_truth'])[0])/len(prediction_results)"
   ]
  },
  {
   "cell_type": "code",
   "execution_count": 34,
   "metadata": {},
   "outputs": [
    {
     "name": "stdout",
     "output_type": "stream",
     "text": [
      "video level true positive-->\n"
     ]
    },
    {
     "data": {
      "text/plain": [
       "0.75"
      ]
     },
     "execution_count": 34,
     "metadata": {},
     "output_type": "execute_result"
    }
   ],
   "source": [
    "print('video level true positive-->')\n",
    "methylation_present_gt = prediction_results.loc[prediction_results['ground_truth']=='True']\n",
    "len(np.where(methylation_present_gt['methylation_pred']=='True')[0])/len(methylation_present_gt)"
   ]
  },
  {
   "cell_type": "code",
   "execution_count": 35,
   "metadata": {},
   "outputs": [
    {
     "name": "stdout",
     "output_type": "stream",
     "text": [
      "video level true negative-->\n"
     ]
    },
    {
     "data": {
      "text/plain": [
       "0.8571428571428571"
      ]
     },
     "execution_count": 35,
     "metadata": {},
     "output_type": "execute_result"
    }
   ],
   "source": [
    "print('video level true negative-->')\n",
    "methylation_not_present_gt = prediction_results.loc[prediction_results['ground_truth']=='False']\n",
    "len(np.where(methylation_not_present_gt['methylation_pred']=='False')[0])/len(methylation_not_present_gt)"
   ]
  },
  {
   "cell_type": "code",
   "execution_count": null,
   "metadata": {},
   "outputs": [],
   "source": []
  }
 ],
 "metadata": {
  "kernelspec": {
   "display_name": "Environment (conda_tensorflow_p36)",
   "language": "python",
   "name": "conda_tensorflow_p36"
  },
  "language_info": {
   "codemirror_mode": {
    "name": "ipython",
    "version": 3
   },
   "file_extension": ".py",
   "mimetype": "text/x-python",
   "name": "python",
   "nbconvert_exporter": "python",
   "pygments_lexer": "ipython3",
   "version": "3.6.5"
  }
 },
 "nbformat": 4,
 "nbformat_minor": 2
}
