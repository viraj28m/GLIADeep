{
 "cells": [
  {
   "cell_type": "code",
   "execution_count": 1,
   "metadata": {},
   "outputs": [
    {
     "name": "stderr",
     "output_type": "stream",
     "text": [
      "Using TensorFlow backend.\n"
     ]
    }
   ],
   "source": [
    "import pandas as pd\n",
    "import os\n",
    "import numpy as np\n",
    "import keras as K\n",
    "import pydicom\n",
    "import cv2\n",
    "from pathlib import Path\n",
    "import matplotlib\n",
    "matplotlib.use('Agg')\n",
    "from matplotlib import pyplot as plt\n",
    "from PIL import Image"
   ]
  },
  {
   "cell_type": "markdown",
   "metadata": {},
   "source": [
    "**READ IN PATIENT INFO**"
   ]
  },
  {
   "cell_type": "code",
   "execution_count": 2,
   "metadata": {},
   "outputs": [
    {
     "name": "stderr",
     "output_type": "stream",
     "text": [
      "/home/ec2-user/anaconda3/envs/tensorflow_p36/lib/python3.6/site-packages/IPython/core/interactiveshell.py:2785: DtypeWarning: Columns (8,9,10,11,23,25,27,39) have mixed types. Specify dtype option on import or set low_memory=False.\n",
      "  interactivity=interactivity, compiler=compiler, result=result)\n"
     ]
    }
   ],
   "source": [
    "#Read \n",
    "patient_info = pd.read_csv(Path('Methylation/patient_info.csv').absolute())"
   ]
  },
  {
   "cell_type": "code",
   "execution_count": 3,
   "metadata": {},
   "outputs": [],
   "source": [
    "patient_info = patient_info[['Patient ID','modality_path','GivenModalityForThisStudy','ModalityName']].groupby(['Patient ID','modality_path','GivenModalityForThisStudy']).count().reset_index()\n",
    "patient_info = patient_info.rename(columns={'ModalityName': 'count'})\n",
    "patient_info = patient_info.drop_duplicates('modality_path')"
   ]
  },
  {
   "cell_type": "code",
   "execution_count": 4,
   "metadata": {},
   "outputs": [
    {
     "data": {
      "text/plain": [
       "131"
      ]
     },
     "execution_count": 4,
     "metadata": {},
     "output_type": "execute_result"
    }
   ],
   "source": [
    "len(patient_info.loc[patient_info['GivenModalityForThisStudy']=='t1'])"
   ]
  },
  {
   "cell_type": "code",
   "execution_count": 5,
   "metadata": {},
   "outputs": [],
   "source": [
    "from custom_metrics import dice_coef, soft_dice_coef, dice_coef_loss, combined_dice_ce_loss"
   ]
  },
  {
   "cell_type": "code",
   "execution_count": 6,
   "metadata": {},
   "outputs": [],
   "source": [
    "custom_objects = {\n",
    "\"combined_dice_ce_loss\": combined_dice_ce_loss,\n",
    "\"dice_coef_loss\": dice_coef_loss,\n",
    "\"dice_coef\": dice_coef,\n",
    "\"soft_dice_coef\": soft_dice_coef}"
   ]
  },
  {
   "cell_type": "markdown",
   "metadata": {},
   "source": [
    "**LOAD TRAINED BRATS UNET MODEL**"
   ]
  },
  {
   "cell_type": "code",
   "execution_count": 7,
   "metadata": {},
   "outputs": [],
   "source": [
    "import keras as K\n",
    "unet_model = K.models.load_model(str(Path('unet/2D/output/unet_model_for_decathlon.hdf5').absolute()), custom_objects=custom_objects)"
   ]
  },
  {
   "cell_type": "code",
   "execution_count": 8,
   "metadata": {},
   "outputs": [],
   "source": [
    "input_channels = {\n",
    "     \"flair\": 0,\n",
    "     \"t1\": 1,\n",
    "     \"t1Gd\": 2,\n",
    "     \"t2\": 3\n",
    " }"
   ]
  },
  {
   "cell_type": "code",
   "execution_count": 9,
   "metadata": {},
   "outputs": [],
   "source": [
    "#Subset T1\n",
    "patient_info_t1 = patient_info.loc[patient_info['GivenModalityForThisStudy']=='t1']"
   ]
  },
  {
   "cell_type": "code",
   "execution_count": 10,
   "metadata": {},
   "outputs": [
    {
     "data": {
      "text/html": [
       "<div>\n",
       "<style scoped>\n",
       "    .dataframe tbody tr th:only-of-type {\n",
       "        vertical-align: middle;\n",
       "    }\n",
       "\n",
       "    .dataframe tbody tr th {\n",
       "        vertical-align: top;\n",
       "    }\n",
       "\n",
       "    .dataframe thead th {\n",
       "        text-align: right;\n",
       "    }\n",
       "</style>\n",
       "<table border=\"1\" class=\"dataframe\">\n",
       "  <thead>\n",
       "    <tr style=\"text-align: right;\">\n",
       "      <th></th>\n",
       "      <th>Patient ID</th>\n",
       "      <th>modality_path</th>\n",
       "      <th>GivenModalityForThisStudy</th>\n",
       "      <th>count</th>\n",
       "    </tr>\n",
       "  </thead>\n",
       "  <tbody>\n",
       "    <tr>\n",
       "      <th>0</th>\n",
       "      <td>TCGA-02-0003</td>\n",
       "      <td>/external_drive/MRI_methylation/Methylation/da...</td>\n",
       "      <td>t2</td>\n",
       "      <td>25</td>\n",
       "    </tr>\n",
       "    <tr>\n",
       "      <th>1</th>\n",
       "      <td>TCGA-02-0003</td>\n",
       "      <td>/external_drive/MRI_methylation/Methylation/da...</td>\n",
       "      <td>flair</td>\n",
       "      <td>25</td>\n",
       "    </tr>\n",
       "    <tr>\n",
       "      <th>2</th>\n",
       "      <td>TCGA-02-0003</td>\n",
       "      <td>/external_drive/MRI_methylation/Methylation/da...</td>\n",
       "      <td>t1</td>\n",
       "      <td>25</td>\n",
       "    </tr>\n",
       "    <tr>\n",
       "      <th>3</th>\n",
       "      <td>TCGA-02-0003</td>\n",
       "      <td>/external_drive/MRI_methylation/Methylation/da...</td>\n",
       "      <td>t1Gd</td>\n",
       "      <td>25</td>\n",
       "    </tr>\n",
       "    <tr>\n",
       "      <th>4</th>\n",
       "      <td>TCGA-02-0006</td>\n",
       "      <td>/external_drive/MRI_methylation/Methylation/da...</td>\n",
       "      <td>t2</td>\n",
       "      <td>23</td>\n",
       "    </tr>\n",
       "  </tbody>\n",
       "</table>\n",
       "</div>"
      ],
      "text/plain": [
       "     Patient ID                                      modality_path  \\\n",
       "0  TCGA-02-0003  /external_drive/MRI_methylation/Methylation/da...   \n",
       "1  TCGA-02-0003  /external_drive/MRI_methylation/Methylation/da...   \n",
       "2  TCGA-02-0003  /external_drive/MRI_methylation/Methylation/da...   \n",
       "3  TCGA-02-0003  /external_drive/MRI_methylation/Methylation/da...   \n",
       "4  TCGA-02-0006  /external_drive/MRI_methylation/Methylation/da...   \n",
       "\n",
       "  GivenModalityForThisStudy  count  \n",
       "0                        t2     25  \n",
       "1                     flair     25  \n",
       "2                        t1     25  \n",
       "3                      t1Gd     25  \n",
       "4                        t2     23  "
      ]
     },
     "execution_count": 10,
     "metadata": {},
     "output_type": "execute_result"
    }
   ],
   "source": [
    "patient_info.head()"
   ]
  },
  {
   "cell_type": "markdown",
   "metadata": {},
   "source": [
    "**USE TRAINED UNET TO PREDICT ON TCGA DATA**"
   ]
  },
  {
   "cell_type": "code",
   "execution_count": 11,
   "metadata": {},
   "outputs": [
    {
     "name": "stderr",
     "output_type": "stream",
     "text": [
      "/home/ec2-user/anaconda3/envs/tensorflow_p36/lib/python3.6/site-packages/matplotlib/pyplot.py:537: RuntimeWarning: More than 20 figures have been opened. Figures created through the pyplot interface (`matplotlib.pyplot.figure`) are retained until explicitly closed and may consume too much memory. (To control this warning, see the rcParam `figure.max_open_warning`).\n",
      "  max_open_warning, RuntimeWarning)\n",
      "/home/ec2-user/anaconda3/envs/tensorflow_p36/lib/python3.6/site-packages/pydicom/filereader.py:313: UserWarning: Expected explicit VR, but found implicit VR - using implicit VR for reading\n",
      "  warnings.warn(message, UserWarning)\n"
     ]
    }
   ],
   "source": [
    "frames_with_tumour = []\n",
    "for idx, row in patient_info_t1.iterrows():\n",
    "    MRI_vid = []\n",
    "    patient_frames_w_tumour = []\n",
    "    for dicom in os.listdir(row['modality_path']):\n",
    "        dcm = pydicom.dcmread(os.path.join(row['modality_path'],dicom))\n",
    "        img = dcm.pixel_array\n",
    "        try:\n",
    "            img = dcm.pixel_array*dcm.RescaleSlope+dcm.RescaleIntercept\n",
    "        except:\n",
    "            pass\n",
    "        try:\n",
    "            min_value, max_value = dcm.WindowCenter - dcm.WindowWidth/2, dcm.WindowCenter + dcm.WindowWidth/2\n",
    "            img[img < min_value] = min_value\n",
    "            img[img > max_value] = max_value\n",
    "        except:\n",
    "            pass\n",
    "#         img = cv2.resize(img, (144,144))\n",
    "        if (np.mean(img)<20) & (np.std(img)<20):\n",
    "            pass\n",
    "        else:\n",
    "            original_img = img.astype(np.float32)\n",
    "            img = (img - np.mean(img))/np.std(img)\n",
    "            img = img.reshape(img.shape+(1,))\n",
    "            pred = unet_model.predict(np.array([img]))[0,:,:,0]\n",
    "            tumour_size = len(np.where(pred.flatten()>0.5)[0])\n",
    "#             if tumour_size>(0.01*dcm.pixel_array.shape[0]*dcm.pixel_array.shape[1]):\n",
    "            if tumour_size>0:\n",
    "                patient_frames_w_tumour.append(dicom)\n",
    "            #Save images to disk\n",
    "            if tumour_size>0:\n",
    "                mask = np.where(pred>0.5,np.max(original_img.flatten()),0.0).astype(np.float32)\n",
    "                plt.figure(figsize=(10, 6.67))\n",
    "                plt.subplot(1, 2, 1)\n",
    "                plt.imshow(original_img, cmap=\"bone\", origin=\"lower\")\n",
    "                plt.title(\"MRI\")\n",
    "                plt.axis(\"off\")\n",
    "                plt.subplot(1, 2, 2)\n",
    "                plt.imshow(mask, origin=\"lower\")\n",
    "                plt.title(\"Prediction\")\n",
    "                plt.axis(\"off\")\n",
    "                os.makedirs(row['modality_path'].replace('TCGA-GBM','TCGA-GBM-tumour-mask'),exist_ok=True)\n",
    "                plt.savefig(os.path.join(row['modality_path'].replace('TCGA-GBM','TCGA-GBM-tumour-mask'),\n",
    "                                     dicom.replace('dcm','jpg')), bbox_inches='tight')                    \n",
    "#                 overlayed_mask = cv2.addWeighted(original_img,1.0,mask,0.5,0.0).astype(np.uint8)\n",
    "#                 im = Image.fromarray(overlayed_mask)\n",
    "#                 im.save(os.path.join(row['modality_path'].replace('TCGA-GBM','TCGA-GBM-tumour-mask'),\n",
    "#                                      dicom.replace('dcm','jpg')))             \n",
    "    frames_with_tumour.append(sorted(patient_frames_w_tumour))"
   ]
  },
  {
   "cell_type": "code",
   "execution_count": 12,
   "metadata": {},
   "outputs": [
    {
     "name": "stderr",
     "output_type": "stream",
     "text": [
      "/home/ec2-user/anaconda3/envs/tensorflow_p36/lib/python3.6/site-packages/ipykernel/__main__.py:1: SettingWithCopyWarning: \n",
      "A value is trying to be set on a copy of a slice from a DataFrame.\n",
      "Try using .loc[row_indexer,col_indexer] = value instead\n",
      "\n",
      "See the caveats in the documentation: http://pandas.pydata.org/pandas-docs/stable/indexing.html#indexing-view-versus-copy\n",
      "  if __name__ == '__main__':\n"
     ]
    }
   ],
   "source": [
    "patient_info_t1['frames_with_tumour'] = frames_with_tumour"
   ]
  },
  {
   "cell_type": "code",
   "execution_count": 13,
   "metadata": {},
   "outputs": [
    {
     "data": {
      "text/html": [
       "<div>\n",
       "<style scoped>\n",
       "    .dataframe tbody tr th:only-of-type {\n",
       "        vertical-align: middle;\n",
       "    }\n",
       "\n",
       "    .dataframe tbody tr th {\n",
       "        vertical-align: top;\n",
       "    }\n",
       "\n",
       "    .dataframe thead th {\n",
       "        text-align: right;\n",
       "    }\n",
       "</style>\n",
       "<table border=\"1\" class=\"dataframe\">\n",
       "  <thead>\n",
       "    <tr style=\"text-align: right;\">\n",
       "      <th></th>\n",
       "      <th>Patient ID</th>\n",
       "      <th>modality_path</th>\n",
       "      <th>GivenModalityForThisStudy</th>\n",
       "      <th>count</th>\n",
       "      <th>frames_with_tumour</th>\n",
       "    </tr>\n",
       "  </thead>\n",
       "  <tbody>\n",
       "    <tr>\n",
       "      <th>2</th>\n",
       "      <td>TCGA-02-0003</td>\n",
       "      <td>/external_drive/MRI_methylation/Methylation/da...</td>\n",
       "      <td>t1</td>\n",
       "      <td>25</td>\n",
       "      <td>[000000.dcm, 000001.dcm, 000002.dcm, 000003.dc...</td>\n",
       "    </tr>\n",
       "    <tr>\n",
       "      <th>6</th>\n",
       "      <td>TCGA-02-0006</td>\n",
       "      <td>/external_drive/MRI_methylation/Methylation/da...</td>\n",
       "      <td>t1</td>\n",
       "      <td>23</td>\n",
       "      <td>[000000.dcm, 000001.dcm, 000002.dcm, 000003.dc...</td>\n",
       "    </tr>\n",
       "    <tr>\n",
       "      <th>10</th>\n",
       "      <td>TCGA-02-0009</td>\n",
       "      <td>/external_drive/MRI_methylation/Methylation/da...</td>\n",
       "      <td>t1</td>\n",
       "      <td>23</td>\n",
       "      <td>[000000.dcm, 000001.dcm, 000002.dcm, 000003.dc...</td>\n",
       "    </tr>\n",
       "    <tr>\n",
       "      <th>14</th>\n",
       "      <td>TCGA-02-0011</td>\n",
       "      <td>/external_drive/MRI_methylation/Methylation/da...</td>\n",
       "      <td>t1</td>\n",
       "      <td>23</td>\n",
       "      <td>[000000.dcm, 000001.dcm, 000002.dcm, 000003.dc...</td>\n",
       "    </tr>\n",
       "    <tr>\n",
       "      <th>18</th>\n",
       "      <td>TCGA-02-0033</td>\n",
       "      <td>/external_drive/MRI_methylation/Methylation/da...</td>\n",
       "      <td>t1</td>\n",
       "      <td>23</td>\n",
       "      <td>[000000.dcm, 000001.dcm, 000002.dcm, 000003.dc...</td>\n",
       "    </tr>\n",
       "  </tbody>\n",
       "</table>\n",
       "</div>"
      ],
      "text/plain": [
       "      Patient ID                                      modality_path  \\\n",
       "2   TCGA-02-0003  /external_drive/MRI_methylation/Methylation/da...   \n",
       "6   TCGA-02-0006  /external_drive/MRI_methylation/Methylation/da...   \n",
       "10  TCGA-02-0009  /external_drive/MRI_methylation/Methylation/da...   \n",
       "14  TCGA-02-0011  /external_drive/MRI_methylation/Methylation/da...   \n",
       "18  TCGA-02-0033  /external_drive/MRI_methylation/Methylation/da...   \n",
       "\n",
       "   GivenModalityForThisStudy  count  \\\n",
       "2                         t1     25   \n",
       "6                         t1     23   \n",
       "10                        t1     23   \n",
       "14                        t1     23   \n",
       "18                        t1     23   \n",
       "\n",
       "                                   frames_with_tumour  \n",
       "2   [000000.dcm, 000001.dcm, 000002.dcm, 000003.dc...  \n",
       "6   [000000.dcm, 000001.dcm, 000002.dcm, 000003.dc...  \n",
       "10  [000000.dcm, 000001.dcm, 000002.dcm, 000003.dc...  \n",
       "14  [000000.dcm, 000001.dcm, 000002.dcm, 000003.dc...  \n",
       "18  [000000.dcm, 000001.dcm, 000002.dcm, 000003.dc...  "
      ]
     },
     "execution_count": 13,
     "metadata": {},
     "output_type": "execute_result"
    }
   ],
   "source": [
    "patient_info_t1.head()"
   ]
  },
  {
   "cell_type": "markdown",
   "metadata": {},
   "source": [
    "**SUBSET PATIENT INFO TO INCLUDE ONLY T1 PATIENTS AND SAVE TO DISK**"
   ]
  },
  {
   "cell_type": "code",
   "execution_count": 14,
   "metadata": {},
   "outputs": [],
   "source": [
    "patient_info_t1.to_pickle(str(Path('Methylation/patient_info_t1.pickle').absolute()))"
   ]
  },
  {
   "cell_type": "code",
   "execution_count": null,
   "metadata": {},
   "outputs": [],
   "source": []
  }
 ],
 "metadata": {
  "kernelspec": {
   "display_name": "Environment (conda_tensorflow_p36)",
   "language": "python",
   "name": "conda_tensorflow_p36"
  },
  "language_info": {
   "codemirror_mode": {
    "name": "ipython",
    "version": 3
   },
   "file_extension": ".py",
   "mimetype": "text/x-python",
   "name": "python",
   "nbconvert_exporter": "python",
   "pygments_lexer": "ipython3",
   "version": "3.6.5"
  }
 },
 "nbformat": 4,
 "nbformat_minor": 2
}
